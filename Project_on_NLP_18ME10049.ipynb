{
  "nbformat": 4,
  "nbformat_minor": 0,
  "metadata": {
    "colab": {
      "name": "Project_on_NLP_18ME10049.ipynb",
      "provenance": [],
      "collapsed_sections": [],
      "include_colab_link": true
    },
    "kernelspec": {
      "name": "python3",
      "display_name": "Python 3"
    },
    "accelerator": "GPU",
    "widgets": {
      "application/vnd.jupyter.widget-state+json": {
        "7209512830344caa8693b0b159d97846": {
          "model_module": "@jupyter-widgets/controls",
          "model_name": "HBoxModel",
          "state": {
            "_view_name": "HBoxView",
            "_dom_classes": [],
            "_model_name": "HBoxModel",
            "_view_module": "@jupyter-widgets/controls",
            "_model_module_version": "1.5.0",
            "_view_count": null,
            "_view_module_version": "1.5.0",
            "box_style": "",
            "layout": "IPY_MODEL_c970aefd1526484dabcc6367f0cd3cd3",
            "_model_module": "@jupyter-widgets/controls",
            "children": [
              "IPY_MODEL_b12dec54cdf34bb78e269672b828fadf",
              "IPY_MODEL_9ce8e3eff7d94b24b0288aed28dc907b"
            ]
          }
        },
        "c970aefd1526484dabcc6367f0cd3cd3": {
          "model_module": "@jupyter-widgets/base",
          "model_name": "LayoutModel",
          "state": {
            "_view_name": "LayoutView",
            "grid_template_rows": null,
            "right": null,
            "justify_content": null,
            "_view_module": "@jupyter-widgets/base",
            "overflow": null,
            "_model_module_version": "1.2.0",
            "_view_count": null,
            "flex_flow": null,
            "width": null,
            "min_width": null,
            "border": null,
            "align_items": null,
            "bottom": null,
            "_model_module": "@jupyter-widgets/base",
            "top": null,
            "grid_column": null,
            "overflow_y": null,
            "overflow_x": null,
            "grid_auto_flow": null,
            "grid_area": null,
            "grid_template_columns": null,
            "flex": null,
            "_model_name": "LayoutModel",
            "justify_items": null,
            "grid_row": null,
            "max_height": null,
            "align_content": null,
            "visibility": null,
            "align_self": null,
            "height": null,
            "min_height": null,
            "padding": null,
            "grid_auto_rows": null,
            "grid_gap": null,
            "max_width": null,
            "order": null,
            "_view_module_version": "1.2.0",
            "grid_template_areas": null,
            "object_position": null,
            "object_fit": null,
            "grid_auto_columns": null,
            "margin": null,
            "display": null,
            "left": null
          }
        },
        "b12dec54cdf34bb78e269672b828fadf": {
          "model_module": "@jupyter-widgets/controls",
          "model_name": "FloatProgressModel",
          "state": {
            "_view_name": "ProgressView",
            "style": "IPY_MODEL_20dbfc11cb4e48ad896de5fe7ca643cf",
            "_dom_classes": [],
            "description": "Downloading: 100%",
            "_model_name": "FloatProgressModel",
            "bar_style": "success",
            "max": 231508,
            "_view_module": "@jupyter-widgets/controls",
            "_model_module_version": "1.5.0",
            "value": 231508,
            "_view_count": null,
            "_view_module_version": "1.5.0",
            "orientation": "horizontal",
            "min": 0,
            "description_tooltip": null,
            "_model_module": "@jupyter-widgets/controls",
            "layout": "IPY_MODEL_5335d2bf0dde490db381224c25287de4"
          }
        },
        "9ce8e3eff7d94b24b0288aed28dc907b": {
          "model_module": "@jupyter-widgets/controls",
          "model_name": "HTMLModel",
          "state": {
            "_view_name": "HTMLView",
            "style": "IPY_MODEL_d19cd20bfea94e43974f3ef7d8392a82",
            "_dom_classes": [],
            "description": "",
            "_model_name": "HTMLModel",
            "placeholder": "​",
            "_view_module": "@jupyter-widgets/controls",
            "_model_module_version": "1.5.0",
            "value": " 232k/232k [00:00&lt;00:00, 797kB/s]",
            "_view_count": null,
            "_view_module_version": "1.5.0",
            "description_tooltip": null,
            "_model_module": "@jupyter-widgets/controls",
            "layout": "IPY_MODEL_5c331a2c1fd14425bcdd48a489ae34b2"
          }
        },
        "20dbfc11cb4e48ad896de5fe7ca643cf": {
          "model_module": "@jupyter-widgets/controls",
          "model_name": "ProgressStyleModel",
          "state": {
            "_view_name": "StyleView",
            "_model_name": "ProgressStyleModel",
            "description_width": "initial",
            "_view_module": "@jupyter-widgets/base",
            "_model_module_version": "1.5.0",
            "_view_count": null,
            "_view_module_version": "1.2.0",
            "bar_color": null,
            "_model_module": "@jupyter-widgets/controls"
          }
        },
        "5335d2bf0dde490db381224c25287de4": {
          "model_module": "@jupyter-widgets/base",
          "model_name": "LayoutModel",
          "state": {
            "_view_name": "LayoutView",
            "grid_template_rows": null,
            "right": null,
            "justify_content": null,
            "_view_module": "@jupyter-widgets/base",
            "overflow": null,
            "_model_module_version": "1.2.0",
            "_view_count": null,
            "flex_flow": null,
            "width": null,
            "min_width": null,
            "border": null,
            "align_items": null,
            "bottom": null,
            "_model_module": "@jupyter-widgets/base",
            "top": null,
            "grid_column": null,
            "overflow_y": null,
            "overflow_x": null,
            "grid_auto_flow": null,
            "grid_area": null,
            "grid_template_columns": null,
            "flex": null,
            "_model_name": "LayoutModel",
            "justify_items": null,
            "grid_row": null,
            "max_height": null,
            "align_content": null,
            "visibility": null,
            "align_self": null,
            "height": null,
            "min_height": null,
            "padding": null,
            "grid_auto_rows": null,
            "grid_gap": null,
            "max_width": null,
            "order": null,
            "_view_module_version": "1.2.0",
            "grid_template_areas": null,
            "object_position": null,
            "object_fit": null,
            "grid_auto_columns": null,
            "margin": null,
            "display": null,
            "left": null
          }
        },
        "d19cd20bfea94e43974f3ef7d8392a82": {
          "model_module": "@jupyter-widgets/controls",
          "model_name": "DescriptionStyleModel",
          "state": {
            "_view_name": "StyleView",
            "_model_name": "DescriptionStyleModel",
            "description_width": "",
            "_view_module": "@jupyter-widgets/base",
            "_model_module_version": "1.5.0",
            "_view_count": null,
            "_view_module_version": "1.2.0",
            "_model_module": "@jupyter-widgets/controls"
          }
        },
        "5c331a2c1fd14425bcdd48a489ae34b2": {
          "model_module": "@jupyter-widgets/base",
          "model_name": "LayoutModel",
          "state": {
            "_view_name": "LayoutView",
            "grid_template_rows": null,
            "right": null,
            "justify_content": null,
            "_view_module": "@jupyter-widgets/base",
            "overflow": null,
            "_model_module_version": "1.2.0",
            "_view_count": null,
            "flex_flow": null,
            "width": null,
            "min_width": null,
            "border": null,
            "align_items": null,
            "bottom": null,
            "_model_module": "@jupyter-widgets/base",
            "top": null,
            "grid_column": null,
            "overflow_y": null,
            "overflow_x": null,
            "grid_auto_flow": null,
            "grid_area": null,
            "grid_template_columns": null,
            "flex": null,
            "_model_name": "LayoutModel",
            "justify_items": null,
            "grid_row": null,
            "max_height": null,
            "align_content": null,
            "visibility": null,
            "align_self": null,
            "height": null,
            "min_height": null,
            "padding": null,
            "grid_auto_rows": null,
            "grid_gap": null,
            "max_width": null,
            "order": null,
            "_view_module_version": "1.2.0",
            "grid_template_areas": null,
            "object_position": null,
            "object_fit": null,
            "grid_auto_columns": null,
            "margin": null,
            "display": null,
            "left": null
          }
        },
        "6cded29e809448f7893af0a2aee78665": {
          "model_module": "@jupyter-widgets/controls",
          "model_name": "HBoxModel",
          "state": {
            "_view_name": "HBoxView",
            "_dom_classes": [],
            "_model_name": "HBoxModel",
            "_view_module": "@jupyter-widgets/controls",
            "_model_module_version": "1.5.0",
            "_view_count": null,
            "_view_module_version": "1.5.0",
            "box_style": "",
            "layout": "IPY_MODEL_5a063fb01ff348a392a4cdb791169c9f",
            "_model_module": "@jupyter-widgets/controls",
            "children": [
              "IPY_MODEL_355a59f0b8e5453eb4364ae5d9c51f83",
              "IPY_MODEL_11703df4615d4b6f956b8be834ae741e"
            ]
          }
        },
        "5a063fb01ff348a392a4cdb791169c9f": {
          "model_module": "@jupyter-widgets/base",
          "model_name": "LayoutModel",
          "state": {
            "_view_name": "LayoutView",
            "grid_template_rows": null,
            "right": null,
            "justify_content": null,
            "_view_module": "@jupyter-widgets/base",
            "overflow": null,
            "_model_module_version": "1.2.0",
            "_view_count": null,
            "flex_flow": null,
            "width": null,
            "min_width": null,
            "border": null,
            "align_items": null,
            "bottom": null,
            "_model_module": "@jupyter-widgets/base",
            "top": null,
            "grid_column": null,
            "overflow_y": null,
            "overflow_x": null,
            "grid_auto_flow": null,
            "grid_area": null,
            "grid_template_columns": null,
            "flex": null,
            "_model_name": "LayoutModel",
            "justify_items": null,
            "grid_row": null,
            "max_height": null,
            "align_content": null,
            "visibility": null,
            "align_self": null,
            "height": null,
            "min_height": null,
            "padding": null,
            "grid_auto_rows": null,
            "grid_gap": null,
            "max_width": null,
            "order": null,
            "_view_module_version": "1.2.0",
            "grid_template_areas": null,
            "object_position": null,
            "object_fit": null,
            "grid_auto_columns": null,
            "margin": null,
            "display": null,
            "left": null
          }
        },
        "355a59f0b8e5453eb4364ae5d9c51f83": {
          "model_module": "@jupyter-widgets/controls",
          "model_name": "FloatProgressModel",
          "state": {
            "_view_name": "ProgressView",
            "style": "IPY_MODEL_609b8db0f1fe4db4972f81bfe01d70d7",
            "_dom_classes": [],
            "description": "Downloading: 100%",
            "_model_name": "FloatProgressModel",
            "bar_style": "success",
            "max": 433,
            "_view_module": "@jupyter-widgets/controls",
            "_model_module_version": "1.5.0",
            "value": 433,
            "_view_count": null,
            "_view_module_version": "1.5.0",
            "orientation": "horizontal",
            "min": 0,
            "description_tooltip": null,
            "_model_module": "@jupyter-widgets/controls",
            "layout": "IPY_MODEL_c90d072e643042c2b8f3241489544df3"
          }
        },
        "11703df4615d4b6f956b8be834ae741e": {
          "model_module": "@jupyter-widgets/controls",
          "model_name": "HTMLModel",
          "state": {
            "_view_name": "HTMLView",
            "style": "IPY_MODEL_6af74c00f98f4db4a93d8722022fcaa4",
            "_dom_classes": [],
            "description": "",
            "_model_name": "HTMLModel",
            "placeholder": "​",
            "_view_module": "@jupyter-widgets/controls",
            "_model_module_version": "1.5.0",
            "value": " 433/433 [00:00&lt;00:00, 1.36kB/s]",
            "_view_count": null,
            "_view_module_version": "1.5.0",
            "description_tooltip": null,
            "_model_module": "@jupyter-widgets/controls",
            "layout": "IPY_MODEL_4e7e2edc5f5c48b48eb06a804b98639a"
          }
        },
        "609b8db0f1fe4db4972f81bfe01d70d7": {
          "model_module": "@jupyter-widgets/controls",
          "model_name": "ProgressStyleModel",
          "state": {
            "_view_name": "StyleView",
            "_model_name": "ProgressStyleModel",
            "description_width": "initial",
            "_view_module": "@jupyter-widgets/base",
            "_model_module_version": "1.5.0",
            "_view_count": null,
            "_view_module_version": "1.2.0",
            "bar_color": null,
            "_model_module": "@jupyter-widgets/controls"
          }
        },
        "c90d072e643042c2b8f3241489544df3": {
          "model_module": "@jupyter-widgets/base",
          "model_name": "LayoutModel",
          "state": {
            "_view_name": "LayoutView",
            "grid_template_rows": null,
            "right": null,
            "justify_content": null,
            "_view_module": "@jupyter-widgets/base",
            "overflow": null,
            "_model_module_version": "1.2.0",
            "_view_count": null,
            "flex_flow": null,
            "width": null,
            "min_width": null,
            "border": null,
            "align_items": null,
            "bottom": null,
            "_model_module": "@jupyter-widgets/base",
            "top": null,
            "grid_column": null,
            "overflow_y": null,
            "overflow_x": null,
            "grid_auto_flow": null,
            "grid_area": null,
            "grid_template_columns": null,
            "flex": null,
            "_model_name": "LayoutModel",
            "justify_items": null,
            "grid_row": null,
            "max_height": null,
            "align_content": null,
            "visibility": null,
            "align_self": null,
            "height": null,
            "min_height": null,
            "padding": null,
            "grid_auto_rows": null,
            "grid_gap": null,
            "max_width": null,
            "order": null,
            "_view_module_version": "1.2.0",
            "grid_template_areas": null,
            "object_position": null,
            "object_fit": null,
            "grid_auto_columns": null,
            "margin": null,
            "display": null,
            "left": null
          }
        },
        "6af74c00f98f4db4a93d8722022fcaa4": {
          "model_module": "@jupyter-widgets/controls",
          "model_name": "DescriptionStyleModel",
          "state": {
            "_view_name": "StyleView",
            "_model_name": "DescriptionStyleModel",
            "description_width": "",
            "_view_module": "@jupyter-widgets/base",
            "_model_module_version": "1.5.0",
            "_view_count": null,
            "_view_module_version": "1.2.0",
            "_model_module": "@jupyter-widgets/controls"
          }
        },
        "4e7e2edc5f5c48b48eb06a804b98639a": {
          "model_module": "@jupyter-widgets/base",
          "model_name": "LayoutModel",
          "state": {
            "_view_name": "LayoutView",
            "grid_template_rows": null,
            "right": null,
            "justify_content": null,
            "_view_module": "@jupyter-widgets/base",
            "overflow": null,
            "_model_module_version": "1.2.0",
            "_view_count": null,
            "flex_flow": null,
            "width": null,
            "min_width": null,
            "border": null,
            "align_items": null,
            "bottom": null,
            "_model_module": "@jupyter-widgets/base",
            "top": null,
            "grid_column": null,
            "overflow_y": null,
            "overflow_x": null,
            "grid_auto_flow": null,
            "grid_area": null,
            "grid_template_columns": null,
            "flex": null,
            "_model_name": "LayoutModel",
            "justify_items": null,
            "grid_row": null,
            "max_height": null,
            "align_content": null,
            "visibility": null,
            "align_self": null,
            "height": null,
            "min_height": null,
            "padding": null,
            "grid_auto_rows": null,
            "grid_gap": null,
            "max_width": null,
            "order": null,
            "_view_module_version": "1.2.0",
            "grid_template_areas": null,
            "object_position": null,
            "object_fit": null,
            "grid_auto_columns": null,
            "margin": null,
            "display": null,
            "left": null
          }
        },
        "7c24b4bf912142318803f0e7536ce906": {
          "model_module": "@jupyter-widgets/controls",
          "model_name": "HBoxModel",
          "state": {
            "_view_name": "HBoxView",
            "_dom_classes": [],
            "_model_name": "HBoxModel",
            "_view_module": "@jupyter-widgets/controls",
            "_model_module_version": "1.5.0",
            "_view_count": null,
            "_view_module_version": "1.5.0",
            "box_style": "",
            "layout": "IPY_MODEL_997effac66b34e11ad0d610330c9cb26",
            "_model_module": "@jupyter-widgets/controls",
            "children": [
              "IPY_MODEL_ff68bd70e747482b84b628d71ae435b6",
              "IPY_MODEL_7f90f6b191f64507be282cbb108aba50"
            ]
          }
        },
        "997effac66b34e11ad0d610330c9cb26": {
          "model_module": "@jupyter-widgets/base",
          "model_name": "LayoutModel",
          "state": {
            "_view_name": "LayoutView",
            "grid_template_rows": null,
            "right": null,
            "justify_content": null,
            "_view_module": "@jupyter-widgets/base",
            "overflow": null,
            "_model_module_version": "1.2.0",
            "_view_count": null,
            "flex_flow": null,
            "width": null,
            "min_width": null,
            "border": null,
            "align_items": null,
            "bottom": null,
            "_model_module": "@jupyter-widgets/base",
            "top": null,
            "grid_column": null,
            "overflow_y": null,
            "overflow_x": null,
            "grid_auto_flow": null,
            "grid_area": null,
            "grid_template_columns": null,
            "flex": null,
            "_model_name": "LayoutModel",
            "justify_items": null,
            "grid_row": null,
            "max_height": null,
            "align_content": null,
            "visibility": null,
            "align_self": null,
            "height": null,
            "min_height": null,
            "padding": null,
            "grid_auto_rows": null,
            "grid_gap": null,
            "max_width": null,
            "order": null,
            "_view_module_version": "1.2.0",
            "grid_template_areas": null,
            "object_position": null,
            "object_fit": null,
            "grid_auto_columns": null,
            "margin": null,
            "display": null,
            "left": null
          }
        },
        "ff68bd70e747482b84b628d71ae435b6": {
          "model_module": "@jupyter-widgets/controls",
          "model_name": "FloatProgressModel",
          "state": {
            "_view_name": "ProgressView",
            "style": "IPY_MODEL_a061c6d8a1b24df3879574cac22e033b",
            "_dom_classes": [],
            "description": "Downloading: 100%",
            "_model_name": "FloatProgressModel",
            "bar_style": "success",
            "max": 440473133,
            "_view_module": "@jupyter-widgets/controls",
            "_model_module_version": "1.5.0",
            "value": 440473133,
            "_view_count": null,
            "_view_module_version": "1.5.0",
            "orientation": "horizontal",
            "min": 0,
            "description_tooltip": null,
            "_model_module": "@jupyter-widgets/controls",
            "layout": "IPY_MODEL_484df65963f7409fb1abd03d4641ac77"
          }
        },
        "7f90f6b191f64507be282cbb108aba50": {
          "model_module": "@jupyter-widgets/controls",
          "model_name": "HTMLModel",
          "state": {
            "_view_name": "HTMLView",
            "style": "IPY_MODEL_fc9d698571dd4fcba8295187fdbed2bc",
            "_dom_classes": [],
            "description": "",
            "_model_name": "HTMLModel",
            "placeholder": "​",
            "_view_module": "@jupyter-widgets/controls",
            "_model_module_version": "1.5.0",
            "value": " 440M/440M [00:06&lt;00:00, 68.2MB/s]",
            "_view_count": null,
            "_view_module_version": "1.5.0",
            "description_tooltip": null,
            "_model_module": "@jupyter-widgets/controls",
            "layout": "IPY_MODEL_b9e107b7c8e1438b8aea556fceb8d039"
          }
        },
        "a061c6d8a1b24df3879574cac22e033b": {
          "model_module": "@jupyter-widgets/controls",
          "model_name": "ProgressStyleModel",
          "state": {
            "_view_name": "StyleView",
            "_model_name": "ProgressStyleModel",
            "description_width": "initial",
            "_view_module": "@jupyter-widgets/base",
            "_model_module_version": "1.5.0",
            "_view_count": null,
            "_view_module_version": "1.2.0",
            "bar_color": null,
            "_model_module": "@jupyter-widgets/controls"
          }
        },
        "484df65963f7409fb1abd03d4641ac77": {
          "model_module": "@jupyter-widgets/base",
          "model_name": "LayoutModel",
          "state": {
            "_view_name": "LayoutView",
            "grid_template_rows": null,
            "right": null,
            "justify_content": null,
            "_view_module": "@jupyter-widgets/base",
            "overflow": null,
            "_model_module_version": "1.2.0",
            "_view_count": null,
            "flex_flow": null,
            "width": null,
            "min_width": null,
            "border": null,
            "align_items": null,
            "bottom": null,
            "_model_module": "@jupyter-widgets/base",
            "top": null,
            "grid_column": null,
            "overflow_y": null,
            "overflow_x": null,
            "grid_auto_flow": null,
            "grid_area": null,
            "grid_template_columns": null,
            "flex": null,
            "_model_name": "LayoutModel",
            "justify_items": null,
            "grid_row": null,
            "max_height": null,
            "align_content": null,
            "visibility": null,
            "align_self": null,
            "height": null,
            "min_height": null,
            "padding": null,
            "grid_auto_rows": null,
            "grid_gap": null,
            "max_width": null,
            "order": null,
            "_view_module_version": "1.2.0",
            "grid_template_areas": null,
            "object_position": null,
            "object_fit": null,
            "grid_auto_columns": null,
            "margin": null,
            "display": null,
            "left": null
          }
        },
        "fc9d698571dd4fcba8295187fdbed2bc": {
          "model_module": "@jupyter-widgets/controls",
          "model_name": "DescriptionStyleModel",
          "state": {
            "_view_name": "StyleView",
            "_model_name": "DescriptionStyleModel",
            "description_width": "",
            "_view_module": "@jupyter-widgets/base",
            "_model_module_version": "1.5.0",
            "_view_count": null,
            "_view_module_version": "1.2.0",
            "_model_module": "@jupyter-widgets/controls"
          }
        },
        "b9e107b7c8e1438b8aea556fceb8d039": {
          "model_module": "@jupyter-widgets/base",
          "model_name": "LayoutModel",
          "state": {
            "_view_name": "LayoutView",
            "grid_template_rows": null,
            "right": null,
            "justify_content": null,
            "_view_module": "@jupyter-widgets/base",
            "overflow": null,
            "_model_module_version": "1.2.0",
            "_view_count": null,
            "flex_flow": null,
            "width": null,
            "min_width": null,
            "border": null,
            "align_items": null,
            "bottom": null,
            "_model_module": "@jupyter-widgets/base",
            "top": null,
            "grid_column": null,
            "overflow_y": null,
            "overflow_x": null,
            "grid_auto_flow": null,
            "grid_area": null,
            "grid_template_columns": null,
            "flex": null,
            "_model_name": "LayoutModel",
            "justify_items": null,
            "grid_row": null,
            "max_height": null,
            "align_content": null,
            "visibility": null,
            "align_self": null,
            "height": null,
            "min_height": null,
            "padding": null,
            "grid_auto_rows": null,
            "grid_gap": null,
            "max_width": null,
            "order": null,
            "_view_module_version": "1.2.0",
            "grid_template_areas": null,
            "object_position": null,
            "object_fit": null,
            "grid_auto_columns": null,
            "margin": null,
            "display": null,
            "left": null
          }
        }
      }
    }
  },
  "cells": [
    {
      "cell_type": "markdown",
      "metadata": {
        "id": "view-in-github",
        "colab_type": "text"
      },
      "source": [
        "<a href=\"https://colab.research.google.com/github/18ME10049/18ME10049/blob/main/Project_on_NLP_18ME10049.ipynb\" target=\"_parent\"><img src=\"https://colab.research.google.com/assets/colab-badge.svg\" alt=\"Open In Colab\"/></a>"
      ]
    },
    {
      "cell_type": "markdown",
      "metadata": {
        "id": "zyJ25uz0kSaw"
      },
      "source": [
        "\n",
        "\n",
        "\n",
        "# Project  on Natural Language Processing\n",
        "\n",
        "## Duration : 15th Nov - 10 Dec, 2020\n",
        "\n",
        "### Instructor : Prof. Sudeshna Sarkar\n",
        "\n",
        "### Teaching Assistants : Alapan Kuila, Aniruddha Roy, Anusha Potnuru, Uppada Vishnu"
      ]
    },
    {
      "cell_type": "markdown",
      "metadata": {
        "id": "Ao1nhg9RknmF"
      },
      "source": [
        "The central idea of this Project is to explore various language models specifically LSTM based and transformer. We will explore how the size of the model effects the sequence generated. We will see both character based and word based models.\n",
        "\n"
      ]
    },
    {
      "cell_type": "markdown",
      "metadata": {
        "id": "IXdkhxZAXnTW"
      },
      "source": [
        "# Word Based LSTM model"
      ]
    },
    {
      "cell_type": "code",
      "metadata": {
        "id": "FbU5DRolXseI"
      },
      "source": [
        "from keras.models import Sequential\n",
        "from keras.layers import Dense\n",
        "from keras.layers import Dropout\n",
        "from keras.layers import LSTM\n",
        "from keras.layers import Embedding\n",
        "from keras.layers import Bidirectional\n",
        "from keras.callbacks import ModelCheckpoint\n",
        "from keras.utils import np_utils\n",
        "import numpy\n",
        "import re\n",
        "import pandas as pd\n",
        "import numpy as np\n",
        "from sklearn.model_selection import train_test_split\n",
        "from keras.preprocessing.text import Tokenizer\n",
        "from keras.preprocessing.sequence import pad_sequences\n",
        "import keras"
      ],
      "execution_count": 2,
      "outputs": []
    },
    {
      "cell_type": "markdown",
      "metadata": {
        "id": "d2NR3RFFYOT8"
      },
      "source": [
        "Do basic pre processing which includes lowering etc\n",
        "Check the dataset and apply suitable preprocessing."
      ]
    },
    {
      "cell_type": "code",
      "metadata": {
        "id": "iQvfF2NjXxGj"
      },
      "source": [
        "# Load the data and preprocess data and store corpus in raw_text\n",
        "# Load the data and preprocess data and store corpus in raw_text\n",
        "with open('corpus (2).txt','r',encoding=\"utf8\") as file:\n",
        "    data = file.read()\n",
        "file.close()\n",
        "\n",
        "raw_text = data.lower()"
      ],
      "execution_count": 4,
      "outputs": []
    },
    {
      "cell_type": "code",
      "metadata": {
        "id": "qPHuRkEPZH_W"
      },
      "source": [
        "import string\r\n",
        "def  clean_my_corpos(doc):\r\n",
        "\r\n",
        "    doc = doc.replace('”', '\"')\r\n",
        "    doc = doc.replace('“', '\"')\r\n",
        "    doc = doc.replace('_',\"\")\r\n",
        "    doc = doc.replace(';','.')\r\n",
        "    doc = doc.replace('—','')\r\n",
        "    return doc"
      ],
      "execution_count": 41,
      "outputs": []
    },
    {
      "cell_type": "code",
      "metadata": {
        "id": "SdXcWFxu6nEc"
      },
      "source": [
        "my_text = clean_my_corpos(raw_text)\r\n"
      ],
      "execution_count": 141,
      "outputs": []
    },
    {
      "cell_type": "code",
      "metadata": {
        "id": "eug68GOecM8Z"
      },
      "source": [
        "# Hyperparameters of the model\n",
        "vocab_size = 3000 # choose based on statistics\n",
        "oov_tok = '<OOV>'\n",
        "embedding_dim = 100\n",
        "padding_type='post'\n",
        "trunc_type='post'"
      ],
      "execution_count": 45,
      "outputs": []
    },
    {
      "cell_type": "code",
      "metadata": {
        "colab": {
          "base_uri": "https://localhost:8080/",
          "height": 120
        },
        "id": "IqQahpWIe6y-",
        "outputId": "ae14e5e3-149e-49f6-8819-a6211307c1eb"
      },
      "source": [
        "my_text"
      ],
      "execution_count": 48,
      "outputs": [
        {
          "output_type": "execute_result",
          "data": {
            "application/vnd.google.colaboratory.intrinsic+json": {
              "type": "string"
            },
            "text/plain": [
              "'chapter i.\\ndown the rabbit-hole alice was beginning to get very tired of sitting by her sister on the bank, and of having nothing to do: once or twice she had peeped into the book her sister was reading, but it had no pictures or conversations in it, \"and what is the use of a book,\" thought alice \"without pictures or conversations?\" so she was considering in her own mind (as well as she could, for the hot day made her feel very sleepy and stupid), whether the pleasure of making a daisy-chain would be worth the trouble of getting up and picking the daisies, when suddenly a white rabbit with pink eyes ran close by her.\\nthere was nothing so very remarkable in that. nor did alice think it so very much out of the way to hear the rabbit say to itself, \"oh dear!\\noh dear!\\ni shall be late!\" (when she thought it over afterwards, it occurred to her that she ought to have wondered at this, but at the time it all seemed quite natural). but when the rabbit actually took a watch out of its waistcoat-pocket, and looked at it, and then hurried on, alice started to her feet, for it flashed across her mind that she had never before seen a rabbit with either a waistcoat-pocket, or a watch to take out of it, and burning with curiosity, she ran across the field after it, and fortunately was just in time to see it pop down a large rabbit-hole under the hedge.\\nin another moment down went alice after it, never once considering how in the world she was to get out again.\\nthe rabbit-hole went straight on like a tunnel for some way, and then dipped suddenly down, so suddenly that alice had not a moment to think about stopping herself before she found herself falling down a very deep well.\\neither the well was very deep, or she fell very slowly, for she had plenty of time as she went down to look about her and to wonder what was going to happen next.\\nfirst, she tried to look down and make out what she was coming to, but it was too dark to see anything. then she looked at the sides of the well, and noticed that they were filled with cupboards and book-shelves. here and there she saw maps and pictures hung upon pegs.\\nshe took down a jar from one of the shelves as she passed. it was labelled \"orange marmalade\", but to her great disappointment it was empty: she did not like to drop the jar for fear of killing somebody underneath, so managed to put it into one of the cupboards as she fell past it.\\n\"well!\" thought alice to herself, \"after such a fall as this, i shall think nothing of tumbling down stairs!\\nhow brave they’ll all think me at home!\\nwhy, i wouldn’t say anything about it, even if i fell off the top of the house!\" (which was very likely true.)\\ndown, down, down.\\nwould the fall never come to an end?\\n\"i wonder how many miles i’ve fallen by this time?\" she said aloud.\\n\"i must be getting somewhere near the centre of the earth.\\nlet me see: that would be four thousand miles down, i think\" (for, you see, alice had learnt several things of this sort in her lessons in the schoolroom, and though this was not a very good opportunity for showing off her knowledge, as there was no one to listen to her, still it was good practice to say it over) \"yes, that’s about the right distancebut then i wonder what latitude or longitude i’ve got to?\" (alice had no idea what latitude was, or longitude either, but thought they were nice grand words to say.)\\npresently she began again.\\n\"i wonder if i shall fall right through the earth!\\nhow funny it’ll seem to come out among the people that walk with their heads downward!\\nthe antipathies, i think\" (she was rather glad there was no one listening, this time, as it didn’t sound at all the right word) \"but i shall have to ask them what the name of the country is, you know.\\nplease, ma’am, is this new zealand or australia?\" (and she tried to curtsey as she spokefancy curtseying as you’re falling through the air!\\ndo you think you could manage it?)\\n\"and what an ignorant little girl she’ll think me for asking!\\nno, it’ll never do to ask: perhaps i shall see it written up somewhere.\" down, down, down.\\nthere was nothing else to do, so alice soon began talking again.\\n\"dinah’ll miss me very much to-night, i should think!\" (dinah was the cat.)\\n\"i hope they’ll remember her saucer of milk at tea-time.\\ndinah my dear!\\ni wish you were down here with me!\\nthere are no mice in the air, i’m afraid, but you might catch a bat, and that’s very like a mouse, you know.\\nbut do cats eat bats, i wonder?\" and here alice began to get rather sleepy, and went on saying to herself, in a dreamy sort of way, \"do cats eat bats?\\ndo cats eat bats?\" and sometimes, \"do bats eat cats?\" for, you see, as she couldn’t answer either question, it didn’t much matter which way she put it.\\nshe felt that she was dozing off, and had just begun to dream that she was walking hand in hand with dinah, and saying to her very earnestly, \"now, dinah, tell me the truth: did you ever eat a bat?\" when suddenly, thump!\\nthump!\\ndown she came upon a heap of sticks and dry leaves, and the fall was over.\\nalice was not a bit hurt, and she jumped up on to her feet in a moment: she looked up, but it was all dark overhead. before her was another long passage, and the white rabbit was still in sight, hurrying down it.\\nthere was not a moment to be lost: away went alice like the wind, and was just in time to hear it say, as it turned a corner, \"oh my ears and whiskers, how late it’s getting!\" she was close behind it when she turned the corner, but the rabbit was no longer to be seen: she found herself in a long, low hall, which was lit up by a row of lamps hanging from the roof.\\nthere were doors all round the hall, but they were all locked. and when alice had been all the way down one side and up the other, trying every door, she walked sadly down the middle, wondering how she was ever to get out again.\\nsuddenly she came upon a little three-legged table, all made of solid glass. there was nothing on it except a tiny golden key, and alice’s first thought was that it might belong to one of the doors of the hall. but, alas!\\neither the locks were too large, or the key was too small, but at any rate it would not open any of them.\\nhowever, on the second time round, she came upon a low curtain she had not noticed before, and behind it was a little door about fifteen inches high: she tried the little golden key in the lock, and to her great delight it fitted!\\nalice opened the door and found that it led into a small passage, not much larger than a rat-hole: she knelt down and looked along the passage into the loveliest garden you ever saw.\\nhow she longed to get out of that dark hall, and wander about among those beds of bright flowers and those cool fountains, but she could not even get her head through the doorway. \"and even if my head would go through,\" thought poor alice, \"it would be of very little use without my shoulders.\\noh, how i wish i could shut up like a telescope!\\ni think i could, if i only knew how to begin.\" for, you see, so many out-of-the-way things had happened lately, that alice had begun to think that very few things indeed were really impossible.\\nthere seemed to be no use in waiting by the little door, so she went back to the table, half hoping she might find another key on it, or at any rate a book of rules for shutting people up like telescopes: this time she found a little bottle on it, (\"which certainly was not here before,\" said alice,) and round the neck of the bottle was a paper label, with the words \"drink me,\" beautifully printed on it in large letters.\\nit was all very well to say \"drink me,\" but the wise little alice was not going to do that in a hurry.\\n\"no, i’ll look first,\" she said, \"and see whether it’s marked ‘poison’ or not\". for she had read several nice little histories about children who had got burnt, and eaten up by wild beasts and other unpleasant things, all because they would not remember the simple rules their friends had taught them: such as, that a red-hot poker will burn you if you hold it too long. and that if you cut your finger very deeply with a knife, it usually bleeds. and she had never forgotten that, if you drink much from a bottle marked \"poison,\" it is almost certain to disagree with you, sooner or later.\\nhowever, this bottle was not marked \"poison,\" so alice ventured to taste it, and finding it very nice, (it had, in fact, a sort of mixed flavour of cherry-tart, custard, pine-apple, roast turkey, toffee, and hot buttered toast,) she very soon finished it off.\\n\"what a curious feeling!\" said alice. \"i must be shutting up like a telescope.\" and so it was indeed: she was now only ten inches high, and her face brightened up at the thought that she was now the right size for going through the little door into that lovely garden.\\nfirst, however, she waited for a few minutes to see if she was going to shrink any further: she felt a little nervous about this. \"for it might end, you know,\" said alice to herself, \"in my going out altogether, like a candle.\\ni wonder what i should be like then?\" and she tried to fancy what the flame of a candle is like after the candle is blown out, for she could not remember ever having seen such a thing.\\nafter a while, finding that nothing more happened, she decided on going into the garden at once. but, alas for poor alice!\\nwhen she got to the door, she found she had forgotten the little golden key, and when she went back to the table for it, she found she could not possibly reach it: she could see it quite plainly through the glass, and she tried her best to climb up one of the legs of the table, but it was too slippery. and when she had tired herself out with trying, the poor little thing sat down and cried.\\n\"come, there’s no use in crying like that!\" said alice to herself, rather sharply. \"i advise you to leave off this minute!\" she generally gave herself very good advice, (though she very seldom followed it), and sometimes she scolded herself so severely as to bring tears into her eyes. and once she remembered trying to box her own ears for having cheated herself in a game of croquet she was playing against herself, for this curious child was very fond of pretending to be two people.\\n\"but it’s no use now,\" thought poor alice, \"to pretend to be two people!\\nwhy, there’s hardly enough of me left to make one respectable person!\" soon her eye fell on a little glass box that was lying under the table: she opened it, and found in it a very small cake, on which the words \"eat me\" were beautifully marked in currants.\\n\"well, i’ll eat it,\" said alice, \"and if it makes me grow larger, i can reach the key. and if it makes me grow smaller, i can creep under the door. so either way i’ll get into the garden, and i don’t care which happens!\" she ate a little bit, and said anxiously to herself, \"which way?\\nwhich way?\", holding her hand on the top of her head to feel which way it was growing, and she was quite surprised to find that she remained the same size: to be sure, this generally happens when one eats cake, but alice had got so much into the way of expecting nothing but out-of-the-way things to happen, that it seemed quite dull and stupid for life to go on in the common way.\\nso she set to work, and very soon finished off the cake.\\nchapter ii.\\nthe pool of tears \"curiouser and curiouser!\" cried alice (she was so much surprised, that for the moment she quite forgot how to speak good english). \"now i’m opening out like the largest telescope that ever was!\\ngood-bye, feet!\" (for when she looked down at her feet, they seemed to be almost out of sight, they were getting so far off).\\n\"oh, my poor little feet, i wonder who will put on your shoes and stockings for you now, dears?\\ni’m sure i shan’t be able!\\ni shall be a great deal too far off to trouble myself about you: you must manage the best way you can.but i must be kind to them,\" thought alice, \"or perhaps they won’t walk the way i want to go!\\nlet me see: i’ll give them a new pair of boots every christmas.\" and she went on planning to herself how she would manage it.\\n\"they must go by the carrier,\" she thought. \"and how funny it’ll seem, sending presents to one’s own feet!\\nand how odd the directions will look!\\nalice’s right foot, esq., hearthrug, near the fender, (with alice’s love).\\noh dear, what nonsense i’m talking!\" just then her head struck against the roof of the hall: in fact she was now more than nine feet high, and she at once took up the little golden key and hurried off to the garden door.\\npoor alice!\\nit was as much as she could do, lying down on one side, to look through into the garden with one eye. but to get through was more hopeless than ever: she sat down and began to cry again.\\n\"you ought to be ashamed of yourself,\" said alice, \"a great girl like you,\" (she might well say this), \"to go on crying in this way!\\nstop this moment, i tell you!\" but she went on all the same, shedding gallons of tears, until there was a large pool all round her, about four inches deep and reaching half down the hall.\\nafter a time she heard a little pattering of feet in the distance, and she hastily dried her eyes to see what was coming.\\nit was the white rabbit returning, splendidly dressed, with a pair of white kid gloves in one hand and a large fan in the other: he came trotting along in a great hurry, muttering to himself as he came, \"oh!\\nthe duchess, the duchess!\\noh!\\nwon’t she be savage if i’ve kept her waiting!\" alice felt so desperate that she was ready to ask help of any one. so, when the rabbit came near her, she began, in a low, timid voice, \"if you please, sir\" the rabbit started violently, dropped the white kid gloves and the fan, and skurried away into the darkness as hard as he could go.\\nalice took up the fan and gloves, and, as the hall was very hot, she kept fanning herself all the time she went on talking: \"dear, dear!\\nhow queer everything is to-day!\\nand yesterday things went on just as usual.\\ni wonder if i’ve been changed in the night?\\nlet me think: was i the same when i got up this morning?\\ni almost think i can remember feeling a little different.\\nbut if i’m not the same, the next question is, who in the world am i?\\nah, that’s the great puzzle!\" and she began thinking over all the children she knew that were of the same age as herself, to see if she could have been changed for any of them.\\n\"i’m sure i’m not ada,\" she said, \"for her hair goes in such long ringlets, and mine doesn’t go in ringlets at all. and i’m sure i can’t be mabel, for i know all sorts of things, and she, oh!\\nshe knows such a very little!\\nbesides, she’s she, and i’m i, andoh dear, how puzzling it all is!\\ni’ll try if i know all the things i used to know.\\nlet me see: four times five is twelve, and four times six is thirteen, and four times seven isoh dear!\\ni shall never get to twenty at that rate!\\nhowever, the multiplication table doesn’t signify: let’s try geography.\\nlondon is the capital of paris, and paris is the capital of rome, and romeno, that’s all wrong, i’m certain!\\ni must have been changed for mabel!\\ni’ll try and say ‘how doth the little’\" and she crossed her hands on her lap as if she were saying lessons, and began to repeat it, but her voice sounded hoarse and strange, and the words did not come the same as they used to do: \"how doth the little crocodile improve his shining tail, and pour the waters of the nile on every golden scale!\\n\"how cheerfully he seems to grin, how neatly spread his claws, and welcome little fishes in with gently smiling jaws!\" \"i’m sure those are not the right words,\" said poor alice, and her eyes filled with tears again as she went on, \"i must be mabel after all, and i shall have to go and live in that poky little house, and have next to no toys to play with, and oh!\\never so many lessons to learn!\\nno, i’ve made up my mind about it. if i’m mabel, i’ll stay down here!\\nit’ll be no use their putting their heads down and saying ‘come up again, dear!’ i shall only look up and say ‘who am i then?\\ntell me that first, and then, if i like being that person, i’ll come up: if not, i’ll stay down here till i’m somebody else’but, oh dear!\" cried alice, with a sudden burst of tears, \"i do wish they would put their heads down!\\ni am so very tired of being all alone here!\" as she said this she looked down at her hands, and was surprised to see that she had put on one of the rabbit’s little white kid gloves while she was talking.\\n\"how can i have done that?\" she thought.\\n\"i must be growing small again.\" she got up and went to the table to measure herself by it, and found that, as nearly as she could guess, she was now about two feet high, and was going on shrinking rapidly: she soon found out that the cause of this was the fan she was holding, and she dropped it hastily, just in time to avoid shrinking away altogether.\\n\"that was a narrow escape!\" said alice, a good deal frightened at the sudden change, but very glad to find herself still in existence. \"and now for the garden!\" and she ran with all speed back to the little door: but, alas!\\nthe little door was shut again, and the little golden key was lying on the glass table as before, \"and things are worse than ever,\" thought the poor child, \"for i never was so small as this before, never!\\nand i declare it’s too bad, that it is!\" as she said these words her foot slipped, and in another moment, splash!\\nshe was up to her chin in salt water.\\nher first idea was that she had somehow fallen into the sea, \"and in that case i can go back by railway,\" she said to herself.\\n(alice had been to the seaside once in her life, and had come to the general conclusion, that wherever you go to on the english coast you find a number of bathing machines in the sea, some children digging in the sand with wooden spades, then a row of lodging houses, and behind them a railway station.)\\nhowever, she soon made out that she was in the pool of tears which she had wept when she was nine feet high.\\n\"i wish i hadn’t cried so much!\" said alice, as she swam about, trying to find her way out.\\n\"i shall be punished for it now, i suppose, by being drowned in my own tears!\\nthat will be a queer thing, to be sure!\\nhowever, everything is queer to-day.\" just then she heard something splashing about in the pool a little way off, and she swam nearer to make out what it was: at first she thought it must be a walrus or hippopotamus, but then she remembered how small she was now, and she soon made out that it was only a mouse that had slipped in like herself.\\n\"would it be of any use, now,\" thought alice, \"to speak to this mouse?\\neverything is so out-of-the-way down here, that i should think very likely it can talk: at any rate, there’s no harm in trying.\" so she began: \"o mouse, do you know the way out of this pool?\\ni am very tired of swimming about here, o mouse!\" (alice thought this must be the right way of speaking to a mouse: she had never done such a thing before, but she remembered having seen in her brother’s latin grammar, \"a mouseof a mouseto a mousea mouseo mouse!\") the mouse looked at her rather inquisitively, and seemed to her to wink with one of its little eyes, but it said nothing.\\n\"perhaps it doesn’t understand english,\" thought alice. \"i daresay it’s a french mouse, come over with william the conqueror.\" (for, with all her knowledge of history, alice had no very clear notion how long ago anything had happened.)\\nso she began again: \"où est ma chatte?\" which was the first sentence in her french lesson-book.\\nthe mouse gave a sudden leap out of the water, and seemed to quiver all over with fright.\\n\"oh, i beg your pardon!\" cried alice hastily, afraid that she had hurt the poor animal’s feelings.\\n\"i quite forgot you didn’t like cats.\" \"not like cats!\" cried the mouse, in a shrill, passionate voice.\\n\"would you like cats if you were me?\" \"well, perhaps not,\" said alice in a soothing tone: \"don’t be angry about it.\\nand yet i wish i could show you our cat dinah: i think you’d take a fancy to cats if you could only see her.\\nshe is such a dear quiet thing,\" alice went on, half to herself, as she swam lazily about in the pool, \"and she sits purring so nicely by the fire, licking her paws and washing her faceand she is such a nice soft thing to nurseand she’s such a capital one for catching miceoh, i beg your pardon!\" cried alice again, for this time the mouse was bristling all over, and she felt certain it must be really offended.\\n\"we won’t talk about her any more if you’d rather not.\" \"we indeed!\" cried the mouse, who was trembling down to the end of his tail.\\n\"as if i would talk on such a subject!\\nour family always hated cats: nasty, low, vulgar things!\\ndon’t let me hear the name again!\" \"i won’t indeed!\" said alice, in a great hurry to change the subject of conversation.\\n\"are youare you fondofof dogs?\" the mouse did not answer, so alice went on eagerly: \"there is such a nice little dog near our house i should like to show you!\\na little bright-eyed terrier, you know, with oh, such long curly brown hair!\\nand it’ll fetch things when you throw them, and it’ll sit up and beg for its dinner, and all sorts of thingsi can’t remember half of themand it belongs to a farmer, you know, and he says it’s so useful, it’s worth a hundred pounds!\\nhe says it kills all the rats andoh dear!\" cried alice in a sorrowful tone, \"i’m afraid i’ve offended it again!\" for the mouse was swimming away from her as hard as it could go, and making quite a commotion in the pool as it went.\\nso she called softly after it, \"mouse dear!\\ndo come back again, and we won’t talk about cats or dogs either, if you don’t like them!\" when the mouse heard this, it turned round and swam slowly back to her: its face was quite pale (with passion, alice thought), and it said in a low trembling voice, \"let us get to the shore, and then i’ll tell you my history, and you’ll understand why it is i hate cats and dogs.\" it was high time to go, for the pool was getting quite crowded with the birds and animals that had fallen into it: there were a duck and a dodo, a lory and an eaglet, and several other curious creatures.\\nalice led the way, and the whole party swam to the shore.\\nchapter iii.\\na caucus-race and a long tale they were indeed a queer-looking party that assembled on the bankthe birds with draggled feathers, the animals with their fur clinging close to them, and all dripping wet, cross, and uncomfortable.\\nthe first question of course was, how to get dry again: they had a consultation about this, and after a few minutes it seemed quite natural to alice to find herself talking familiarly with them, as if she had known them all her life.\\nindeed, she had quite a long argument with the lory, who at last turned sulky, and would only say, \"i am older than you, and must know better.\" and this alice would not allow without knowing how old it was, and, as the lory positively refused to tell its age, there was no more to be said.\\nat last the mouse, who seemed to be a person of authority among them, called out, \"sit down, all of you, and listen to me!\\ni’ll soon make you dry enough!\" they all sat down at once, in a large ring, with the mouse in the middle.\\nalice kept her eyes anxiously fixed on it, for she felt sure she would catch a bad cold if she did not get dry very soon.\\n\"ahem!\" said the mouse with an important air, \"are you all ready?\\nthis is the driest thing i know.\\nsilence all round, if you please!\\n‘william the conqueror, whose cause was favoured by the pope, was soon submitted to by the english, who wanted leaders, and had been of late much accustomed to usurpation and conquest.\\nedwin and morcar, the earls of mercia and northumbria’\" \"ugh!\" said the lory, with a shiver.\\n\"i beg your pardon!\" said the mouse, frowning, but very politely: \"did you speak?\" \"not i!\" said the lory hastily.\\n\"i thought you did,\" said the mouse.\\n\"i proceed.\\n‘edwin and morcar, the earls of mercia and northumbria, declared for him: and even stigand, the patriotic archbishop of canterbury, found it advisable’\" \"found what?\" said the duck.\\n\"found it,\" the mouse replied rather crossly: \"of course you know what ‘it’ means.\" \"i know what ‘it’ means well enough, when i find a thing,\" said the duck: \"it’s generally a frog or a worm.\\nthe question is, what did the archbishop find?\" the mouse did not notice this question, but hurriedly went on, \"‘found it advisable to go with edgar atheling to meet william and offer him the crown.\\nwilliam’s conduct at first was moderate.\\nbut the insolence of his normans’ how are you getting on now, my dear?\" it continued, turning to alice as it spoke.\\n\"as wet as ever,\" said alice in a melancholy tone: \"it doesn’t seem to dry me at all.\" \"in that case,\" said the dodo solemnly, rising to its feet, \"i move that the meeting adjourn, for the immediate adoption of more energetic remedies\" \"speak english!\" said the eaglet.\\n\"i don’t know the meaning of half those long words, and, what’s more, i don’t believe you do either!\" and the eaglet bent down its head to hide a smile: some of the other birds tittered audibly.\\n\"what i was going to say,\" said the dodo in an offended tone, \"was, that the best thing to get us dry would be a caucus-race.\" \"what is a caucus-race?\" said alice. not that she wanted much to know, but the dodo had paused as if it thought that somebody ought to speak, and no one else seemed inclined to say anything.\\n\"why,\" said the dodo, \"the best way to explain it is to do it.\" (and, as you might like to try the thing yourself, some winter day, i will tell you how the dodo managed it.)\\nfirst it marked out a race-course, in a sort of circle, (\"the exact shape doesn’t matter,\" it said,) and then all the party were placed along the course, here and there.\\nthere was no \"one, two, three, and away,\" but they began running when they liked, and left off when they liked, so that it was not easy to know when the race was over.\\nhowever, when they had been running half an hour or so, and were quite dry again, the dodo suddenly called out \"the race is over!\" and they all crowded round it, panting, and asking, \"but who has won?\" this question the dodo could not answer without a great deal of thought, and it sat for a long time with one finger pressed upon its forehead (the position in which you usually see shakespeare, in the pictures of him), while the rest waited in silence.\\nat last the dodo said, \"everybody has won, and all must have prizes.\" \"but who is to give the prizes?\" quite a chorus of voices asked.\\n\"why, she, of course,\" said the dodo, pointing to alice with one finger. and the whole party at once crowded round her, calling out in a confused way, \"prizes!\\nprizes!\" alice had no idea what to do, and in despair she put her hand in her pocket, and pulled out a box of comfits, (luckily the salt water had not got into it), and handed them round as prizes.\\nthere was exactly one a-piece, all round.\\n\"but she must have a prize herself, you know,\" said the mouse.\\n\"of course,\" the dodo replied very gravely.\\n\"what else have you got in your pocket?\" he went on, turning to alice.\\n\"only a thimble,\" said alice sadly.\\n\"hand it over here,\" said the dodo.\\nthen they all crowded round her once more, while the dodo solemnly presented the thimble, saying \"we beg your acceptance of this elegant thimble.\" and, when it had finished this short speech, they all cheered.\\nalice thought the whole thing very absurd, but they all looked so grave that she did not dare to laugh. and, as she could not think of anything to say, she simply bowed, and took the thimble, looking as solemn as she could.\\nthe next thing was to eat the comfits: this caused some noise and confusion, as the large birds complained that they could not taste theirs, and the small ones choked and had to be patted on the back.\\nhowever, it was over at last, and they sat down again in a ring, and begged the mouse to tell them something more.\\n\"you promised to tell me your history, you know,\" said alice, \"and why it is you hatec and d,\" she added in a whisper, half afraid that it would be offended again.\\n\"mine is a long and a sad tale!\" said the mouse, turning to alice, and sighing.\\n\"it is a long tail, certainly,\" said alice, looking down with wonder at the mouse’s tail. \"but why do you call it sad?\" and she kept on puzzling about it while the mouse was speaking, so that her idea of the tale was something like this: \"fury said to a mouse, that he met in the house, ‘let us both go to law: i will prosecute you.come, i’ll take no denial. we must have a trial: for really this morning i’ve nothing to do.’ said the mouse to the cur, ‘such a trial, dear sir, with no jury or judge, would be wasting our breath.’ ‘i’ll be judge, i’ll be jury,’ said cunning old fury: ‘i’ll try the whole cause, and condemn you to death.’\" \"you are not attending!\" said the mouse to alice severely.\\n\"what are you thinking of?\" \"i beg your pardon,\" said alice very humbly: \"you had got to the fifth bend, i think?\" \"i had not!\" cried the mouse, sharply and very angrily.\\n\"a knot!\" said alice, always ready to make herself useful, and looking anxiously about her.\\n\"oh, do let me help to undo it!\" \"i shall do nothing of the sort,\" said the mouse, getting up and walking away.\\n\"you insult me by talking such nonsense!\" \"i didn’t mean it!\" pleaded poor alice.\\n\"but you’re so easily offended, you know!\" the mouse only growled in reply.\\n\"please come back and finish your story!\" alice called after it. and the others all joined in chorus, \"yes, please do!\" but the mouse only shook its head impatiently, and walked a little quicker.\\n\"what a pity it wouldn’t stay!\" sighed the lory, as soon as it was quite out of sight. and an old crab took the opportunity of saying to her daughter \"ah, my dear!\\nlet this be a lesson to you never to lose your temper!\" \"hold your tongue, ma!\" said the young crab, a little snappishly.\\n\"you’re enough to try the patience of an oyster!\" \"i wish i had our dinah here, i know i do!\" said alice aloud, addressing nobody in particular.\\n\"she’d soon fetch it back!\" \"and who is dinah, if i might venture to ask the question?\" said the lory.\\nalice replied eagerly, for she was always ready to talk about her pet: \"dinah’s our cat.\\nand she’s such a capital one for catching mice you can’t think!\\nand oh, i wish you could see her after the birds!\\nwhy, she’ll eat a little bird as soon as look at it!\" this speech caused a remarkable sensation among the party.\\nsome of the birds hurried off at once: one old magpie began wrapping itself up very carefully, remarking, \"i really must be getting home. the night-air doesn’t suit my throat!\" and a canary called out in a trembling voice to its children, \"come away, my dears!\\nit’s high time you were all in bed!\" on various pretexts they all moved off, and alice was soon left alone.\\n\"i wish i hadn’t mentioned dinah!\" she said to herself in a melancholy tone.\\n\"nobody seems to like her, down here, and i’m sure she’s the best cat in the world!\\noh, my dear dinah!\\ni wonder if i shall ever see you any more!\" and here poor alice began to cry again, for she felt very lonely and low-spirited.\\nin a little while, however, she again heard a little pattering of footsteps in the distance, and she looked up eagerly, half hoping that the mouse had changed his mind, and was coming back to finish his story.\\nchapter iv.\\nthe rabbit sends in a little bill it was the white rabbit, trotting slowly back again, and looking anxiously about as it went, as if it had lost something. and she heard it muttering to itself \"the duchess!\\nthe duchess!\\noh my dear paws!\\noh my fur and whiskers!\\nshe’ll get me executed, as sure as ferrets are ferrets!\\nwhere can i have dropped them, i wonder?\" alice guessed in a moment that it was looking for the fan and the pair of white kid gloves, and she very good-naturedly began hunting about for them, but they were nowhere to be seeneverything seemed to have changed since her swim in the pool, and the great hall, with the glass table and the little door, had vanished completely.\\nvery soon the rabbit noticed alice, as she went hunting about, and called out to her in an angry tone, \"why, mary ann, what are you doing out here?\\nrun home this moment, and fetch me a pair of gloves and a fan!\\nquick, now!\" and alice was so much frightened that she ran off at once in the direction it pointed to, without trying to explain the mistake it had made.\\n\"he took me for his housemaid,\" she said to herself as she ran.\\n\"how surprised he’ll be when he finds out who i am!\\nbut i’d better take him his fan and glovesthat is, if i can find them.\" as she said this, she came upon a neat little house, on the door of which was a bright brass plate with the name \"w.\\nrabbit,\" engraved upon it.\\nshe went in without knocking, and hurried upstairs, in great fear lest she should meet the real mary ann, and be turned out of the house before she had found the fan and gloves.\\n\"how queer it seems,\" alice said to herself, \"to be going messages for a rabbit!\\ni suppose dinah’ll be sending me on messages next!\" and she began fancying the sort of thing that would happen: \"‘miss alice!\\ncome here directly, and get ready for your walk!’ ‘coming in a minute, nurse!\\nbut i’ve got to see that the mouse doesn’t get out.’ only i don’t think,\" alice went on, \"that they’d let dinah stop in the house if it began ordering people about like that!\" by this time she had found her way into a tidy little room with a table in the window, and on it (as she had hoped) a fan and two or three pairs of tiny white kid gloves: she took up the fan and a pair of the gloves, and was just going to leave the room, when her eye fell upon a little bottle that stood near the looking-glass.\\nthere was no label this time with the words \"drink me,\" but nevertheless she uncorked it and put it to her lips.\\n\"i know something interesting is sure to happen,\" she said to herself, \"whenever i eat or drink anything. so i’ll just see what this bottle does.\\ni do hope it’ll make me grow large again, for really i’m quite tired of being such a tiny little thing!\" it did so indeed, and much sooner than she had expected: before she had drunk half the bottle, she found her head pressing against the ceiling, and had to stoop to save her neck from being broken.\\nshe hastily put down the bottle, saying to herself \"that’s quite enoughi hope i shan’t grow any moreas it is, i can’t get out at the doori do wish i hadn’t drunk quite so much!\" alas!\\nit was too late to wish that!\\nshe went on growing, and growing, and very soon had to kneel down on the floor: in another minute there was not even room for this, and she tried the effect of lying down with one elbow against the door, and the other arm curled round her head.\\nstill she went on growing, and, as a last resource, she put one arm out of the window, and one foot up the chimney, and said to herself \"now i can do no more, whatever happens.\\nwhat will become of me?\" luckily for alice, the little magic bottle had now had its full effect, and she grew no larger: still it was very uncomfortable, and, as there seemed to be no sort of chance of her ever getting out of the room again, no wonder she felt unhappy.\\n\"it was much pleasanter at home,\" thought poor alice, \"when one wasn’t always growing larger and smaller, and being ordered about by mice and rabbits.\\ni almost wish i hadn’t gone down that rabbit-holeand yetand yetit’s rather curious, you know, this sort of life!\\ni do wonder what can have happened to me!\\nwhen i used to read fairy-tales, i fancied that kind of thing never happened, and now here i am in the middle of one!\\nthere ought to be a book written about me, that there ought!\\nand when i grow up, i’ll write onebut i’m grown up now,\" she added in a sorrowful tone. \"at least there’s no room to grow up any more here.\" \"but then,\" thought alice, \"shall i never get any older than i am now?\\nthat’ll be a comfort, one waynever to be an old womanbut thenalways to have lessons to learn!\\noh, i shouldn’t like that!\" \"oh, you foolish alice!\" she answered herself.\\n\"how can you learn lessons in here?\\nwhy, there’s hardly room for you, and no room at all for any lesson-books!\" and so she went on, taking first one side and then the other, and making quite a conversation of it altogether. but after a few minutes she heard a voice outside, and stopped to listen.\\n\"mary ann!\\nmary ann!\" said the voice.\\n\"fetch me my gloves this moment!\" then came a little pattering of feet on the stairs.\\nalice knew it was the rabbit coming to look for her, and she trembled till she shook the house, quite forgetting that she was now about a thousand times as large as the rabbit, and had no reason to be afraid of it.\\npresently the rabbit came up to the door, and tried to open it. but, as the door opened inwards, and alice’s elbow was pressed hard against it, that attempt proved a failure.\\nalice heard it say to itself \"then i’ll go round and get in at the window.\" \"that you won’t!\" thought alice, and, after waiting till she fancied she heard the rabbit just under the window, she suddenly spread out her hand, and made a snatch in the air.\\nshe did not get hold of anything, but she heard a little shriek and a fall, and a crash of broken glass, from which she concluded that it was just possible it had fallen into a cucumber-frame, or something of the sort.\\nnext came an angry voicethe rabbit’s\"pat!\\npat!\\nwhere are you?\" and then a voice she had never heard before, \"sure then i’m here!\\ndigging for apples, yer honour!\" \"digging for apples, indeed!\" said the rabbit angrily.\\n\"here!\\ncome and help me out of this!\" (sounds of more broken glass.)\\n\"now tell me, pat, what’s that in the window?\" \"sure, it’s an arm, yer honour!\" (he pronounced it \"arrum.\") \"an arm, you goose!\\nwho ever saw one that size?\\nwhy, it fills the whole window!\" \"sure, it does, yer honour: but it’s an arm for all that.\" \"well, it’s got no business there, at any rate: go and take it away!\" there was a long silence after this, and alice could only hear whispers now and then. such as, \"sure, i don’t like it, yer honour, at all, at all!\" \"do as i tell you, you coward!\" and at last she spread out her hand again, and made another snatch in the air.\\nthis time there were two little shrieks, and more sounds of broken glass.\\n\"what a number of cucumber-frames there must be!\" thought alice.\\n\"i wonder what they’ll do next!\\nas for pulling me out of the window, i only wish they could! i’m sure i don’t want to stay in here any longer!\" she waited for some time without hearing anything more: at last came a rumbling of little cartwheels, and the sound of a good many voices all talking together: she made out the words: \"where’s the other ladder?why, i hadn’t to bring but one. bill’s got the otherbill!\\nfetch it here, lad!here, put ’em up at this cornerno, tie ’em together firstthey don’t reach half high enough yetoh!\\nthey’ll do well enough. don’t be particularhere, bill!\\ncatch hold of this ropewill the roof bear?mind that loose slateoh, it’s coming down!\\nheads below!\" (a loud crash)\"now, who did that?it was bill, i fancywho’s to go down the chimney?nay, i shan’t!\\nyou do it!that i won’t, then!bill’s to go downhere, bill!\\nthe master says you’re to go down the chimney!\" \"oh!\\nso bill’s got to come down the chimney, has he?\" said alice to herself.\\n\"shy, they seem to put everything upon bill!\\ni wouldn’t be in bill’s place for a good deal: this fireplace is narrow, to be sure. but i think i can kick a little!\" she drew her foot as far down the chimney as she could, and waited till she heard a little animal (she couldn’t guess of what sort it was) scratching and scrambling about in the chimney close above her: then, saying to herself \"this is bill,\" she gave one sharp kick, and waited to see what would happen next.\\nthe first thing she heard was a general chorus of \"there goes bill!\" then the rabbit’s voice along\"catch him, you by the hedge!\" then silence, and then another confusion of voices\"hold up his headbrandy nowdon’t choke himhow was it, old fellow?\\nwhat happened to you?\\ntell us all about it!\" last came a little feeble, squeaking voice, (\"that’s bill,\" thought alice,) \"well, i hardly knowno more, thank ye. i’m better nowbut i’m a deal too flustered to tell youall i know is, something comes at me like a jack-in-the-box, and up i goes like a sky-rocket!\" \"so you did, old fellow!\" said the others.\\n\"we must burn the house down!\" said the rabbit’s voice. and alice called out as loud as she could, \"if you do, i’ll set dinah at you!\" there was a dead silence instantly, and alice thought to herself, \"i wonder what they will do next!\\nif they had any sense, they’d take the roof off.\" after a minute or two, they began moving about again, and alice heard the rabbit say, \"a barrowful will do, to begin with.\" \"a barrowful of what?\" thought alice. but she had not long to doubt, for the next moment a shower of little pebbles came rattling in at the window, and some of them hit her in the face.\\n\"i’ll put a stop to this,\" she said to herself, and shouted out, \"you’d better not do that again!\" which produced another dead silence.\\nalice noticed with some surprise that the pebbles were all turning into little cakes as they lay on the floor, and a bright idea came into her head.\\n\"if i eat one of these cakes,\" she thought, \"it’s sure to make some change in my size. and as it can’t possibly make me larger, it must make me smaller, i suppose.\" so she swallowed one of the cakes, and was delighted to find that she began shrinking directly.\\nas soon as she was small enough to get through the door, she ran out of the house, and found quite a crowd of little animals and birds waiting outside.\\nthe poor little lizard, bill, was in the middle, being held up by two guinea-pigs, who were giving it something out of a bottle.\\nthey all made a rush at alice the moment she appeared. but she ran off as hard as she could, and soon found herself safe in a thick wood.\\n\"the first thing i’ve got to do,\" said alice to herself, as she wandered about in the wood, \"is to grow to my right size again. and the second thing is to find my way into that lovely garden.\\ni think that will be the best plan.\" it sounded an excellent plan, no doubt, and very neatly and simply arranged. the only difficulty was, that she had not the smallest idea how to set about it. and while she was peering about anxiously among the trees, a little sharp bark just over her head made her look up in a great hurry.\\nan enormous puppy was looking down at her with large round eyes, and feebly stretching out one paw, trying to touch her.\\n\"poor little thing!\" said alice, in a coaxing tone, and she tried hard to whistle to it. but she was terribly frightened all the time at the thought that it might be hungry, in which case it would be very likely to eat her up in spite of all her coaxing.\\nhardly knowing what she did, she picked up a little bit of stick, and held it out to the puppy. whereupon the puppy jumped into the air off all its feet at once, with a yelp of delight, and rushed at the stick, and made believe to worry it. then alice dodged behind a great thistle, to keep herself from being run over. and the moment she appeared on the other side, the puppy made another rush at the stick, and tumbled head over heels in its hurry to get hold of it. then alice, thinking it was very like having a game of play with a cart-horse, and expecting every moment to be trampled under its feet, ran round the thistle again. then the puppy began a series of short charges at the stick, running a very little way forwards each time and a long way back, and barking hoarsely all the while, till at last it sat down a good way off, panting, with its tongue hanging out of its mouth, and its great eyes half shut.\\nthis seemed to alice a good opportunity for making her escape. so she set off at once, and ran till she was quite tired and out of breath, and till the puppy’s bark sounded quite faint in the distance.\\n\"and yet what a dear little puppy it was!\" said alice, as she leant against a buttercup to rest herself, and fanned herself with one of the leaves: \"i should have liked teaching it tricks very much, ifif i’d only been the right size to do it!\\noh dear!\\ni’d nearly forgotten that i’ve got to grow up again!\\nlet me seehow is it to be managed?\\ni suppose i ought to eat or drink something or other. but the great question is, what?\" the great question certainly was, what?\\nalice looked all round her at the flowers and the blades of grass, but she did not see anything that looked like the right thing to eat or drink under the circumstances.\\nthere was a large mushroom growing near her, about the same height as herself. and when she had looked under it, and on both sides of it, and behind it, it occurred to her that she might as well look and see what was on the top of it.\\nshe stretched herself up on tiptoe, and peeped over the edge of the mushroom, and her eyes immediately met those of a large caterpillar, that was sitting on the top with its arms folded, quietly smoking a long hookah, and taking not the smallest notice of her or of anything else.\\nchapter v. advice from a caterpillar the caterpillar and alice looked at each other for some time in silence: at last the caterpillar took the hookah out of its mouth, and addressed her in a languid, sleepy voice.\\n\"who are you?\" said the caterpillar.\\nthis was not an encouraging opening for a conversation.\\nalice replied, rather shyly, \"ii hardly know, sir, just at presentat least i know who i was when i got up this morning, but i think i must have been changed several times since then.\" \"what do you mean by that?\" said the caterpillar sternly.\\n\"explain yourself!\" \"i can’t explain myself, i’m afraid, sir,\" said alice, \"because i’m not myself, you see.\" \"i don’t see,\" said the caterpillar.\\n\"i’m afraid i can’t put it more clearly,\" alice replied very politely, \"for i can’t understand it myself to begin with. and being so many different sizes in a day is very confusing.\" \"it isn’t,\" said the caterpillar.\\n\"well, perhaps you haven’t found it so yet,\" said alice. \"but when you have to turn into a chrysalisyou will some day, you knowand then after that into a butterfly, i should think you’ll feel it a little queer, won’t you?\" \"not a bit,\" said the caterpillar.\\n\"well, perhaps your feelings may be different,\" said alice. \"all i know is, it would feel very queer to me.\" \"you!\" said the caterpillar contemptuously.\\n\"who are you?\" which brought them back again to the beginning of the conversation.\\nalice felt a little irritated at the caterpillar’s making such very short remarks, and she drew herself up and said, very gravely, \"i think, you ought to tell me who you are, first.\" \"why?\" said the caterpillar.\\nhere was another puzzling question. and as alice could not think of any good reason, and as the caterpillar seemed to be in a very unpleasant state of mind, she turned away.\\n\"come back!\" the caterpillar called after her.\\n\"i’ve something important to say!\" this sounded promising, certainly: alice turned and came back again.\\n\"keep your temper,\" said the caterpillar.\\n\"is that all?\" said alice, swallowing down her anger as well as she could.\\n\"no,\" said the caterpillar.\\nalice thought she might as well wait, as she had nothing else to do, and perhaps after all it might tell her something worth hearing.\\nfor some minutes it puffed away without speaking, but at last it unfolded its arms, took the hookah out of its mouth again, and said, \"so you think you’re changed, do you?\" \"i’m afraid i am, sir,\" said alice. \"i can’t remember things as i usedand i don’t keep the same size for ten minutes together!\" \"can’t remember what things?\" said the caterpillar.\\n\"well, i’ve tried to say \"how doth the little busy bee,\" but it all came different!\" alice replied in a very melancholy voice.\\n\"repeat, \"you are old, father william,’\" said the caterpillar.\\nalice folded her hands, and began: \"you are old, father william,\" the young man said, \"and your hair has become very white. and yet you incessantly stand on your head do you think, at your age, it is right?\" \"in my youth,\" father william replied to his son, \"i feared it might injure the brain. but, now that i’m perfectly sure i have none, why, i do it again and again.\" \"you are old,\" said the youth, \"as i mentioned before, and have grown most uncommonly fat. yet you turned a back-somersault in at the door pray, what is the reason of that?\" \"in my youth,\" said the sage, as he shook his grey locks, \"i kept all my limbs very supple by the use of this ointmentone shilling the box allow me to sell you a couple?\" \"you are old,\" said the youth, \"and your jaws are too weak for anything tougher than suet. yet you finished the goose, with the bones and the beak pray, how did you manage to do it?\" \"in my youth,\" said his father, \"i took to the law, and argued each case with my wife. and the muscular strength, which it gave to my jaw, has lasted the rest of my life.\" \"you are old,\" said the youth, \"one would hardly suppose that your eye was as steady as ever. yet you balanced an eel on the end of your nose what made you so awfully clever?\" \"i have answered three questions, and that is enough,\" said his father. \"don’t give yourself airs!\\ndo you think i can listen all day to such stuff?\\nbe off, or i’ll kick you down stairs!\" \"that is not said right,\" said the caterpillar.\\n\"not quite right, i’m afraid,\" said alice, timidly. \"some of the words have got altered.\" \"it is wrong from beginning to end,\" said the caterpillar decidedly, and there was silence for some minutes.\\nthe caterpillar was the first to speak.\\n\"what size do you want to be?\" it asked.\\n\"oh, i’m not particular as to size,\" alice hastily replied. \"only one doesn’t like changing so often, you know.\" \"i don’t know,\" said the caterpillar.\\nalice said nothing: she had never been so much contradicted in her life before, and she felt that she was losing her temper.\\n\"are you content now?\" said the caterpillar.\\n\"well, i should like to be a little larger, sir, if you wouldn’t mind,\" said alice: \"three inches is such a wretched height to be.\" \"it is a very good height indeed!\" said the caterpillar angrily, rearing itself upright as it spoke (it was exactly three inches high).\\n\"but i’m not used to it!\" pleaded poor alice in a piteous tone.\\nand she thought of herself, \"i wish the creatures wouldn’t be so easily offended!\" \"you’ll get used to it in time,\" said the caterpillar. and it put the hookah into its mouth and began smoking again.\\nthis time alice waited patiently until it chose to speak again.\\nin a minute or two the caterpillar took the hookah out of its mouth and yawned once or twice, and shook itself.\\nthen it got down off the mushroom, and crawled away in the grass, merely remarking as it went, \"one side will make you grow taller, and the other side will make you grow shorter.\" \"one side of what? the other side of what?\" thought alice to herself.\\n\"of the mushroom,\" said the caterpillar, just as if she had asked it aloud. and in another moment it was out of sight.\\nalice remained looking thoughtfully at the mushroom for a minute, trying to make out which were the two sides of it. and as it was perfectly round, she found this a very difficult question.\\nhowever, at last she stretched her arms round it as far as they would go, and broke off a bit of the edge with each hand.\\n\"and now which is which?\" she said to herself, and nibbled a little of the right-hand bit to try the effect: the next moment she felt a violent blow underneath her chin: it had struck her foot!\\nshe was a good deal frightened by this very sudden change, but she felt that there was no time to be lost, as she was shrinking rapidly. so she set to work at once to eat some of the other bit.\\nher chin was pressed so closely against her foot, that there was hardly room to open her mouth. but she did it at last, and managed to swallow a morsel of the lefthand bit.\\n\"come, my head’s free at last!\" said alice in a tone of delight, which changed into alarm in another moment, when she found that her shoulders were nowhere to be found: all she could see, when she looked down, was an immense length of neck, which seemed to rise like a stalk out of a sea of green leaves that lay far below her.\\n\"what can all that green stuff be?\" said alice.\\n\"and where have my shoulders got to?\\nand oh, my poor hands, how is it i can’t see you?\" she was moving them about as she spoke, but no result seemed to follow, except a little shaking among the distant green leaves.\\nas there seemed to be no chance of getting her hands up to her head, she tried to get her head down to them, and was delighted to find that her neck would bend about easily in any direction, like a serpent.\\nshe had just succeeded in curving it down into a graceful zigzag, and was going to dive in among the leaves, which she found to be nothing but the tops of the trees under which she had been wandering, when a sharp hiss made her draw back in a hurry: a large pigeon had flown into her face, and was beating her violently with its wings.\\n\"serpent!\" screamed the pigeon.\\n\"i’m not a serpent!\" said alice indignantly.\\n\"let me alone!\" \"serpent, i say again!\" repeated the pigeon, but in a more subdued tone, and added with a kind of sob, \"i’ve tried every way, and nothing seems to suit them!\" \"i haven’t the least idea what you’re talking about,\" said alice.\\n\"i’ve tried the roots of trees, and i’ve tried banks, and i’ve tried hedges,\" the pigeon went on, without attending to her. \"but those serpents!\\nthere’s no pleasing them!\" alice was more and more puzzled, but she thought there was no use in saying anything more till the pigeon had finished.\\n\"as if it wasn’t trouble enough hatching the eggs,\" said the pigeon. \"but i must be on the look-out for serpents night and day!\\nwhy, i haven’t had a wink of sleep these three weeks!\" \"i’m very sorry you’ve been annoyed,\" said alice, who was beginning to see its meaning.\\n\"and just as i’d taken the highest tree in the wood,\" continued the pigeon, raising its voice to a shriek, \"and just as i was thinking i should be free of them at last, they must needs come wriggling down from the sky!\\nugh, serpent!\" \"but i’m not a serpent, i tell you!\" said alice.\\n\"i’m ai’m a\" \"well!\\nwhat are you?\" said the pigeon.\\n\"i can see you’re trying to invent something!\" \"ii’m a little girl,\" said alice, rather doubtfully, as she remembered the number of changes she had gone through that day.\\n\"a likely story indeed!\" said the pigeon in a tone of the deepest contempt.\\n\"i’ve seen a good many little girls in my time, but never one with such a neck as that!\\nno, no!\\nyou’re a serpent. and there’s no use denying it.\\ni suppose you’ll be telling me next that you never tasted an egg!\" \"i have tasted eggs, certainly,\" said alice, who was a very truthful child. \"but little girls eat eggs quite as much as serpents do, you know.\" \"i don’t believe it,\" said the pigeon. \"but if they do, why then they’re a kind of serpent, that’s all i can say.\" this was such a new idea to alice, that she was quite silent for a minute or two, which gave the pigeon the opportunity of adding, \"you’re looking for eggs, i know that well enough. and what does it matter to me whether you’re a little girl or a serpent?\" \"it matters a good deal to me,\" said alice hastily. \"but i’m not looking for eggs, as it happens. and if i was, i shouldn’t want yours: i don’t like them raw.\" \"well, be off, then!\" said the pigeon in a sulky tone, as it settled down again into its nest.\\nalice crouched down among the trees as well as she could, for her neck kept getting entangled among the branches, and every now and then she had to stop and untwist it.\\nafter a while she remembered that she still held the pieces of mushroom in her hands, and she set to work very carefully, nibbling first at one and then at the other, and growing sometimes taller and sometimes shorter, until she had succeeded in bringing herself down to her usual height.\\nit was so long since she had been anything near the right size, that it felt quite strange at first. but she got used to it in a few minutes, and began talking to herself, as usual.\\n\"come, there’s half my plan done now!\\nhow puzzling all these changes are!\\ni’m never sure what i’m going to be, from one minute to another!\\nhowever, i’ve got back to my right size: the next thing is, to get into that beautiful gardenhow is that to be done, i wonder?\" as she said this, she came suddenly upon an open place, with a little house in it about four feet high.\\n\"whoever lives there,\" thought alice, \"it’ll never do to come upon them this size: why, i should frighten them out of their wits!\" so she began nibbling at the righthand bit again, and did not venture to go near the house till she had brought herself down to nine inches high.\\nchapter vi.\\npig and pepper for a minute or two she stood looking at the house, and wondering what to do next, when suddenly a footman in livery came running out of the wood(she considered him to be a footman because he was in livery: otherwise, judging by his face only, she would have called him a fish)and rapped loudly at the door with his knuckles.\\nit was opened by another footman in livery, with a round face, and large eyes like a frog. and both footmen, alice noticed, had powdered hair that curled all over their heads.\\nshe felt very curious to know what it was all about, and crept a little way out of the wood to listen.\\nthe fish-footman began by producing from under his arm a great letter, nearly as large as himself, and this he handed over to the other, saying, in a solemn tone, \"for the duchess.\\nan invitation from the queen to play croquet.\" the frog-footman repeated, in the same solemn tone, only changing the order of the words a little, \"from the queen.\\nan invitation for the duchess to play croquet.\" then they both bowed low, and their curls got entangled together.\\nalice laughed so much at this, that she had to run back into the wood for fear of their hearing her. and when she next peeped out the fish-footman was gone, and the other was sitting on the ground near the door, staring stupidly up into the sky.\\nalice went timidly up to the door, and knocked.\\n\"there’s no sort of use in knocking,\" said the footman, \"and that for two reasons.\\nfirst, because i’m on the same side of the door as you are. secondly, because they’re making such a noise inside, no one could possibly hear you.\" and certainly there was a most extraordinary noise going on withina constant howling and sneezing, and every now and then a great crash, as if a dish or kettle had been broken to pieces.\\n\"please, then,\" said alice, \"how am i to get in?\" \"there might be some sense in your knocking,\" the footman went on without attending to her, \"if we had the door between us.\\nfor instance, if you were inside, you might knock, and i could let you out, you know.\" he was looking up into the sky all the time he was speaking, and this alice thought decidedly uncivil.\\n\"but perhaps he can’t help it,\" she said to herself. \"his eyes are so very nearly at the top of his head.\\nbut at any rate he might answer questions.how am i to get in?\" she repeated, aloud.\\n\"i shall sit here,\" the footman remarked, \"till tomorrow\" at this moment the door of the house opened, and a large plate came skimming out, straight at the footman’s head: it just grazed his nose, and broke to pieces against one of the trees behind him.\\n\"or next day, maybe,\" the footman continued in the same tone, exactly as if nothing had happened.\\n\"how am i to get in?\" asked alice again, in a louder tone.\\n\"are you to get in at all?\" said the footman.\\n\"that’s the first question, you know.\" it was, no doubt: only alice did not like to be told so.\\n\"it’s really dreadful,\" she muttered to herself, \"the way all the creatures argue.\\nit’s enough to drive one crazy!\" the footman seemed to think this a good opportunity for repeating his remark, with variations.\\n\"i shall sit here,\" he said, \"on and off, for days and days.\" \"but what am i to do?\" said alice.\\n\"anything you like,\" said the footman, and began whistling.\\n\"oh, there’s no use in talking to him,\" said alice desperately: \"he’s perfectly idiotic!\" and she opened the door and went in.\\nthe door led right into a large kitchen, which was full of smoke from one end to the other: the duchess was sitting on a three-legged stool in the middle, nursing a baby. the cook was leaning over the fire, stirring a large cauldron which seemed to be full of soup.\\n\"there’s certainly too much pepper in that soup!\" alice said to herself, as well as she could for sneezing.\\nthere was certainly too much of it in the air.\\neven the duchess sneezed occasionally. and as for the baby, it was sneezing and howling alternately without a moment’s pause.\\nthe only things in the kitchen that did not sneeze, were the cook, and a large cat which was sitting on the hearth and grinning from ear to ear.\\n\"please would you tell me,\" said alice, a little timidly, for she was not quite sure whether it was good manners for her to speak first, \"why your cat grins like that?\" \"it’s a cheshire cat,\" said the duchess, \"and that’s why.\\npig!\" she said the last word with such sudden violence that alice quite jumped. but she saw in another moment that it was addressed to the baby, and not to her, so she took courage, and went on again: \"i didn’t know that cheshire cats always grinned. in fact, i didn’t know that cats could grin.\" \"they all can,\" said the duchess. \"and most of ’em do.\" \"i don’t know of any that do,\" alice said very politely, feeling quite pleased to have got into a conversation.\\n\"you don’t know much,\" said the duchess. \"and that’s a fact.\" alice did not at all like the tone of this remark, and thought it would be as well to introduce some other subject of conversation.\\nwhile she was trying to fix on one, the cook took the cauldron of soup off the fire, and at once set to work throwing everything within her reach at the duchess and the babythe fire-irons came first. then followed a shower of saucepans, plates, and dishes.\\nthe duchess took no notice of them even when they hit her. and the baby was howling so much already, that it was quite impossible to say whether the blows hurt it or not.\\n\"oh, please mind what you’re doing!\" cried alice, jumping up and down in an agony of terror.\\n\"oh, there goes his precious nose!\" as an unusually large saucepan flew close by it, and very nearly carried it off.\\n\"if everybody minded their own business,\" the duchess said in a hoarse growl, \"the world would go round a deal faster than it does.\" \"which would not be an advantage,\" said alice, who felt very glad to get an opportunity of showing off a little of her knowledge.\\n\"just think of what work it would make with the day and night!\\nyou see the earth takes twenty-four hours to turn round on its axis\" \"talking of axes,\" said the duchess, \"chop off her head!\" alice glanced rather anxiously at the cook, to see if she meant to take the hint. but the cook was busily stirring the soup, and seemed not to be listening, so she went on again: \"twenty-four hours, i think. or is it twelve?\\ni\" \"oh, don’t bother me,\" said the duchess. \"i never could abide figures!\" and with that she began nursing her child again, singing a sort of lullaby to it as she did so, and giving it a violent shake at the end of every line: \"speak roughly to your little boy, and beat him when he sneezes: he only does it to annoy, because he knows it teases.\" chorus.\\n(in which the cook and the baby joined): \"wow!\\nwow!\\nwow!\" while the duchess sang the second verse of the song, she kept tossing the baby violently up and down, and the poor little thing howled so, that alice could hardly hear the words: \"i speak severely to my boy, i beat him when he sneezes. for he can thoroughly enjoy the pepper when he pleases!\" chorus.\\n\"wow!\\nwow!\\nwow!\" \"here!\\nyou may nurse it a bit, if you like!\" the duchess said to alice, flinging the baby at her as she spoke.\\n\"i must go and get ready to play croquet with the queen,\" and she hurried out of the room.\\nthe cook threw a frying-pan after her as she went out, but it just missed her.\\nalice caught the baby with some difficulty, as it was a queer-shaped little creature, and held out its arms and legs in all directions, \"just like a star-fish,\" thought alice.\\nthe poor little thing was snorting like a steam-engine when she caught it, and kept doubling itself up and straightening itself out again, so that altogether, for the first minute or two, it was as much as she could do to hold it.\\nas soon as she had made out the proper way of nursing it, (which was to twist it up into a sort of knot, and then keep tight hold of its right ear and left foot, so as to prevent its undoing itself,) she carried it out into the open air.\\n\"if i don’t take this child away with me,\" thought alice, \"they’re sure to kill it in a day or two: wouldn’t it be murder to leave it behind?\" she said the last words out loud, and the little thing grunted in reply (it had left off sneezing by this time).\\n\"don’t grunt,\" said alice. \"that’s not at all a proper way of expressing yourself.\" the baby grunted again, and alice looked very anxiously into its face to see what was the matter with it.\\nthere could be no doubt that it had a very turn-up nose, much more like a snout than a real nose. also its eyes were getting extremely small for a baby: altogether alice did not like the look of the thing at all.\\n\"but perhaps it was only sobbing,\" she thought, and looked into its eyes again, to see if there were any tears.\\nno, there were no tears.\\n\"if you’re going to turn into a pig, my dear,\" said alice, seriously, \"i’ll have nothing more to do with you.\\nmind now!\" the poor little thing sobbed again (or grunted, it was impossible to say which), and they went on for some while in silence.\\nalice was just beginning to think to herself, \"now, what am i to do with this creature when i get it home?\" when it grunted again, so violently, that she looked down into its face in some alarm.\\nthis time there could be no mistake about it: it was neither more nor less than a pig, and she felt that it would be quite absurd for her to carry it further.\\nso she set the little creature down, and felt quite relieved to see it trot away quietly into the wood.\\n\"if it had grown up,\" she said to herself, \"it would have made a dreadfully ugly child: but it makes rather a handsome pig, i think.\" and she began thinking over other children she knew, who might do very well as pigs, and was just saying to herself, \"if one only knew the right way to change them\" when she was a little startled by seeing the cheshire cat sitting on a bough of a tree a few yards off.\\nthe cat only grinned when it saw alice.\\nit looked good-natured, she thought: still it had very long claws and a great many teeth, so she felt that it ought to be treated with respect.\\n\"cheshire puss,\" she began, rather timidly, as she did not at all know whether it would like the name: however, it only grinned a little wider.\\n\"come, it’s pleased so far,\" thought alice, and she went on.\\n\"would you tell me, please, which way i ought to go from here?\" \"that depends a good deal on where you want to get to,\" said the cat.\\n\"i don’t much care where\" said alice.\\n\"then it doesn’t matter which way you go,\" said the cat.\\n\"so long as i get somewhere,\" alice added as an explanation.\\n\"oh, you’re sure to do that,\" said the cat, \"if you only walk long enough.\" alice felt that this could not be denied, so she tried another question.\\n\"what sort of people live about here?\" \"in that direction,\" the cat said, waving its right paw round, \"lives a hatter: and in that direction,\" waving the other paw, \"lives a march hare.\\nvisit either you like: they’re both mad.\" \"but i don’t want to go among mad people,\" alice remarked.\\n\"oh, you can’t help that,\" said the cat: \"we’re all mad here.\\ni’m mad.\\nyou’re mad.\" \"how do you know i’m mad?\" said alice.\\n\"you must be,\" said the cat, \"or you wouldn’t have come here.\" alice didn’t think that proved it at all. however, she went on \"and how do you know that you’re mad?\" \"to begin with,\" said the cat, \"a dog’s not mad.\\nyou grant that?\" \"i suppose so,\" said alice.\\n\"well, then,\" the cat went on, \"you see, a dog growls when it’s angry, and wags its tail when it’s pleased.\\nnow i growl when i’m pleased, and wag my tail when i’m angry.\\ntherefore i’m mad.\" \"i call it purring, not growling,\" said alice.\\n\"call it what you like,\" said the cat.\\n\"do you play croquet with the queen to-day?\" \"i should like it very much,\" said alice, \"but i haven’t been invited yet.\" \"you’ll see me there,\" said the cat, and vanished.\\nalice was not much surprised at this, she was getting so used to queer things happening.\\nwhile she was looking at the place where it had been, it suddenly appeared again.\\n\"by-the-bye, what became of the baby?\" said the cat.\\n\"i’d nearly forgotten to ask.\" \"it turned into a pig,\" alice quietly said, just as if it had come back in a natural way.\\n\"i thought it would,\" said the cat, and vanished again.\\nalice waited a little, half expecting to see it again, but it did not appear, and after a minute or two she walked on in the direction in which the march hare was said to live.\\n\"i’ve seen hatters before,\" she said to herself. \"the march hare will be much the most interesting, and perhaps as this is may it won’t be raving madat least not so mad as it was in march.\" as she said this, she looked up, and there was the cat again, sitting on a branch of a tree.\\n\"did you say pig, or fig?\" said the cat.\\n\"i said pig,\" replied alice. \"and i wish you wouldn’t keep appearing and vanishing so suddenly: you make one quite giddy.\" \"all right,\" said the cat. and this time it vanished quite slowly, beginning with the end of the tail, and ending with the grin, which remained some time after the rest of it had gone.\\n\"well!\\ni’ve often seen a cat without a grin,\" thought alice. \"but a grin without a cat!\\nit’s the most curious thing i ever saw in my life!\" she had not gone much farther before she came in sight of the house of the march hare: she thought it must be the right house, because the chimneys were shaped like ears and the roof was thatched with fur.\\nit was so large a house, that she did not like to go nearer till she had nibbled some more of the lefthand bit of mushroom, and raised herself to about two feet high: even then she walked up towards it rather timidly, saying to herself \"suppose it should be raving mad after all!\\ni almost wish i’d gone to see the hatter instead!\" chapter vii.\\na mad tea-party there was a table set out under a tree in front of the house, and the march hare and the hatter were having tea at it: a dormouse was sitting between them, fast asleep, and the other two were using it as a cushion, resting their elbows on it, and talking over its head.\\n\"very uncomfortable for the dormouse,\" thought alice. \"only, as it’s asleep, i suppose it doesn’t mind.\" the table was a large one, but the three were all crowded together at one corner of it: \"no room!\\nno room!\" they cried out when they saw alice coming.\\n\"there’s plenty of room!\" said alice indignantly, and she sat down in a large arm-chair at one end of the table.\\n\"have some wine,\" the march hare said in an encouraging tone.\\nalice looked all round the table, but there was nothing on it but tea.\\n\"i don’t see any wine,\" she remarked.\\n\"there isn’t any,\" said the march hare.\\n\"then it wasn’t very civil of you to offer it,\" said alice angrily.\\n\"it wasn’t very civil of you to sit down without being invited,\" said the march hare.\\n\"i didn’t know it was your table,\" said alice. \"it’s laid for a great many more than three.\" \"your hair wants cutting,\" said the hatter.\\nhe had been looking at alice for some time with great curiosity, and this was his first speech.\\n\"you should learn not to make personal remarks,\" alice said with some severity. \"it’s very rude.\" the hatter opened his eyes very wide on hearing this. but all he said was, \"why is a raven like a writing-desk?\" \"come, we shall have some fun now!\" thought alice.\\n\"i’m glad they’ve begun asking riddles.i believe i can guess that,\" she added aloud.\\n\"do you mean that you think you can find out the answer to it?\" said the march hare.\\n\"exactly so,\" said alice.\\n\"then you should say what you mean,\" the march hare went on.\\n\"i do,\" alice hastily replied. \"at leastat least i mean what i saythat’s the same thing, you know.\" \"not the same thing a bit!\" said the hatter.\\n\"you might just as well say that ‘i see what i eat’ is the same thing as ‘i eat what i see’!\" \"you might just as well say,\" added the march hare, \"that ‘i like what i get’ is the same thing as ‘i get what i like’!\" \"you might just as well say,\" added the dormouse, who seemed to be talking in his sleep, \"that ‘i breathe when i sleep’ is the same thing as ‘i sleep when i breathe’!\" \"it is the same thing with you,\" said the hatter, and here the conversation dropped, and the party sat silent for a minute, while alice thought over all she could remember about ravens and writing-desks, which wasn’t much.\\nthe hatter was the first to break the silence.\\n\"what day of the month is it?\" he said, turning to alice: he had taken his watch out of his pocket, and was looking at it uneasily, shaking it every now and then, and holding it to his ear.\\nalice considered a little, and then said \"the fourth.\" \"two days wrong!\" sighed the hatter.\\n\"i told you butter wouldn’t suit the works!\" he added looking angrily at the march hare.\\n\"it was the best butter,\" the march hare meekly replied.\\n\"yes, but some crumbs must have got in as well,\" the hatter grumbled: \"you shouldn’t have put it in with the bread-knife.\" the march hare took the watch and looked at it gloomily: then he dipped it into his cup of tea, and looked at it again: but he could think of nothing better to say than his first remark, \"it was the best butter, you know.\" alice had been looking over his shoulder with some curiosity.\\n\"what a funny watch!\" she remarked.\\n\"it tells the day of the month, and doesn’t tell what o’clock it is!\" \"why should it?\" muttered the hatter.\\n\"does your watch tell you what year it is?\" \"of course not,\" alice replied very readily: \"but that’s because it stays the same year for such a long time together.\" \"which is just the case with mine,\" said the hatter.\\nalice felt dreadfully puzzled.\\nthe hatter’s remark seemed to have no sort of meaning in it, and yet it was certainly english.\\n\"i don’t quite understand you,\" she said, as politely as she could.\\n\"the dormouse is asleep again,\" said the hatter, and he poured a little hot tea upon its nose.\\nthe dormouse shook its head impatiently, and said, without opening its eyes, \"of course, of course. just what i was going to remark myself.\" \"have you guessed the riddle yet?\" the hatter said, turning to alice again.\\n\"no, i give it up,\" alice replied: \"what’s the answer?\" \"i haven’t the slightest idea,\" said the hatter.\\n\"nor i,\" said the march hare.\\nalice sighed wearily.\\n\"i think you might do something better with the time,\" she said, \"than waste it in asking riddles that have no answers.\" \"if you knew time as well as i do,\" said the hatter, \"you wouldn’t talk about wasting it.\\nit’s him.\" \"i don’t know what you mean,\" said alice.\\n\"of course you don’t!\" the hatter said, tossing his head contemptuously.\\n\"i dare say you never even spoke to time!\" \"perhaps not,\" alice cautiously replied: \"but i know i have to beat time when i learn music.\" \"ah!\\nthat accounts for it,\" said the hatter.\\n\"he won’t stand beating.\\nnow, if you only kept on good terms with him, he’d do almost anything you liked with the clock.\\nfor instance, suppose it were nine o’clock in the morning, just time to begin lessons: you’d only have to whisper a hint to time, and round goes the clock in a twinkling!\\nhalf-past one, time for dinner!\" (\"i only wish it was,\" the march hare said to itself in a whisper.)\\n\"that would be grand, certainly,\" said alice thoughtfully: \"but theni shouldn’t be hungry for it, you know.\" \"not at first, perhaps,\" said the hatter: \"but you could keep it to half-past one as long as you liked.\" \"is that the way you manage?\" alice asked.\\nthe hatter shook his head mournfully.\\n\"not i!\" he replied.\\n\"we quarrelled last marchjust before he went mad, you know\" (pointing with his tea spoon at the march hare,) \"it was at the great concert given by the queen of hearts, and i had to sing ‘twinkle, twinkle, little bat!\\nhow i wonder what you’re at!’ you know the song, perhaps?\" \"i’ve heard something like it,\" said alice.\\n\"it goes on, you know,\" the hatter continued, \"in this way: ‘up above the world you fly, like a tea-tray in the sky.\\ntwinkle, twinkle’\" here the dormouse shook itself, and began singing in its sleep \"twinkle, twinkle, twinkle, twinkle\" and went on so long that they had to pinch it to make it stop.\\n\"well, i’d hardly finished the first verse,\" said the hatter, \"when the queen jumped up and bawled out, ‘he’s murdering the time!\\noff with his head!’\" \"how dreadfully savage!\" exclaimed alice.\\n\"and ever since that,\" the hatter went on in a mournful tone, \"he won’t do a thing i ask!\\nit’s always six o’clock now.\" a bright idea came into alice’s head.\\n\"is that the reason so many tea-things are put out here?\" she asked.\\n\"yes, that’s it,\" said the hatter with a sigh: \"it’s always tea-time, and we’ve no time to wash the things between whiles.\" \"then you keep moving round, i suppose?\" said alice.\\n\"exactly so,\" said the hatter: \"as the things get used up.\" \"but what happens when you come to the beginning again?\" alice ventured to ask.\\n\"suppose we change the subject,\" the march hare interrupted, yawning.\\n\"i’m getting tired of this.\\ni vote the young lady tells us a story.\" \"i’m afraid i don’t know one,\" said alice, rather alarmed at the proposal.\\n\"then the dormouse shall!\" they both cried.\\n\"wake up, dormouse!\" and they pinched it on both sides at once.\\nthe dormouse slowly opened his eyes.\\n\"i wasn’t asleep,\" he said in a hoarse, feeble voice: \"i heard every word you fellows were saying.\" \"tell us a story!\" said the march hare.\\n\"yes, please do!\" pleaded alice.\\n\"and be quick about it,\" added the hatter, \"or you’ll be asleep again before it’s done.\" \"once upon a time there were three little sisters,\" the dormouse began in a great hurry. \"and their names were elsie, lacie, and tillie. and they lived at the bottom of a well\" \"what did they live on?\" said alice, who always took a great interest in questions of eating and drinking.\\n\"they lived on treacle,\" said the dormouse, after thinking a minute or two.\\n\"they couldn’t have done that, you know,\" alice gently remarked. \"they’d have been ill.\" \"so they were,\" said the dormouse. \"very ill.\" alice tried to fancy to herself what such an extraordinary ways of living would be like, but it puzzled her too much, so she went on: \"but why did they live at the bottom of a well?\" \"take some more tea,\" the march hare said to alice, very earnestly.\\n\"i’ve had nothing yet,\" alice replied in an offended tone, \"so i can’t take more.\" \"you mean you can’t take less,\" said the hatter: \"it’s very easy to take more than nothing.\" \"nobody asked your opinion,\" said alice.\\n\"who’s making personal remarks now?\" the hatter asked triumphantly.\\nalice did not quite know what to say to this: so she helped herself to some tea and bread-and-butter, and then turned to the dormouse, and repeated her question.\\n\"why did they live at the bottom of a well?\" the dormouse again took a minute or two to think about it, and then said, \"it was a treacle-well.\" \"there’s no such thing!\" alice was beginning very angrily, but the hatter and the march hare went \"sh!\\nsh!\" and the dormouse sulkily remarked, \"if you can’t be civil, you’d better finish the story for yourself.\" \"no, please go on!\" alice said very humbly. \"i won’t interrupt again.\\ni dare say there may be one.\" \"one, indeed!\" said the dormouse indignantly.\\nhowever, he consented to go on.\\n\"and so these three little sistersthey were learning to draw, you know\" \"what did they draw?\" said alice, quite forgetting her promise.\\n\"treacle,\" said the dormouse, without considering at all this time.\\n\"i want a clean cup,\" interrupted the hatter: \"let’s all move one place on.\" he moved on as he spoke, and the dormouse followed him: the march hare moved into the dormouse’s place, and alice rather unwillingly took the place of the march hare.\\nthe hatter was the only one who got any advantage from the change: and alice was a good deal worse off than before, as the march hare had just upset the milk-jug into his plate.\\nalice did not wish to offend the dormouse again, so she began very cautiously: \"but i don’t understand.\\nwhere did they draw the treacle from?\" \"you can draw water out of a water-well,\" said the hatter. \"so i should think you could draw treacle out of a treacle-welleh, stupid?\" \"but they were in the well,\" alice said to the dormouse, not choosing to notice this last remark.\\n\"of course they were,\" said the dormouse. \"well in.\" this answer so confused poor alice, that she let the dormouse go on for some time without interrupting it.\\n\"they were learning to draw,\" the dormouse went on, yawning and rubbing its eyes, for it was getting very sleepy. \"and they drew all manner of thingseverything that begins with an m\" \"why with an m?\" said alice.\\n\"why not?\" said the march hare.\\nalice was silent.\\nthe dormouse had closed its eyes by this time, and was going off into a doze. but, on being pinched by the hatter, it woke up again with a little shriek, and went on: \"that begins with an m, such as mouse-traps, and the moon, and memory, and muchnessyou know you say things are \"much of a muchness\"did you ever see such a thing as a drawing of a muchness?\" \"really, now you ask me,\" said alice, very much confused, \"i don’t think\" \"then you shouldn’t talk,\" said the hatter.\\nthis piece of rudeness was more than alice could bear: she got up in great disgust, and walked off. the dormouse fell asleep instantly, and neither of the others took the least notice of her going, though she looked back once or twice, half hoping that they would call after her: the last time she saw them, they were trying to put the dormouse into the teapot.\\n\"at any rate i’ll never go there again!\" said alice as she picked her way through the wood.\\n\"it’s the stupidest tea-party i ever was at in all my life!\" just as she said this, she noticed that one of the trees had a door leading right into it.\\n\"that’s very curious!\" she thought.\\n\"but everything’s curious today.\\ni think i may as well go in at once.\" and in she went.\\nonce more she found herself in the long hall, and close to the little glass table.\\n\"now, i’ll manage better this time,\" she said to herself, and began by taking the little golden key, and unlocking the door that led into the garden.\\nthen she went to work nibbling at the mushroom (she had kept a piece of it in her pocket) till she was about a foot high: then she walked down the little passage: and thenshe found herself at last in the beautiful garden, among the bright flower-beds and the cool fountains.\\nchapter viii.\\nthe queen’s croquet-ground a large rose-tree stood near the entrance of the garden: the roses growing on it were white, but there were three gardeners at it, busily painting them red.\\nalice thought this a very curious thing, and she went nearer to watch them, and just as she came up to them she heard one of them say, \"look out now, five!\\ndon’t go splashing paint over me like that!\" \"i couldn’t help it,\" said five, in a sulky tone. \"seven jogged my elbow.\" on which seven looked up and said, \"that’s right, five!\\nalways lay the blame on others!\" \"you’d better not talk!\" said five.\\n\"i heard the queen say only yesterday you deserved to be beheaded!\" \"what for?\" said the one who had spoken first.\\n\"that’s none of your business, two!\" said seven.\\n\"yes, it is his business!\" said five, \"and i’ll tell himit was for bringing the cook tulip-roots instead of onions.\" seven flung down his brush, and had just begun \"well, of all the unjust things\" when his eye chanced to fall upon alice, as she stood watching them, and he checked himself suddenly: the others looked round also, and all of them bowed low.\\n\"would you tell me,\" said alice, a little timidly, \"why you are painting those roses?\" five and seven said nothing, but looked at two.\\ntwo began in a low voice, \"why the fact is, you see, miss, this here ought to have been a red rose-tree, and we put a white one in by mistake. and if the queen was to find it out, we should all have our heads cut off, you know.\\nso you see, miss, we’re doing our best, afore she comes, to\" at this moment five, who had been anxiously looking across the garden, called out \"the queen!\\nthe queen!\" and the three gardeners instantly threw themselves flat upon their faces.\\nthere was a sound of many footsteps, and alice looked round, eager to see the queen.\\nfirst came ten soldiers carrying clubs. these were all shaped like the three gardeners, oblong and flat, with their hands and feet at the corners: next the ten courtiers. these were ornamented all over with diamonds, and walked two and two, as the soldiers did.\\nafter these came the royal children. there were ten of them, and the little dears came jumping merrily along hand in hand, in couples: they were all ornamented with hearts.\\nnext came the guests, mostly kings and queens, and among them alice recognised the white rabbit: it was talking in a hurried nervous manner, smiling at everything that was said, and went by without noticing her.\\nthen followed the knave of hearts, carrying the king’s crown on a crimson velvet cushion. and, last of all this grand procession, came the king and queen of hearts.\\nalice was rather doubtful whether she ought not to lie down on her face like the three gardeners, but she could not remember ever having heard of such a rule at processions. \"and besides, what would be the use of a procession,\" thought she, \"if people had all to lie down upon their faces, so that they couldn’t see it?\" so she stood still where she was, and waited.\\nwhen the procession came opposite to alice, they all stopped and looked at her, and the queen said severely \"who is this?\" she said it to the knave of hearts, who only bowed and smiled in reply.\\n\"idiot!\" said the queen, tossing her head impatiently. and, turning to alice, she went on, \"what’s your name, child?\" \"my name is alice, so please your majesty,\" said alice very politely. but she added, to herself, \"why, they’re only a pack of cards, after all.\\ni needn’t be afraid of them!\" \"and who are these?\" said the queen, pointing to the three gardeners who were lying round the rose-tree. for, you see, as they were lying on their faces, and the pattern on their backs was the same as the rest of the pack, she could not tell whether they were gardeners, or soldiers, or courtiers, or three of her own children.\\n\"how should i know?\" said alice, surprised at her own courage.\\n\"it’s no business of mine.\" the queen turned crimson with fury, and, after glaring at her for a moment like a wild beast, screamed \"off with her head!\\noff\" \"nonsense!\" said alice, very loudly and decidedly, and the queen was silent.\\nthe king laid his hand upon her arm, and timidly said \"consider, my dear: she is only a child!\" the queen turned angrily away from him, and said to the knave \"turn them over!\" the knave did so, very carefully, with one foot.\\n\"get up!\" said the queen, in a shrill, loud voice, and the three gardeners instantly jumped up, and began bowing to the king, the queen, the royal children, and everybody else.\\n\"leave off that!\" screamed the queen.\\n\"you make me giddy.\" and then, turning to the rose-tree, she went on, \"what have you been doing here?\" \"may it please your majesty,\" said two, in a very humble tone, going down on one knee as he spoke, \"we were trying\" \"i see!\" said the queen, who had meanwhile been examining the roses.\\n\"off with their heads!\" and the procession moved on, three of the soldiers remaining behind to execute the unfortunate gardeners, who ran to alice for protection.\\n\"you shan’t be beheaded!\" said alice, and she put them into a large flower-pot that stood near.\\nthe three soldiers wandered about for a minute or two, looking for them, and then quietly marched off after the others.\\n\"are their heads off?\" shouted the queen.\\n\"their heads are gone, if it please your majesty!\" the soldiers shouted in reply.\\n\"that’s right!\" shouted the queen.\\n\"can you play croquet?\" the soldiers were silent, and looked at alice, as the question was evidently meant for her.\\n\"yes!\" shouted alice.\\n\"come on, then!\" roared the queen, and alice joined the procession, wondering very much what would happen next.\\n\"it’sit’s a very fine day!\" said a timid voice at her side.\\nshe was walking by the white rabbit, who was peeping anxiously into her face.\\n\"very,\" said alice: \"where’s the duchess?\" \"hush!\\nhush!\" said the rabbit in a low, hurried tone.\\nhe looked anxiously over his shoulder as he spoke, and then raised himself upon tiptoe, put his mouth close to her ear, and whispered \"she’s under sentence of execution.\" \"what for?\" said alice.\\n\"did you say ‘what a pity!’?\" the rabbit asked.\\n\"no, i didn’t,\" said alice: \"i don’t think it’s at all a pity.\\ni said ‘what for?’\" \"she boxed the queen’s ears\" the rabbit began.\\nalice gave a little scream of laughter.\\n\"oh, hush!\" the rabbit whispered in a frightened tone.\\n\"the queen will hear you!\\nyou see, she came rather late, and the queen said\" \"get to your places!\" shouted the queen in a voice of thunder, and people began running about in all directions, tumbling up against each other. however, they got settled down in a minute or two, and the game began.\\nalice thought she had never seen such a curious croquet-ground in her life. it was all ridges and furrows. the balls were live hedgehogs, the mallets live flamingoes, and the soldiers had to double themselves up and to stand on their hands and feet, to make the arches.\\nthe chief difficulty alice found at first was in managing her flamingo: she succeeded in getting its body tucked away, comfortably enough, under her arm, with its legs hanging down, but generally, just as she had got its neck nicely straightened out, and was going to give the hedgehog a blow with its head, it would twist itself round and look up in her face, with such a puzzled expression that she could not help bursting out laughing: and when she had got its head down, and was going to begin again, it was very provoking to find that the hedgehog had unrolled itself, and was in the act of crawling away: besides all this, there was generally a ridge or furrow in the way wherever she wanted to send the hedgehog to, and, as the doubled-up soldiers were always getting up and walking off to other parts of the ground, alice soon came to the conclusion that it was a very difficult game indeed.\\nthe players all played at once without waiting for turns, quarrelling all the while, and fighting for the hedgehogs. and in a very short time the queen was in a furious passion, and went stamping about, and shouting \"off with his head!\" or \"off with her head!\" about once in a minute.\\nalice began to feel very uneasy: to be sure, she had not as yet had any dispute with the queen, but she knew that it might happen any minute, \"and then,\" thought she, \"what would become of me?\\nthey’re dreadfully fond of beheading people here. the great wonder is, that there’s any one left alive!\" she was looking about for some way of escape, and wondering whether she could get away without being seen, when she noticed a curious appearance in the air: it puzzled her very much at first, but, after watching it a minute or two, she made it out to be a grin, and she said to herself \"it’s the cheshire cat: now i shall have somebody to talk to.\" \"how are you getting on?\" said the cat, as soon as there was mouth enough for it to speak with.\\nalice waited till the eyes appeared, and then nodded.\\n\"it’s no use speaking to it,\" she thought, \"till its ears have come, or at least one of them.\" in another minute the whole head appeared, and then alice put down her flamingo, and began an account of the game, feeling very glad she had someone to listen to her.\\nthe cat seemed to think that there was enough of it now in sight, and no more of it appeared.\\n\"i don’t think they play at all fairly,\" alice began, in rather a complaining tone, \"and they all quarrel so dreadfully one can’t hear oneself speakand they don’t seem to have any rules in particular. at least, if there are, nobody attends to themand you’ve no idea how confusing it is all the things being alive. for instance, there’s the arch i’ve got to go through next walking about at the other end of the groundand i should have croqueted the queen’s hedgehog just now, only it ran away when it saw mine coming!\" \"how do you like the queen?\" said the cat in a low voice.\\n\"not at all,\" said alice: \"she’s so extremely\" just then she noticed that the queen was close behind her, listening: so she went on, \"likely to win, that it’s hardly worth while finishing the game.\" the queen smiled and passed on.\\n\"who are you talking to?\" said the king, going up to alice, and looking at the cat’s head with great curiosity.\\n\"it’s a friend of minea cheshire cat,\" said alice: \"allow me to introduce it.\" \"i don’t like the look of it at all,\" said the king: \"however, it may kiss my hand if it likes.\" \"i’d rather not,\" the cat remarked.\\n\"don’t be impertinent,\" said the king, \"and don’t look at me like that!\" he got behind alice as he spoke.\\n\"a cat may look at a king,\" said alice.\\n\"i’ve read that in some book, but i don’t remember where.\" \"well, it must be removed,\" said the king very decidedly, and he called the queen, who was passing at the moment, \"my dear!\\ni wish you would have this cat removed!\" the queen had only one way of settling all difficulties, great or small.\\n\"off with his head!\" she said, without even looking round.\\n\"i’ll fetch the executioner myself,\" said the king eagerly, and he hurried off.\\nalice thought she might as well go back, and see how the game was going on, as she heard the queen’s voice in the distance, screaming with passion.\\nshe had already heard her sentence three of the players to be executed for having missed their turns, and she did not like the look of things at all, as the game was in such confusion that she never knew whether it was her turn or not.\\nso she went in search of her hedgehog.\\nthe hedgehog was engaged in a fight with another hedgehog, which seemed to alice an excellent opportunity for croqueting one of them with the other: the only difficulty was, that her flamingo was gone across to the other side of the garden, where alice could see it trying in a helpless sort of way to fly up into a tree.\\nby the time she had caught the flamingo and brought it back, the fight was over, and both the hedgehogs were out of sight: \"but it doesn’t matter much,\" thought alice, \"as all the arches are gone from this side of the ground.\" so she tucked it away under her arm, that it might not escape again, and went back for a little more conversation with her friend.\\nwhen she got back to the cheshire cat, she was surprised to find quite a large crowd collected round it: there was a dispute going on between the executioner, the king, and the queen, who were all talking at once, while all the rest were quite silent, and looked very uncomfortable.\\nthe moment alice appeared, she was appealed to by all three to settle the question, and they repeated their arguments to her, though, as they all spoke at once, she found it very hard indeed to make out exactly what they said.\\nthe executioner’s argument was, that you couldn’t cut off a head unless there was a body to cut it off from: that he had never had to do such a thing before, and he wasn’t going to begin at his time of life.\\nthe king’s argument was, that anything that had a head could be beheaded, and that you weren’t to talk nonsense.\\nthe queen’s argument was, that if something wasn’t done about it in less than no time she’d have everybody executed, all round.\\n(it was this last remark that had made the whole party look so grave and anxious.)\\nalice could think of nothing else to say but \"it belongs to the duchess: you’d better ask her about it.\" \"she’s in prison,\" the queen said to the executioner: \"fetch her here.\" and the executioner went off like an arrow.\\nthe cat’s head began fading away the moment he was gone, and, by the time he had come back with the duchess, it had entirely disappeared. so the king and the executioner ran wildly up and down looking for it, while the rest of the party went back to the game.\\nchapter ix.\\nthe mock turtle’s story \"you can’t think how glad i am to see you again, you dear old thing!\" said the duchess, as she tucked her arm affectionately into alice’s, and they walked off together.\\nalice was very glad to find her in such a pleasant temper, and thought to herself that perhaps it was only the pepper that had made her so savage when they met in the kitchen.\\n\"when i’m a duchess,\" she said to herself, (not in a very hopeful tone though), \"i won’t have any pepper in my kitchen at all.\\nsoup does very well withoutmaybe it’s always pepper that makes people hot-tempered,\" she went on, very much pleased at having found out a new kind of rule, \"and vinegar that makes them sourand camomile that makes them bitterandand barley-sugar and such things that make children sweet-tempered.\\ni only wish people knew that: then they wouldn’t be so stingy about it, you know\" she had quite forgotten the duchess by this time, and was a little startled when she heard her voice close to her ear.\\n\"you’re thinking about something, my dear, and that makes you forget to talk.\\ni can’t tell you just now what the moral of that is, but i shall remember it in a bit.\" \"perhaps it hasn’t one,\" alice ventured to remark.\\n\"tut, tut, child!\" said the duchess.\\n\"everything’s got a moral, if only you can find it.\" and she squeezed herself up closer to alice’s side as she spoke.\\nalice did not much like keeping so close to her: first, because the duchess was very ugly. and secondly, because she was exactly the right height to rest her chin upon alice’s shoulder, and it was an uncomfortably sharp chin.\\nhowever, she did not like to be rude, so she bore it as well as she could.\\n\"the game’s going on rather better now,\" she said, by way of keeping up the conversation a little.\\n\"’tis so,\" said the duchess: \"and the moral of that is‘oh, ’tis love, ’tis love, that makes the world go round!’\" \"somebody said,\" alice whispered, \"that it’s done by everybody minding their own business!\" \"ah, well!\\nit means much the same thing,\" said the duchess, digging her sharp little chin into alice’s shoulder as she added, \"and the moral of that is‘take care of the sense, and the sounds will take care of themselves.’\" \"how fond she is of finding morals in things!\" alice thought to herself.\\n\"i dare say you’re wondering why i don’t put my arm round your waist,\" the duchess said after a pause: \"the reason is, that i’m doubtful about the temper of your flamingo.\\nshall i try the experiment?\" \"he might bite,\" alice cautiously replied, not feeling at all anxious to have the experiment tried.\\n\"very true,\" said the duchess: \"flamingoes and mustard both bite.\\nand the moral of that is‘birds of a feather flock together.’\" \"only mustard isn’t a bird,\" alice remarked.\\n\"right, as usual,\" said the duchess: \"what a clear way you have of putting things!\" \"it’s a mineral, i think,\" said alice.\\n\"of course it is,\" said the duchess, who seemed ready to agree to everything that alice said. \"there’s a large mustard-mine near here.\\nand the moral of that is‘the more there is of mine, the less there is of yours.’\" \"oh, i know!\" exclaimed alice, who had not attended to this last remark, \"it’s a vegetable.\\nit doesn’t look like one, but it is.\" \"i quite agree with you,\" said the duchess. \"and the moral of that is‘be what you would seem to be’or if you’d like it put more simply‘never imagine yourself not to be otherwise than what it might appear to others that what you were or might have been was not otherwise than what you had been would have appeared to them to be otherwise.’\" \"i think i should understand that better,\" alice said very politely, \"if i had it written down: but i can’t quite follow it as you say it.\" \"that’s nothing to what i could say if i chose,\" the duchess replied, in a pleased tone.\\n\"pray don’t trouble yourself to say it any longer than that,\" said alice.\\n\"oh, don’t talk about trouble!\" said the duchess.\\n\"i make you a present of everything i’ve said as yet.\" \"a cheap sort of present!\" thought alice.\\n\"i’m glad they don’t give birthday presents like that!\" but she did not venture to say it out loud.\\n\"thinking again?\" the duchess asked, with another dig of her sharp little chin.\\n\"i’ve a right to think,\" said alice sharply, for she was beginning to feel a little worried.\\n\"just about as much right,\" said the duchess, \"as pigs have to fly. and the m\" but here, to alice’s great surprise, the duchess’s voice died away, even in the middle of her favourite word ‘moral,’ and the arm that was linked into hers began to tremble.\\nalice looked up, and there stood the queen in front of them, with her arms folded, frowning like a thunderstorm.\\n\"a fine day, your majesty!\" the duchess began in a low, weak voice.\\n\"now, i give you fair warning,\" shouted the queen, stamping on the ground as she spoke. \"either you or your head must be off, and that in about half no time!\\ntake your choice!\" the duchess took her choice, and was gone in a moment.\\n\"let’s go on with the game,\" the queen said to alice. and alice was too much frightened to say a word, but slowly followed her back to the croquet-ground.\\nthe other guests had taken advantage of the queen’s absence, and were resting in the shade: however, the moment they saw her, they hurried back to the game, the queen merely remarking that a moment’s delay would cost them their lives.\\nall the time they were playing the queen never left off quarrelling with the other players, and shouting \"off with his head!\" or \"off with her head!\" those whom she sentenced were taken into custody by the soldiers, who of course had to leave off being arches to do this, so that by the end of half an hour or so there were no arches left, and all the players, except the king, the queen, and alice, were in custody and under sentence of execution.\\nthen the queen left off, quite out of breath, and said to alice, \"have you seen the mock turtle yet?\" \"no,\" said alice.\\n\"i don’t even know what a mock turtle is.\" \"it’s the thing mock turtle soup is made from,\" said the queen.\\n\"i never saw one, or heard of one,\" said alice.\\n\"come on, then,\" said the queen, \"and he shall tell you his history,\" as they walked off together, alice heard the king say in a low voice, to the company generally, \"you are all pardoned.\" \"come, that’s a good thing!\" she said to herself, for she had felt quite unhappy at the number of executions the queen had ordered.\\nthey very soon came upon a gryphon, lying fast asleep in the sun.\\n(if you don’t know what a gryphon is, look at the picture.)\\n\"up, lazy thing!\" said the queen, \"and take this young lady to see the mock turtle, and to hear his history.\\ni must go back and see after some executions i have ordered.\" and she walked off, leaving alice alone with the gryphon.\\nalice did not quite like the look of the creature, but on the whole she thought it would be quite as safe to stay with it as to go after that savage queen: so she waited.\\nthe gryphon sat up and rubbed its eyes: then it watched the queen till she was out of sight: then it chuckled.\\n\"what fun!\" said the gryphon, half to itself, half to alice.\\n\"what is the fun?\" said alice.\\n\"why, she,\" said the gryphon.\\n\"it’s all her fancy, that: they never executes nobody, you know.\\ncome on!\" \"everybody says ‘come on!’ here,\" thought alice, as she went slowly after it: \"i never was so ordered about in all my life, never!\" they had not gone far before they saw the mock turtle in the distance, sitting sad and lonely on a little ledge of rock, and, as they came nearer, alice could hear him sighing as if his heart would break.\\nshe pitied him deeply.\\n\"what is his sorrow?\" she asked the gryphon, and the gryphon answered, very nearly in the same words as before, \"it’s all his fancy, that: he hasn’t got no sorrow, you know.\\ncome on!\" so they went up to the mock turtle, who looked at them with large eyes full of tears, but said nothing.\\n\"this here young lady,\" said the gryphon, \"she wants for to know your history, she do.\" \"i’ll tell it her,\" said the mock turtle in a deep, hollow tone: \"sit down, both of you, and don’t speak a word till i’ve finished.\" so they sat down, and nobody spoke for some minutes.\\nalice thought to herself, \"i don’t see how he can ever finish, if he doesn’t begin.\" but she waited patiently.\\n\"once,\" said the mock turtle at last, with a deep sigh, \"i was a real turtle.\" these words were followed by a very long silence, broken only by an occasional exclamation of \"hjckrrh!\" from the gryphon, and the constant heavy sobbing of the mock turtle.\\nalice was very nearly getting up and saying, \"thank you, sir, for your interesting story,\" but she could not help thinking there must be more to come, so she sat still and said nothing.\\n\"when we were little,\" the mock turtle went on at last, more calmly, though still sobbing a little now and then, \"we went to school in the sea.\\nthe master was an old turtlewe used to call him tortoise\" \"why did you call him tortoise, if he wasn’t one?\" alice asked.\\n\"we called him tortoise because he taught us,\" said the mock turtle angrily: \"really you are very dull!\" \"you ought to be ashamed of yourself for asking such a simple question,\" added the gryphon. and then they both sat silent and looked at poor alice, who felt ready to sink into the earth.\\nat last the gryphon said to the mock turtle, \"drive on, old fellow!\\ndon’t be all day about it!\" and he went on in these words: \"yes, we went to school in the sea, though you mayn’t believe it\" \"i never said i didn’t!\" interrupted alice.\\n\"you did,\" said the mock turtle.\\n\"hold your tongue!\" added the gryphon, before alice could speak again.\\nthe mock turtle went on.\\n\"we had the best of educationsin fact, we went to school every day\" \"i’ve been to a day-school, too,\" said alice. \"you needn’t be so proud as all that.\" \"with extras?\" asked the mock turtle a little anxiously.\\n\"yes,\" said alice, \"we learned french and music.\" \"and washing?\" said the mock turtle.\\n\"certainly not!\" said alice indignantly.\\n\"ah!\\nthen yours wasn’t a really good school,\" said the mock turtle in a tone of great relief.\\n\"now at ours they had at the end of the bill, ‘french, music, and washingextra.’\" \"you couldn’t have wanted it much,\" said alice. \"living at the bottom of the sea.\" \"i couldn’t afford to learn it.\" said the mock turtle with a sigh.\\n\"i only took the regular course.\" \"what was that?\" inquired alice.\\n\"reeling and writhing, of course, to begin with,\" the mock turtle replied. \"and then the different branches of arithmeticambition, distraction, uglification, and derision.\" \"i never heard of ‘uglification,’\" alice ventured to say.\\n\"what is it?\" the gryphon lifted up both its paws in surprise.\\n\"what!\\nnever heard of uglifying!\" it exclaimed.\\n\"you know what to beautify is, i suppose?\" \"yes,\" said alice doubtfully: \"it meanstomakeanythingprettier.\" \"well, then,\" the gryphon went on, \"if you don’t know what to uglify is, you are a simpleton.\" alice did not feel encouraged to ask any more questions about it, so she turned to the mock turtle, and said \"what else had you to learn?\" \"well, there was mystery,\" the mock turtle replied, counting off the subjects on his flappers, \"mystery, ancient and modern, with seaography: then drawlingthe drawling-master was an old conger-eel, that used to come once a week: he taught us drawling, stretching, and fainting in coils.\" \"what was that like?\" said alice.\\n\"well, i can’t show it you myself,\" the mock turtle said: \"i’m too stiff.\\nand the gryphon never learnt it.\" \"hadn’t time,\" said the gryphon: \"i went to the classics master, though.\\nhe was an old crab, he was.\" \"i never went to him,\" the mock turtle said with a sigh: \"he taught laughing and grief, they used to say.\" \"so he did, so he did,\" said the gryphon, sighing in his turn. and both creatures hid their faces in their paws.\\n\"and how many hours a day did you do lessons?\" said alice, in a hurry to change the subject.\\n\"ten hours the first day,\" said the mock turtle: \"nine the next, and so on.\" \"what a curious plan!\" exclaimed alice.\\n\"that’s the reason they’re called lessons,\" the gryphon remarked: \"because they lessen from day to day.\" this was quite a new idea to alice, and she thought it over a little before she made her next remark.\\n\"then the eleventh day must have been a holiday?\" \"of course it was,\" said the mock turtle.\\n\"and how did you manage on the twelfth?\" alice went on eagerly.\\n\"that’s enough about lessons,\" the gryphon interrupted in a very decided tone: \"tell her something about the games now.\" chapter x.\\nthe lobster quadrille the mock turtle sighed deeply, and drew the back of one flapper across his eyes.\\nhe looked at alice, and tried to speak, but for a minute or two sobs choked his voice.\\n\"same as if he had a bone in his throat,\" said the gryphon: and it set to work shaking him and punching him in the back.\\nat last the mock turtle recovered his voice, and, with tears running down his cheeks, he went on again: \"you may not have lived much under the sea\" (\"i haven’t,\" said alice)\"and perhaps you were never even introduced to a lobster\" (alice began to say \"i once tasted\" but checked herself hastily, and said \"no, never\") \"so you can have no idea what a delightful thing a lobster quadrille is!\" \"no, indeed,\" said alice.\\n\"what sort of a dance is it?\" \"why,\" said the gryphon, \"you first form into a line along the sea-shore\" \"two lines!\" cried the mock turtle.\\n\"seals, turtles, salmon, and so on. then, when you’ve cleared all the jelly-fish out of the way\" \"that generally takes some time,\" interrupted the gryphon.\\n\"you advance twice\" \"each with a lobster as a partner!\" cried the gryphon.\\n\"of course,\" the mock turtle said: \"advance twice, set to partners\" \"change lobsters, and retire in same order,\" continued the gryphon.\\n\"then, you know,\" the mock turtle went on, \"you throw the\" \"the lobsters!\" shouted the gryphon, with a bound into the air.\\n\"as far out to sea as you can\" \"swim after them!\" screamed the gryphon.\\n\"turn a somersault in the sea!\" cried the mock turtle, capering wildly about.\\n\"change lobsters again!\" yelled the gryphon at the top of its voice.\\n\"back to land again, and that’s all the first figure,\" said the mock turtle, suddenly dropping his voice. and the two creatures, who had been jumping about like mad things all this time, sat down again very sadly and quietly, and looked at alice.\\n\"it must be a very pretty dance,\" said alice timidly.\\n\"would you like to see a little of it?\" said the mock turtle.\\n\"very much indeed,\" said alice.\\n\"come, let’s try the first figure!\" said the mock turtle to the gryphon.\\n\"we can do without lobsters, you know.\\nwhich shall sing?\" \"oh, you sing,\" said the gryphon.\\n\"i’ve forgotten the words.\" so they began solemnly dancing round and round alice, every now and then treading on her toes when they passed too close, and waving their forepaws to mark the time, while the mock turtle sang this, very slowly and sadly: \"will you walk a little faster?\" said a whiting to a snail.\\n\"there’s a porpoise close behind us, and he’s treading on my tail.\\nsee how eagerly the lobsters and the turtles all advance!\\nthey are waiting on the shinglewill you come and join the dance?\\nwill you, won’t you, will you, won’t you, will you join the dance?\\nwill you, won’t you, will you, won’t you, won’t you join the dance?\\n\"you can really have no notion how delightful it will be when they take us up and throw us, with the lobsters, out to sea!\" but the snail replied \"too far, too far!\" and gave a look askance said he thanked the whiting kindly, but he would not join the dance.\\nwould not, could not, would not, could not, would not join the dance.\\nwould not, could not, would not, could not, could not join the dance.\\n\"what matters it how far we go?\" his scaly friend replied.\\n\"there is another shore, you know, upon the other side.\\nthe further off from england the nearer is to france then turn not pale, beloved snail, but come and join the dance.\\nwill you, won’t you, will you, won’t you, will you join the dance?\\nwill you, won’t you, will you, won’t you, won’t you join the dance?\" \"thank you, it’s a very interesting dance to watch,\" said alice, feeling very glad that it was over at last: \"and i do so like that curious song about the whiting!\" \"oh, as to the whiting,\" said the mock turtle, \"theyyou’ve seen them, of course?\" \"yes,\" said alice, \"i’ve often seen them at dinn\" she checked herself hastily.\\n\"i don’t know where dinn may be,\" said the mock turtle, \"but if you’ve seen them so often, of course you know what they’re like.\" \"i believe so,\" alice replied thoughtfully.\\n\"they have their tails in their mouthsand they’re all over crumbs.\" \"you’re wrong about the crumbs,\" said the mock turtle: \"crumbs would all wash off in the sea.\\nbut they have their tails in their mouths. and the reason is\" here the mock turtle yawned and shut his eyes.\"tell her about the reason and all that,\" he said to the gryphon.\\n\"the reason is,\" said the gryphon, \"that they would go with the lobsters to the dance.\\nso they got thrown out to sea.\\nso they had to fall a long way.\\nso they got their tails fast in their mouths.\\nso they couldn’t get them out again.\\nthat’s all.\" \"thank you,\" said alice, \"it’s very interesting.\\ni never knew so much about a whiting before.\" \"i can tell you more than that, if you like,\" said the gryphon.\\n\"do you know why it’s called a whiting?\" \"i never thought about it,\" said alice.\\n\"why?\" \"it does the boots and shoes,\" the gryphon replied very solemnly.\\nalice was thoroughly puzzled.\\n\"does the boots and shoes!\" she repeated in a wondering tone.\\n\"why, what are your shoes done with?\" said the gryphon.\\n\"i mean, what makes them so shiny?\" alice looked down at them, and considered a little before she gave her answer.\\n\"they’re done with blacking, i believe.\" \"boots and shoes under the sea,\" the gryphon went on in a deep voice, \"are done with a whiting.\\nnow you know.\" \"and what are they made of?\" alice asked in a tone of great curiosity.\\n\"soles and eels, of course,\" the gryphon replied rather impatiently: \"any shrimp could have told you that.\" \"if i’d been the whiting,\" said alice, whose thoughts were still running on the song, \"i’d have said to the porpoise, ‘keep back, please: we don’t want you with us!’\" \"they were obliged to have him with them,\" the mock turtle said: \"no wise fish would go anywhere without a porpoise.\" \"wouldn’t it really?\" said alice in a tone of great surprise.\\n\"of course not,\" said the mock turtle: \"why, if a fish came to me, and told me he was going a journey, i should say ‘with what porpoise?’\" \"don’t you mean ‘purpose’?\" said alice.\\n\"i mean what i say,\" the mock turtle replied in an offended tone.\\nand the gryphon added \"come, let’s hear some of your adventures.\" \"i could tell you my adventuresbeginning from this morning,\" said alice a little timidly: \"but it’s no use going back to yesterday, because i was a different person then.\" \"explain all that,\" said the mock turtle.\\n\"no, no!\\nthe adventures first,\" said the gryphon in an impatient tone: \"explanations take such a dreadful time.\" so alice began telling them her adventures from the time when she first saw the white rabbit.\\nshe was a little nervous about it just at first, the two creatures got so close to her, one on each side, and opened their eyes and mouths so very wide, but she gained courage as she went on.\\nher listeners were perfectly quiet till she got to the part about her repeating \"you are old, father william,\" to the caterpillar, and the words all coming different, and then the mock turtle drew a long breath, and said \"that’s very curious.\" \"it’s all about as curious as it can be,\" said the gryphon.\\n\"it all came different!\" the mock turtle repeated thoughtfully.\\n\"i should like to hear her try and repeat something now.\\ntell her to begin.\" he looked at the gryphon as if he thought it had some kind of authority over alice.\\n\"stand up and repeat ‘’tis the voice of the sluggard,’\" said the gryphon.\\n\"how the creatures order one about, and make one repeat lessons!\" thought alice. \"i might as well be at school at once.\" however, she got up, and began to repeat it, but her head was so full of the lobster quadrille, that she hardly knew what she was saying, and the words came very queer indeed: \"’tis the voice of the lobster. i heard him declare, \"you have baked me too brown, i must sugar my hair.\" as a duck with its eyelids, so he with his nose trims his belt and his buttons, and turns out his toes.\" [later editions continued as follows when the sands are all dry, he is gay as a lark, and will talk in contemptuous tones of the shark, but, when the tide rises and sharks are around, his voice has a timid and tremulous sound.]\\n\"that’s different from what i used to say when i was a child,\" said the gryphon.\\n\"well, i never heard it before,\" said the mock turtle. \"but it sounds uncommon nonsense.\" alice said nothing. she had sat down with her face in her hands, wondering if anything would ever happen in a natural way again.\\n\"i should like to have it explained,\" said the mock turtle.\\n\"she can’t explain it,\" said the gryphon hastily.\\n\"go on with the next verse.\" \"but about his toes?\" the mock turtle persisted.\\n\"how could he turn them out with his nose, you know?\" \"it’s the first position in dancing.\" alice said. but was dreadfully puzzled by the whole thing, and longed to change the subject.\\n\"go on with the next verse,\" the gryphon repeated impatiently: \"it begins ‘i passed by his garden.’\" alice did not dare to disobey, though she felt sure it would all come wrong, and she went on in a trembling voice: \"i passed by his garden, and marked, with one eye, how the owl and the panther were sharing a pie\" [later editions continued as follows the panther took pie-crust, and gravy, and meat, while the owl had the dish as its share of the treat.\\nwhen the pie was all finished, the owl, as a boon, was kindly permitted to pocket the spoon: while the panther received knife and fork with a growl, and concluded the banquet] \"what is the use of repeating all that stuff,\" the mock turtle interrupted, \"if you don’t explain it as you go on?\\nit’s by far the most confusing thing i ever heard!\" \"yes, i think you’d better leave off,\" said the gryphon: and alice was only too glad to do so.\\n\"shall we try another figure of the lobster quadrille?\" the gryphon went on.\\n\"or would you like the mock turtle to sing you a song?\" \"oh, a song, please, if the mock turtle would be so kind,\" alice replied, so eagerly that the gryphon said, in a rather offended tone, \"hm!\\nno accounting for tastes!\\nsing her ‘turtle soup,’ will you, old fellow?\" the mock turtle sighed deeply, and began, in a voice sometimes choked with sobs, to sing this: \"beautiful soup, so rich and green, waiting in a hot tureen!\\nwho for such dainties would not stoop?\\nsoup of the evening, beautiful soup!\\nsoup of the evening, beautiful soup!\\nbeauootiful soooop!\\nbeauootiful soooop!\\nsoooop of the eeevening, beautiful, beautiful soup!\\n\"beautiful soup!\\nwho cares for fish, game, or any other dish?\\nwho would not give all else for two p ennyworth only of beautiful soup?\\npennyworth only of beautiful soup?\\nbeauootiful soooop!\\nbeauootiful soooop!\\nsoooop of the eeevening, beautiful, beautiful soup!\" \"chorus again!\" cried the gryphon, and the mock turtle had just begun to repeat it, when a cry of \"the trial’s beginning!\" was heard in the distance.\\n\"come on!\" cried the gryphon, and, taking alice by the hand, it hurried off, without waiting for the end of the song.\\n\"what trial is it?\" alice panted as she ran. but the gryphon only answered \"come on!\" and ran the faster, while more and more faintly came, carried on the breeze that followed them, the melancholy words: \"soooop of the eeevening, beautiful, beautiful soup!\" chapter xi.\\nwho stole the tarts?\\nthe king and queen of hearts were seated on their throne when they arrived, with a great crowd assembled about themall sorts of little birds and beasts, as well as the whole pack of cards: the knave was standing before them, in chains, with a soldier on each side to guard him. and near the king was the white rabbit, with a trumpet in one hand, and a scroll of parchment in the other.\\nin the very middle of the court was a table, with a large dish of tarts upon it: they looked so good, that it made alice quite hungry to look at them\"i wish they’d get the trial done,\" she thought, \"and hand round the refreshments!\" but there seemed to be no chance of this, so she began looking at everything about her, to pass away the time.\\nalice had never been in a court of justice before, but she had read about them in books, and she was quite pleased to find that she knew the name of nearly everything there.\\n\"that’s the judge,\" she said to herself, \"because of his great wig.\" the judge, by the way, was the king. and as he wore his crown over the wig, (look at the frontispiece if you want to see how he did it,) he did not look at all comfortable, and it was certainly not becoming.\\n\"and that’s the jury-box,\" thought alice, \"and those twelve creatures,\" (she was obliged to say \"creatures,\" you see, because some of them were animals, and some were birds,) \"i suppose they are the jurors.\" she said this last word two or three times over to herself, being rather proud of it: for she thought, and rightly too, that very few little girls of her age knew the meaning of it at all.\\nhowever, \"jury-men\" would have done just as well.\\nthe twelve jurors were all writing very busily on slates.\\n\"what are they doing?\" alice whispered to the gryphon.\\n\"they can’t have anything to put down yet, before the trial’s begun.\" \"they’re putting down their names,\" the gryphon whispered in reply, \"for fear they should forget them before the end of the trial.\" \"stupid things!\" alice began in a loud, indignant voice, but she stopped hastily, for the white rabbit cried out, \"silence in the court!\" and the king put on his spectacles and looked anxiously round, to make out who was talking.\\nalice could see, as well as if she were looking over their shoulders, that all the jurors were writing down \"stupid things!\" on their slates, and she could even make out that one of them didn’t know how to spell \"stupid,\" and that he had to ask his neighbour to tell him.\\n\"a nice muddle their slates’ll be in before the trial’s over!\" thought alice.\\none of the jurors had a pencil that squeaked.\\nthis of course, alice could not stand, and she went round the court and got behind him, and very soon found an opportunity of taking it away.\\nshe did it so quickly that the poor little juror (it was bill, the lizard) could not make out at all what had become of it. so, after hunting all about for it, he was obliged to write with one finger for the rest of the day. and this was of very little use, as it left no mark on the slate.\\n\"herald, read the accusation!\" said the king.\\non this the white rabbit blew three blasts on the trumpet, and then unrolled the parchment scroll, and read as follows: \"the queen of hearts, she made some tarts, all on a summer day: the knave of hearts, he stole those tarts, and took them quite away!\" \"consider your verdict,\" the king said to the jury.\\n\"not yet, not yet!\" the rabbit hastily interrupted.\\n\"there’s a great deal to come before that!\" \"call the first witness,\" said the king. and the white rabbit blew three blasts on the trumpet, and called out, \"first witness!\" the first witness was the hatter.\\nhe came in with a teacup in one hand and a piece of bread-and-butter in the other.\\n\"i beg pardon, your majesty,\" he began, \"for bringing these in: but i hadn’t quite finished my tea when i was sent for.\" \"you ought to have finished,\" said the king.\\n\"when did you begin?\" the hatter looked at the march hare, who had followed him into the court, arm-in-arm with the dormouse.\\n\"fourteenth of march, i think it was,\" he said.\\n\"fifteenth,\" said the march hare.\\n\"sixteenth,\" added the dormouse.\\n\"write that down,\" the king said to the jury, and the jury eagerly wrote down all three dates on their slates, and then added them up, and reduced the answer to shillings and pence.\\n\"take off your hat,\" the king said to the hatter.\\n\"it isn’t mine,\" said the hatter.\\n\"stolen!\" the king exclaimed, turning to the jury, who instantly made a memorandum of the fact.\\n\"i keep them to sell,\" the hatter added as an explanation. \"i’ve none of my own.\\ni’m a hatter.\" here the queen put on her spectacles, and began staring at the hatter, who turned pale and fidgeted.\\n\"give your evidence,\" said the king. \"and don’t be nervous, or i’ll have you executed on the spot.\" this did not seem to encourage the witness at all: he kept shifting from one foot to the other, looking uneasily at the queen, and in his confusion he bit a large piece out of his teacup instead of the bread-and-butter.\\njust at this moment alice felt a very curious sensation, which puzzled her a good deal until she made out what it was: she was beginning to grow larger again, and she thought at first she would get up and leave the court. but on second thoughts she decided to remain where she was as long as there was room for her.\\n\"i wish you wouldn’t squeeze so.\" said the dormouse, who was sitting next to her.\\n\"i can hardly breathe.\" \"i can’t help it,\" said alice very meekly: \"i’m growing.\" \"you’ve no right to grow here,\" said the dormouse.\\n\"don’t talk nonsense,\" said alice more boldly: \"you know you’re growing too.\" \"yes, but i grow at a reasonable pace,\" said the dormouse: \"not in that ridiculous fashion.\" and he got up very sulkily and crossed over to the other side of the court.\\nall this time the queen had never left off staring at the hatter, and, just as the dormouse crossed the court, she said to one of the officers of the court, \"bring me the list of the singers in the last concert!\" on which the wretched hatter trembled so, that he shook both his shoes off.\\n\"give your evidence,\" the king repeated angrily, \"or i’ll have you executed, whether you’re nervous or not.\" \"i’m a poor man, your majesty,\" the hatter began, in a trembling voice, \"and i hadn’t begun my teanot above a week or soand what with the bread-and-butter getting so thinand the twinkling of the tea\" \"the twinkling of the what?\" said the king.\\n\"it began with the tea,\" the hatter replied.\\n\"of course twinkling begins with a t!\" said the king sharply.\\n\"do you take me for a dunce?\\ngo on!\" \"i’m a poor man,\" the hatter went on, \"and most things twinkled after thatonly the march hare said\" \"i didn’t!\" the march hare interrupted in a great hurry.\\n\"you did!\" said the hatter.\\n\"i deny it!\" said the march hare.\\n\"he denies it,\" said the king: \"leave out that part.\" \"well, at any rate, the dormouse said\" the hatter went on, looking anxiously round to see if he would deny it too: but the dormouse denied nothing, being fast asleep.\\n\"after that,\" continued the hatter, \"i cut some more bread-and-butter\" \"but what did the dormouse say?\" one of the jury asked.\\n\"that i can’t remember,\" said the hatter.\\n\"you must remember,\" remarked the king, \"or i’ll have you executed.\" the miserable hatter dropped his teacup and bread-and-butter, and went down on one knee.\\n\"i’m a poor man, your majesty,\" he began.\\n\"you’re a very poor speaker,\" said the king.\\nhere one of the guinea-pigs cheered, and was immediately suppressed by the officers of the court.\\n(as that is rather a hard word, i will just explain to you how it was done.\\nthey had a large canvas bag, which tied up at the mouth with strings: into this they slipped the guinea-pig, head first, and then sat upon it.)\\n\"i’m glad i’ve seen that done,\" thought alice.\\n\"i’ve so often read in the newspapers, at the end of trials, \"there was some attempts at applause, which was immediately suppressed by the officers of the court,\" and i never understood what it meant till now.\" \"if that’s all you know about it, you may stand down,\" continued the king.\\n\"i can’t go no lower,\" said the hatter: \"i’m on the floor, as it is.\" \"then you may sit down,\" the king replied.\\nhere the other guinea-pig cheered, and was suppressed.\\n\"come, that finished the guinea-pigs!\" thought alice.\\n\"now we shall get on better.\" \"i’d rather finish my tea,\" said the hatter, with an anxious look at the queen, who was reading the list of singers.\\n\"you may go,\" said the king, and the hatter hurriedly left the court, without even waiting to put his shoes on.\\n\"and just take his head off outside,\" the queen added to one of the officers: but the hatter was out of sight before the officer could get to the door.\\n\"call the next witness!\" said the king.\\nthe next witness was the duchess’s cook.\\nshe carried the pepper-box in her hand, and alice guessed who it was, even before she got into the court, by the way the people near the door began sneezing all at once.\\n\"give your evidence,\" said the king.\\n\"shan’t,\" said the cook.\\nthe king looked anxiously at the white rabbit, who said in a low voice, \"your majesty must cross-examine this witness.\" \"well, if i must, i must,\" the king said, with a melancholy air, and, after folding his arms and frowning at the cook till his eyes were nearly out of sight, he said in a deep voice, \"what are tarts made of?\" \"pepper, mostly,\" said the cook.\\n\"treacle,\" said a sleepy voice behind her.\\n\"collar that dormouse,\" the queen shrieked out.\\n\"behead that dormouse!\\nturn that dormouse out of court!\\nsuppress him!\\npinch him!\\noff with his whiskers!\" for some minutes the whole court was in confusion, getting the dormouse turned out, and, by the time they had settled down again, the cook had disappeared.\\n\"never mind!\" said the king, with an air of great relief.\\n\"call the next witness.\" and he added in an undertone to the queen, \"really, my dear, you must cross-examine the next witness.\\nit quite makes my forehead ache!\" alice watched the white rabbit as he fumbled over the list, feeling very curious to see what the next witness would be like, \"for they haven’t got much evidence yet,\" she said to herself.\\nimagine her surprise, when the white rabbit read out, at the top of his shrill little voice, the name \"alice!\" chapter xii.\\nalice’s evidence \"here!\" cried alice, quite forgetting in the flurry of the moment how large she had grown in the last few minutes, and she jumped up in such a hurry that she tipped over the jury-box with the edge of her skirt, upsetting all the jurymen on to the heads of the crowd below, and there they lay sprawling about, reminding her very much of a globe of goldfish she had accidentally upset the week before.\\n\"oh, i beg your pardon!\" she exclaimed in a tone of great dismay, and began picking them up again as quickly as she could, for the accident of the goldfish kept running in her head, and she had a vague sort of idea that they must be collected at once and put back into the jury-box, or they would die.\\n\"the trial cannot proceed,\" said the king in a very grave voice, \"until all the jurymen are back in their proper placesall,\" he repeated with great emphasis, looking hard at alice as he said so.\\nalice looked at the jury-box, and saw that, in her haste, she had put the lizard in head downwards, and the poor little thing was waving its tail about in a melancholy way, being quite unable to move.\\nshe soon got it out again, and put it right. \"not that it signifies much,\" she said to herself. \"i should think it would be quite as much use in the trial one way up as the other.\" as soon as the jury had a little recovered from the shock of being upset, and their slates and pencils had been found and handed back to them, they set to work very diligently to write out a history of the accident, all except the lizard, who seemed too much overcome to do anything but sit with its mouth open, gazing up into the roof of the court.\\n\"what do you know about this business?\" the king said to alice.\\n\"nothing,\" said alice.\\n\"nothing whatever?\" persisted the king.\\n\"nothing whatever,\" said alice.\\n\"that’s very important,\" the king said, turning to the jury.\\nthey were just beginning to write this down on their slates, when the white rabbit interrupted: \"unimportant, your majesty means, of course,\" he said in a very respectful tone, but frowning and making faces at him as he spoke.\\n\"unimportant, of course, i meant,\" the king hastily said, and went on to himself in an undertone, \"importantunimportantunimportantimportant\" as if he were trying which word sounded best.\\nsome of the jury wrote it down \"important,\" and some \"unimportant.\" alice could see this, as she was near enough to look over their slates. \"but it doesn’t matter a bit,\" she thought to herself.\\nat this moment the king, who had been for some time busily writing in his note-book, cackled out \"silence!\" and read out from his book, \"rule forty-two.\\nall persons more than a mile high to leave the court.\" everybody looked at alice.\\n\"i’m not a mile high,\" said alice.\\n\"you are,\" said the king.\\n\"nearly two miles high,\" added the queen.\\n\"well, i shan’t go, at any rate,\" said alice: \"besides, that’s not a regular rule: you invented it just now.\" \"it’s the oldest rule in the book,\" said the king.\\n\"then it ought to be number one,\" said alice.\\nthe king turned pale, and shut his note-book hastily.\\n\"consider your verdict,\" he said to the jury, in a low, trembling voice.\\n\"there’s more evidence to come yet, please your majesty,\" said the white rabbit, jumping up in a great hurry. \"this paper has just been picked up.\" \"what’s in it?\" said the queen.\\n\"i haven’t opened it yet,\" said the white rabbit, \"but it seems to be a letter, written by the prisoner toto somebody.\" \"it must have been that,\" said the king, \"unless it was written to nobody, which isn’t usual, you know.\" \"who is it directed to?\" said one of the jurymen.\\n\"it isn’t directed at all,\" said the white rabbit. \"in fact, there’s nothing written on the outside.\" he unfolded the paper as he spoke, and added \"it isn’t a letter, after all: it’s a set of verses.\" \"are they in the prisoner’s handwriting?\" asked another of the jurymen.\\n\"no, they’re not,\" said the white rabbit, \"and that’s the queerest thing about it.\" (the jury all looked puzzled.)\\n\"he must have imitated somebody else’s hand,\" said the king.\\n(the jury all brightened up again.)\\n\"please your majesty,\" said the knave, \"i didn’t write it, and they can’t prove i did: there’s no name signed at the end.\" \"if you didn’t sign it,\" said the king, \"that only makes the matter worse.\\nyou must have meant some mischief, or else you’d have signed your name like an honest man.\" there was a general clapping of hands at this: it was the first really clever thing the king had said that day.\\n\"that proves his guilt,\" said the queen.\\n\"it proves nothing of the sort!\" said alice.\\n\"why, you don’t even know what they’re about!\" \"read them,\" said the king.\\nthe white rabbit put on his spectacles.\\n\"where shall i begin, please your majesty?\" he asked.\\n\"begin at the beginning,\" the king said gravely, \"and go on till you come to the end: then stop.\" these were the verses the white rabbit read: \"they told me you had been to her, and mentioned me to him: she gave me a good character, but said i could not swim.\\nhe sent them word i had not gone (we know it to be true): if she should push the matter on, what would become of you?\\ni gave her one, they gave him two, you gave us three or more. they all returned from him to you, though they were mine before.\\nif i or she should chance to be involved in this affair, he trusts to you to set them free, exactly as we were.\\nmy notion was that you had been (before she had this fit) an obstacle that came between him, and ourselves, and it.\\ndon’t let him know she liked them best, for this must ever be a secret, kept from all the rest, between yourself and me.\" \"that’s the most important piece of evidence we’ve heard yet,\" said the king, rubbing his hands. \"so now let the jury\" \"if any one of them can explain it,\" said alice, (she had grown so large in the last few minutes that she wasn’t a bit afraid of interrupting him,) \"i’ll give him sixpence.\\ni don’t believe there’s an atom of meaning in it.\" the jury all wrote down on their slates, \"she doesn’t believe there’s an atom of meaning in it,\" but none of them attempted to explain the paper.\\n\"if there’s no meaning in it,\" said the king, \"that saves a world of trouble, you know, as we needn’t try to find any.\\nand yet i don’t know,\" he went on, spreading out the verses on his knee, and looking at them with one eye. \"i seem to see some meaning in them, after all.\\n\"said i could not swim\" you can’t swim, can you?\" he added, turning to the knave.\\nthe knave shook his head sadly.\\n\"do i look like it?\" he said.\\n(which he certainly did not, being made entirely of cardboard.)\\n\"all right, so far,\" said the king, and he went on muttering over the verses to himself: \"‘we know it to be true’ that’s the jury, of course‘i gave her one, they gave him two’ why, that must be what he did with the tarts, you know\" \"but, it goes on ‘they all returned from him to you,’\" said alice.\\n\"why, there they are!\" said the king triumphantly, pointing to the tarts on the table.\\n\"nothing can be clearer than that.\\nthen again‘before she had this fit’ you never had fits, my dear, i think?\" he said to the queen.\\n\"never!\" said the queen furiously, throwing an inkstand at the lizard as she spoke.\\n(the unfortunate little bill had left off writing on his slate with one finger, as he found it made no mark. but he now hastily began again, using the ink, that was trickling down his face, as long as it lasted.)\\n\"then the words don’t fit you,\" said the king, looking round the court with a smile.\\nthere was a dead silence.\\n\"it’s a pun!\" the king added in an offended tone, and everybody laughed, \"let the jury consider their verdict,\" the king said, for about the twentieth time that day.\\n\"no, no!\" said the queen.\\n\"sentence firstverdict afterwards.\" \"stuff and nonsense!\" said alice loudly.\\n\"the idea of having the sentence first!\" \"hold your tongue!\" said the queen, turning purple.\\n\"i won’t!\" said alice.\\n\"off with her head!\" the queen shouted at the top of her voice.\\nnobody moved.\\n\"who cares for you?\" said alice, (she had grown to her full size by this time.)\\n\"you’re nothing but a pack of cards!\" at this the whole pack rose up into the air, and came flying down upon her: she gave a little scream, half of fright and half of anger, and tried to beat them off, and found herself lying on the bank, with her head in the lap of her sister, who was gently brushing away some dead leaves that had fluttered down from the trees upon her face.\\n\"wake up, alice dear!\" said her sister. \"why, what a long sleep you’ve had!\" \"oh, i’ve had such a curious dream!\" said alice, and she told her sister, as well as she could remember them, all these strange adventures of hers that you have just been reading about. and when she had finished, her sister kissed her, and said, \"it was a curious dream, dear, certainly: but now run in to your tea. it’s getting late.\" so alice got up and ran off, thinking while she ran, as well she might, what a wonderful dream it had been.\\nbut her sister sat still just as she left her, leaning her head on her hand, watching the setting sun, and thinking of little alice and all her wonderful adventures, till she too began dreaming after a fashion, and this was her dream: first, she dreamed of little alice herself, and once again the tiny hands were clasped upon her knee, and the bright eager eyes were looking up into hersshe could hear the very tones of her voice, and see that queer little toss of her head to keep back the wandering hair that would always get into her eyesand still as she listened, or seemed to listen, the whole place around her became alive with the strange creatures of her little sister’s dream.\\nthe long grass rustled at her feet as the white rabbit hurried bythe frightened mouse splashed his way through the neighbouring poolshe could hear the rattle of the teacups as the march hare and his friends shared their never-ending meal, and the shrill voice of the queen ordering off her unfortunate guests to executiononce more the pig-baby was sneezing on the duchess’s knee, while plates and dishes crashed around itonce more the shriek of the gryphon, the squeaking of the lizard’s slate-pencil, and the choking of the suppressed guinea-pigs, filled the air, mixed up with the distant sobs of the miserable mock turtle.\\nso she sat on, with closed eyes, and half believed herself in wonderland, though she knew she had but to open them again, and all would change to dull realitythe grass would be only rustling in the wind, and the pool rippling to the waving of the reedsthe rattling teacups would change to tinkling sheep-bells, and the queen’s shrill cries to the voice of the shepherd boyand the sneeze of the baby, the shriek of the gryphon, and all the other queer noises, would change (she knew) to the confused clamour of the busy farm-yardwhile the lowing of the cattle in the distance would take the place of the mock turtle’s heavy sobs.\\nlastly, she pictured to herself how this same little sister of hers would, in the after-time, be herself a grown woman. and how she would keep, through all her riper years, the simple and loving heart of her childhood: and how she would gather about her other little children, and make their eyes bright and eager with many a strange tale, perhaps even with the dream of wonderland of long ago: and how she would feel with all their simple sorrows, and find a pleasure in all their simple joys, remembering her own child-life, and the happy summer days.\\nthe end'"
            ]
          },
          "metadata": {
            "tags": []
          },
          "execution_count": 48
        }
      ]
    },
    {
      "cell_type": "code",
      "metadata": {
        "id": "bWNBOlJ5cQym"
      },
      "source": [
        "# tokenize sentences\n",
        "tokenizer = Tokenizer(oov_token=oov_tok)\n",
        "tokenizer.fit_on_texts([my_text])\n",
        "word_index = tokenizer.word_index\n",
        "\n",
        "tokens = tokenizer.texts_to_sequences([my_text])[0]"
      ],
      "execution_count": 57,
      "outputs": []
    },
    {
      "cell_type": "code",
      "metadata": {
        "colab": {
          "base_uri": "https://localhost:8080/"
        },
        "id": "MOx877nxf8Kp",
        "outputId": "30aa16b9-ab5f-4ba7-ad25-9c041fa29bfb"
      },
      "source": [
        "print(\"Size of Word_index is : \", 1+len(word_index))\r\n",
        "print(tokens)\r\n",
        "print(\"Total number of words :\",len(tokens))\r\n",
        "print(\"Total Unique words : \",len(set(tokens)))\r\n",
        "vocab_size =  1+len(word_index)"
      ],
      "execution_count": 71,
      "outputs": [
        {
          "output_type": "stream",
          "text": [
            "Size of Word_index is :  2764\n",
            "[305, 10, 36, 2, 101, 695, 11, 14, 279, 4, 104, 27, 475, 8, 349, 75, 17, 423, 19, 2, 1065, 3, 8, 350, 131, 4, 52, 137, 56, 601, 6, 22, 834, 63, 2, 326, 17, 423, 14, 835, 23, 7, 22, 43, 696, 56, 1066, 12, 7, 3, 29, 35, 2, 212, 8, 5, 326, 58, 11, 173, 696, 56, 1066, 25, 6, 14, 836, 12, 17, 351, 327, 16, 67, 16, 6, 55, 24, 2, 476, 150, 146, 17, 424, 27, 602, 3, 540, 328, 2, 1067, 8, 425, 5, 1485, 1486, 48, 26, 697, 2, 541, 8, 190, 38, 3, 1068, 2, 1487, 54, 280, 5, 147, 101, 20, 1488, 158, 230, 281, 75, 17, 57, 14, 131, 25, 27, 1069, 12, 15, 837, 66, 11, 86, 7, 25, 27, 89, 34, 8, 2, 80, 4, 253, 2, 101, 92, 4, 254, 125, 151, 125, 151, 10, 174, 26, 542, 54, 6, 58, 7, 112, 1070, 7, 1071, 4, 17, 15, 6, 255, 4, 53, 1489, 18, 30, 23, 18, 2, 60, 7, 21, 163, 81, 698, 23, 54, 2, 101, 1490, 179, 5, 426, 34, 8, 76, 1072, 477, 3, 105, 18, 7, 3, 42, 329, 19, 11, 1073, 4, 17, 205, 24, 7, 1491, 603, 17, 327, 15, 6, 22, 103, 127, 256, 5, 101, 20, 352, 5, 1072, 477, 56, 5, 426, 4, 195, 34, 8, 7, 3, 1492, 20, 604, 6, 230, 603, 2, 1493, 109, 7, 3, 1494, 14, 90, 12, 60, 4, 64, 7, 1495, 36, 5, 133, 101, 695, 231, 2, 1074, 12, 191, 152, 36, 49, 11, 109, 7, 103, 137, 836, 65, 12, 2, 478, 6, 14, 4, 104, 34, 51, 2, 101, 695, 49, 1075, 19, 47, 5, 1496, 24, 91, 80, 3, 42, 1076, 280, 36, 25, 280, 15, 11, 22, 28, 5, 152, 4, 86, 40, 1497, 50, 127, 6, 142, 50, 1077, 36, 5, 27, 479, 67, 352, 2, 67, 14, 27, 479, 56, 6, 543, 27, 427, 24, 6, 22, 1078, 8, 60, 16, 6, 49, 36, 4, 153, 40, 17, 3, 4, 213, 29, 14, 164, 4, 428, 148, 94, 6, 206, 4, 153, 36, 3, 170, 34, 29, 6, 14, 429, 4, 23, 7, 14, 171, 838, 4, 64, 207, 42, 6, 105, 18, 2, 699, 8, 2, 67, 3, 430, 15, 32, 44, 839, 20, 1079, 3, 326, 1080, 95, 3, 57, 6, 257, 1498, 3, 696, 1499, 172, 1500, 6, 179, 36, 5, 1081, 128, 37, 8, 2, 1080, 16, 6, 605, 7, 14, 1501, 1502, 1503, 23, 4, 17, 117, 1504, 7, 14, 1505, 6, 66, 28, 47, 4, 1506, 2, 1081, 24, 700, 8, 1507, 480, 1082, 25, 701, 4, 143, 7, 63, 37, 8, 2, 1079, 16, 6, 543, 840, 7, 67, 58, 11, 4, 50, 109, 113, 5, 481, 16, 30, 10, 174, 86, 131, 8, 1083, 36, 841, 65, 1508, 702, 21, 86, 61, 18, 606, 114, 10, 282, 92, 207, 40, 7, 214, 41, 10, 543, 59, 2, 431, 8, 2, 215, 96, 14, 27, 607, 842, 36, 36, 36, 48, 2, 481, 103, 107, 4, 77, 216, 10, 213, 65, 306, 843, 132, 703, 75, 30, 60, 6, 9, 608, 10, 108, 26, 190, 844, 240, 2, 1509, 8, 2, 704, 232, 61, 64, 15, 48, 26, 432, 1084, 843, 36, 10, 86, 24, 13, 64, 11, 22, 1085, 705, 154, 8, 30, 202, 12, 17, 353, 12, 2, 1510, 3, 330, 30, 14, 28, 5, 27, 165, 433, 24, 1086, 59, 17, 845, 16, 57, 14, 43, 37, 4, 482, 4, 17, 283, 7, 14, 165, 1511, 4, 92, 7, 112, 284, 134, 40, 2, 138, 1512, 42, 10, 213, 29, 1087, 56, 1088, 132, 106, 4, 11, 22, 43, 241, 29, 1087, 14, 56, 1088, 352, 23, 58, 32, 44, 544, 846, 196, 4, 92, 1089, 6, 72, 51, 10, 213, 41, 10, 174, 481, 138, 258, 2, 704, 65, 847, 434, 435, 4, 107, 34, 307, 2, 285, 15, 609, 20, 88, 354, 1513, 2, 1514, 10, 86, 6, 14, 175, 331, 57, 14, 43, 37, 848, 30, 60, 16, 7, 259, 706, 18, 21, 2, 138, 355, 23, 10, 174, 53, 4, 332, 45, 29, 2, 356, 8, 2, 1515, 35, 13, 46, 208, 1516, 35, 30, 610, 1517, 56, 1518, 3, 6, 206, 4, 1519, 16, 6, 1520, 1521, 16, 186, 1077, 258, 2, 242, 52, 13, 86, 13, 55, 483, 7, 3, 29, 77, 1522, 31, 707, 849, 86, 61, 24, 611, 43, 434, 103, 52, 4, 332, 222, 10, 174, 64, 7, 545, 38, 844, 36, 36, 36, 57, 14, 131, 357, 4, 52, 25, 11, 176, 72, 223, 51, 1090, 850, 61, 27, 89, 4, 612, 10, 166, 86, 333, 14, 2, 129, 10, 851, 702, 260, 17, 1523, 8, 1091, 18, 217, 60, 333, 73, 151, 10, 197, 13, 44, 36, 95, 20, 61, 57, 87, 43, 852, 12, 2, 242, 78, 308, 23, 13, 159, 708, 5, 853, 3, 134, 27, 47, 5, 118, 13, 46, 23, 52, 286, 224, 709, 10, 213, 3, 95, 11, 72, 4, 104, 175, 602, 3, 49, 19, 243, 4, 50, 12, 5, 1524, 202, 8, 80, 52, 286, 224, 709, 52, 286, 224, 709, 3, 613, 52, 709, 224, 286, 24, 13, 64, 16, 6, 388, 389, 352, 225, 7, 259, 89, 390, 96, 80, 6, 143, 7, 6, 187, 15, 6, 14, 1525, 59, 3, 22, 90, 484, 4, 485, 15, 6, 14, 614, 198, 12, 198, 20, 333, 3, 243, 4, 17, 27, 1092, 74, 333, 139, 61, 2, 1526, 66, 13, 192, 224, 5, 853, 54, 280, 1093, 1093, 36, 6, 115, 172, 5, 1527, 8, 1528, 3, 436, 546, 3, 2, 481, 14, 112, 11, 14, 28, 5, 233, 854, 3, 6, 547, 38, 19, 4, 17, 205, 12, 5, 152, 6, 105, 38, 23, 7, 14, 21, 838, 1529, 127, 17, 14, 191, 140, 710, 3, 2, 147, 101, 14, 283, 12, 358, 1530, 36, 7, 57, 14, 28, 5, 152, 4, 26, 855, 177, 49, 11, 47, 2, 1094, 3, 14, 90, 12, 60, 4, 253, 7, 92, 16, 7, 234, 5, 856, 125, 73, 615, 3, 857, 65, 542, 85, 190, 6, 14, 281, 287, 7, 54, 6, 234, 2, 856, 23, 2, 101, 14, 43, 858, 4, 26, 256, 6, 142, 50, 12, 5, 140, 244, 391, 96, 14, 1531, 38, 75, 5, 1095, 8, 1532, 859, 128, 2, 548, 57, 44, 1096, 21, 110, 2, 391, 23, 32, 44, 21, 1533, 3, 54, 11, 22, 126, 21, 2, 80, 36, 37, 226, 3, 38, 2, 119, 261, 309, 155, 6, 359, 616, 36, 2, 486, 487, 65, 6, 14, 192, 4, 104, 34, 51, 280, 6, 115, 172, 5, 31, 160, 1097, 218, 21, 146, 8, 1534, 360, 57, 14, 131, 19, 7, 711, 5, 712, 488, 392, 3, 334, 94, 58, 14, 15, 7, 159, 1535, 4, 37, 8, 2, 1096, 8, 2, 391, 23, 713, 352, 2, 1098, 44, 171, 133, 56, 2, 392, 14, 171, 361, 23, 18, 120, 393, 7, 48, 28, 489, 120, 8, 45, 203, 19, 2, 714, 60, 110, 6, 115, 172, 5, 244, 1536, 6, 22, 28, 430, 127, 3, 287, 7, 14, 5, 31, 155, 40, 1537, 549, 235, 6, 206, 2, 31, 488, 392, 12, 2, 1538, 3, 4, 17, 117, 860, 7, 1539, 11, 362, 2, 155, 3, 142, 15, 7, 715, 63, 5, 361, 710, 28, 89, 490, 180, 5, 1540, 695, 6, 1541, 36, 3, 105, 550, 2, 710, 63, 2, 1542, 245, 13, 192, 257, 65, 6, 1099, 4, 104, 34, 8, 15, 838, 391, 3, 1543, 40, 307, 363, 1100, 8, 437, 1101, 3, 363, 1102, 1103, 23, 6, 55, 28, 214, 104, 17, 99, 258, 2, 1544, 3, 214, 41, 73, 99, 48, 93, 258, 58, 167, 11, 7, 48, 26, 8, 27, 31, 212, 173, 73, 716, 125, 65, 10, 197, 10, 55, 617, 38, 47, 5, 861, 10, 86, 10, 55, 41, 10, 97, 246, 65, 4, 288, 24, 13, 64, 25, 306, 34, 8, 2, 80, 154, 22, 491, 1545, 15, 11, 22, 484, 4, 86, 15, 27, 394, 154, 236, 44, 289, 862, 57, 163, 4, 26, 43, 212, 12, 395, 75, 2, 31, 155, 25, 6, 49, 121, 4, 2, 218, 188, 863, 6, 159, 199, 191, 392, 19, 7, 56, 18, 120, 393, 5, 326, 8, 864, 24, 1104, 285, 38, 47, 1546, 30, 60, 6, 142, 5, 31, 364, 19, 7, 96, 262, 14, 28, 95, 127, 9, 11, 3, 110, 2, 492, 8, 2, 364, 14, 5, 717, 1105, 20, 2, 196, 493, 61, 1106, 1547, 19, 7, 12, 133, 1548, 7, 14, 21, 27, 67, 4, 92, 493, 61, 23, 2, 1107, 31, 11, 14, 28, 164, 4, 52, 15, 12, 5, 335, 43, 156, 153, 94, 6, 9, 3, 64, 328, 85, 551, 1549, 56, 28, 24, 6, 22, 336, 705, 544, 31, 1550, 40, 365, 70, 22, 106, 1551, 3, 1552, 38, 75, 1108, 1109, 3, 119, 1110, 154, 21, 247, 32, 48, 28, 260, 2, 618, 864, 88, 1111, 22, 718, 45, 113, 16, 15, 5, 865, 476, 1553, 144, 1112, 13, 41, 13, 366, 7, 171, 140, 3, 15, 41, 13, 619, 68, 620, 27, 719, 20, 5, 866, 7, 1113, 1554, 3, 6, 22, 103, 552, 15, 41, 13, 493, 89, 128, 5, 364, 551, 1114, 7, 35, 553, 867, 4, 1555, 20, 13, 1115, 56, 868, 203, 30, 364, 14, 28, 551, 1114, 25, 11, 720, 4, 1116, 7, 3, 869, 7, 27, 544, 7, 22, 12, 438, 5, 202, 8, 1117, 1556, 8, 1557, 1558, 1559, 1560, 1561, 1562, 1563, 1564, 3, 476, 1565, 1566, 6, 27, 176, 310, 7, 59, 29, 5, 209, 494, 9, 11, 10, 108, 26, 1104, 38, 47, 5, 861, 3, 25, 7, 14, 236, 6, 14, 74, 97, 554, 549, 235, 3, 17, 263, 1118, 38, 18, 2, 58, 15, 6, 14, 74, 2, 138, 290, 24, 164, 258, 2, 31, 155, 63, 15, 1119, 245, 94, 203, 6, 337, 24, 5, 394, 338, 4, 64, 41, 6, 14, 164, 4, 1567, 120, 870, 6, 187, 5, 31, 621, 40, 30, 24, 7, 159, 216, 13, 46, 9, 11, 4, 50, 12, 73, 164, 34, 622, 47, 5, 871, 10, 213, 29, 10, 166, 26, 47, 42, 3, 6, 206, 4, 623, 29, 2, 1568, 8, 5, 871, 35, 47, 109, 2, 871, 35, 1569, 34, 24, 6, 55, 28, 260, 192, 350, 256, 113, 5, 98, 109, 5, 181, 869, 15, 131, 100, 491, 6, 872, 19, 164, 63, 2, 245, 18, 137, 23, 713, 24, 167, 11, 54, 6, 106, 4, 2, 155, 6, 142, 6, 22, 552, 2, 31, 488, 392, 3, 54, 6, 49, 121, 4, 2, 218, 24, 7, 6, 142, 6, 55, 28, 873, 721, 7, 6, 55, 64, 7, 81, 1570, 258, 2, 360, 3, 6, 206, 17, 311, 4, 1571, 38, 37, 8, 2, 874, 8, 2, 218, 23, 7, 14, 171, 1572, 3, 54, 6, 22, 475, 50, 34, 20, 261, 2, 167, 31, 98, 227, 36, 3, 204, 107, 182, 43, 212, 12, 1120, 47, 15, 9, 11, 4, 50, 175, 722, 10, 1573, 13, 4, 396, 59, 30, 200, 6, 495, 248, 50, 27, 165, 1121, 330, 6, 27, 1574, 439, 7, 3, 613, 6, 1575, 50, 25, 723, 16, 4, 875, 339, 63, 17, 158, 3, 137, 6, 624, 261, 4, 367, 17, 351, 615, 24, 350, 1576, 50, 12, 5, 312, 8, 397, 6, 14, 1122, 398, 50, 24, 30, 209, 340, 14, 27, 876, 8, 1577, 4, 26, 122, 285, 23, 85, 43, 212, 74, 58, 167, 11, 4, 1578, 4, 26, 122, 285, 114, 182, 313, 228, 8, 61, 264, 4, 170, 37, 1579, 724, 176, 17, 496, 543, 19, 5, 31, 360, 367, 15, 14, 440, 231, 2, 218, 6, 362, 7, 3, 142, 12, 7, 5, 27, 361, 877, 19, 96, 2, 196, 224, 61, 44, 1106, 551, 12, 1580, 67, 156, 224, 7, 9, 11, 3, 41, 7, 341, 61, 291, 490, 10, 130, 721, 2, 392, 3, 41, 7, 341, 61, 291, 878, 10, 130, 1581, 231, 2, 155, 25, 352, 80, 156, 104, 63, 2, 245, 3, 10, 71, 725, 96, 625, 6, 1582, 5, 31, 233, 3, 9, 265, 4, 50, 96, 80, 96, 80, 879, 17, 198, 19, 2, 431, 8, 17, 99, 4, 424, 96, 80, 7, 14, 342, 3, 6, 14, 81, 497, 4, 199, 15, 6, 880, 2, 183, 290, 4, 26, 184, 30, 495, 625, 54, 37, 1583, 877, 23, 11, 22, 106, 25, 89, 63, 2, 80, 8, 881, 131, 23, 34, 8, 2, 80, 154, 4, 428, 15, 7, 163, 81, 882, 3, 540, 24, 314, 4, 93, 19, 12, 2, 1584, 80, 25, 6, 266, 4, 441, 3, 27, 176, 310, 59, 2, 877, 305, 1123, 2, 368, 8, 339, 1124, 3, 1124, 204, 11, 6, 14, 25, 89, 497, 15, 24, 2, 152, 6, 81, 1125, 65, 4, 267, 165, 555, 74, 78, 883, 34, 47, 2, 1585, 861, 15, 192, 14, 165, 1126, 205, 24, 54, 6, 105, 36, 18, 17, 205, 32, 163, 4, 26, 553, 34, 8, 358, 32, 44, 190, 25, 292, 59, 125, 73, 167, 31, 205, 10, 213, 70, 144, 143, 19, 68, 498, 3, 1586, 24, 13, 74, 884, 78, 184, 10, 556, 26, 1587, 10, 174, 26, 5, 117, 315, 171, 292, 59, 4, 541, 499, 40, 13, 13, 108, 483, 2, 311, 80, 13, 130, 23, 10, 108, 26, 500, 4, 45, 58, 11, 56, 222, 32, 185, 609, 2, 80, 10, 399, 4, 93, 232, 61, 64, 156, 316, 45, 5, 610, 626, 8, 726, 309, 1588, 3, 6, 49, 19, 1589, 4, 50, 65, 6, 48, 483, 7, 32, 108, 93, 75, 2, 1590, 6, 58, 3, 65, 847, 434, 435, 1127, 1128, 4, 1591, 351, 205, 3, 65, 1592, 2, 885, 144, 153, 334, 138, 369, 1593, 1594, 240, 2, 1595, 20, 334, 886, 125, 151, 29, 501, 78, 223, 90, 42, 17, 99, 1129, 398, 2, 548, 8, 2, 391, 12, 438, 6, 14, 74, 100, 180, 627, 205, 235, 3, 6, 18, 137, 179, 38, 2, 31, 488, 392, 3, 329, 59, 4, 2, 245, 155, 167, 11, 7, 14, 16, 89, 16, 6, 55, 52, 440, 36, 19, 37, 226, 4, 153, 258, 63, 2, 245, 20, 37, 496, 23, 4, 104, 258, 14, 100, 1596, 180, 192, 6, 227, 36, 3, 72, 4, 887, 51, 13, 255, 4, 26, 1130, 8, 370, 9, 11, 5, 117, 707, 47, 13, 6, 159, 67, 92, 30, 4, 93, 19, 1120, 12, 30, 80, 557, 30, 152, 10, 139, 13, 23, 6, 49, 19, 21, 2, 183, 1597, 1598, 8, 339, 628, 57, 14, 5, 133, 368, 21, 110, 17, 40, 432, 549, 479, 3, 1599, 188, 36, 2, 391, 109, 5, 60, 6, 149, 5, 31, 888, 8, 205, 12, 2, 502, 3, 6, 237, 1600, 17, 158, 4, 64, 29, 14, 429, 7, 14, 2, 147, 101, 1601, 1602, 1603, 20, 5, 626, 8, 147, 629, 371, 12, 37, 198, 3, 5, 133, 372, 12, 2, 119, 33, 115, 1131, 550, 12, 5, 117, 335, 889, 4, 558, 16, 33, 115, 125, 2, 123, 2, 123, 125, 185, 6, 26, 727, 41, 132, 293, 17, 395, 11, 187, 25, 1604, 15, 6, 14, 442, 4, 332, 400, 8, 120, 37, 25, 54, 2, 101, 115, 240, 17, 6, 72, 12, 5, 244, 890, 102, 41, 13, 208, 503, 2, 101, 1073, 728, 630, 2, 147, 629, 371, 3, 2, 372, 3, 1605, 177, 63, 2, 1606, 16, 443, 16, 33, 55, 93, 11, 179, 38, 2, 372, 3, 371, 3, 16, 2, 391, 14, 27, 476, 6, 293, 1607, 50, 21, 2, 60, 6, 49, 19, 223, 151, 151, 65, 317, 373, 35, 4, 150, 3, 891, 154, 49, 19, 90, 16, 631, 10, 213, 41, 132, 126, 444, 12, 2, 612, 232, 61, 86, 14, 10, 2, 183, 54, 10, 106, 38, 30, 632, 10, 553, 86, 10, 130, 260, 494, 5, 31, 401, 23, 41, 78, 28, 2, 183, 2, 148, 225, 35, 70, 12, 2, 478, 249, 10, 633, 134, 2, 117, 1608, 3, 6, 72, 343, 112, 21, 2, 365, 6, 246, 15, 44, 8, 2, 183, 729, 16, 50, 4, 64, 41, 6, 55, 53, 126, 444, 24, 120, 8, 45, 78, 184, 78, 28, 1609, 6, 9, 24, 17, 504, 505, 12, 113, 140, 1132, 3, 402, 238, 93, 12, 1132, 18, 21, 3, 78, 184, 10, 161, 26, 730, 24, 10, 46, 21, 892, 8, 154, 3, 6, 125, 6, 1133, 113, 5, 27, 31, 731, 506, 6, 3, 78, 10, 1134, 151, 65, 732, 7, 21, 35, 156, 318, 41, 10, 46, 21, 2, 154, 10, 319, 4, 46, 232, 61, 64, 432, 559, 445, 35, 733, 3, 432, 559, 1135, 35, 1610, 3, 432, 559, 560, 1611, 151, 10, 174, 103, 104, 4, 893, 18, 15, 393, 203, 2, 1612, 218, 238, 1613, 634, 318, 1614, 1615, 35, 2, 734, 8, 1136, 3, 1136, 35, 2, 734, 8, 1616, 3, 1617, 134, 21, 635, 78, 867, 10, 108, 53, 126, 444, 24, 730, 156, 318, 3, 92, 1618, 894, 2, 1619, 3, 6, 895, 17, 320, 19, 17, 1137, 16, 41, 6, 44, 243, 353, 3, 72, 4, 507, 7, 23, 17, 102, 636, 896, 3, 637, 3, 2, 196, 66, 28, 107, 2, 183, 16, 32, 319, 4, 52, 65, 894, 2, 31, 1620, 1621, 39, 1622, 403, 3, 1623, 2, 1624, 8, 2, 1625, 19, 309, 488, 1626, 65, 1627, 33, 638, 4, 561, 65, 1138, 897, 39, 1139, 3, 1628, 31, 1629, 12, 20, 898, 1140, 1141, 78, 184, 363, 87, 28, 2, 138, 196, 9, 167, 11, 3, 17, 158, 839, 20, 339, 51, 16, 6, 49, 19, 10, 108, 26, 730, 109, 21, 3, 10, 174, 53, 4, 93, 3, 446, 12, 15, 1630, 31, 215, 3, 53, 148, 4, 43, 1631, 4, 447, 20, 3, 125, 192, 25, 306, 353, 4, 508, 43, 132, 146, 38, 73, 327, 40, 7, 41, 78, 730, 156, 639, 36, 95, 434, 26, 43, 212, 88, 899, 88, 354, 36, 3, 243, 1142, 38, 51, 151, 168, 10, 174, 97, 153, 38, 3, 92, 1632, 249, 10, 42, 139, 61, 15, 94, 3, 42, 41, 10, 47, 210, 15, 724, 156, 107, 38, 41, 28, 156, 639, 36, 95, 201, 78, 480, 1633, 125, 151, 204, 11, 20, 5, 640, 1634, 8, 339, 10, 52, 197, 32, 48, 143, 88, 354, 36, 10, 249, 25, 27, 475, 8, 210, 21, 735, 95, 16, 6, 9, 30, 6, 105, 36, 18, 17, 320, 3, 14, 497, 4, 64, 15, 6, 22, 143, 19, 37, 8, 2, 736, 31, 147, 629, 371, 181, 6, 14, 223, 65, 130, 10, 53, 250, 15, 6, 58, 10, 108, 26, 342, 361, 51, 6, 106, 38, 3, 49, 4, 2, 218, 4, 1635, 50, 75, 7, 3, 142, 15, 16, 344, 16, 6, 55, 900, 6, 14, 74, 40, 122, 205, 235, 3, 14, 164, 19, 737, 1143, 6, 176, 142, 34, 15, 2, 901, 8, 30, 14, 2, 372, 6, 14, 879, 3, 6, 630, 7, 237, 90, 12, 60, 4, 1636, 737, 177, 622, 15, 14, 5, 1144, 738, 9, 11, 5, 165, 315, 509, 18, 2, 640, 268, 23, 27, 331, 4, 199, 50, 283, 12, 1637, 3, 74, 24, 2, 245, 3, 6, 230, 20, 21, 1638, 121, 4, 2, 31, 155, 23, 713, 2, 31, 155, 14, 617, 51, 3, 2, 31, 488, 392, 14, 440, 19, 2, 360, 218, 16, 127, 3, 154, 87, 902, 180, 192, 58, 2, 167, 340, 24, 10, 103, 14, 25, 361, 16, 30, 127, 103, 3, 10, 1145, 85, 171, 1146, 15, 7, 35, 16, 6, 9, 269, 196, 17, 369, 903, 3, 12, 191, 152, 1639, 6, 14, 38, 4, 17, 510, 12, 1147, 641, 17, 94, 241, 14, 15, 6, 22, 1640, 703, 63, 2, 270, 3, 12, 15, 642, 10, 130, 93, 121, 75, 1148, 6, 9, 4, 50, 11, 22, 126, 4, 2, 1641, 137, 12, 17, 314, 3, 22, 107, 4, 2, 904, 1149, 15, 1150, 13, 93, 4, 19, 2, 555, 1642, 13, 199, 5, 643, 8, 1643, 1644, 12, 2, 270, 91, 365, 739, 12, 2, 1645, 20, 1646, 1647, 42, 5, 1095, 8, 1648, 1649, 3, 287, 45, 5, 1148, 1650, 203, 6, 176, 146, 34, 15, 6, 14, 12, 2, 368, 8, 339, 96, 6, 22, 1651, 54, 6, 14, 627, 205, 235, 10, 197, 10, 448, 204, 25, 89, 9, 11, 16, 6, 644, 40, 261, 4, 199, 17, 80, 34, 10, 174, 26, 1652, 24, 7, 74, 10, 271, 75, 210, 1653, 12, 73, 351, 339, 15, 144, 26, 5, 317, 98, 4, 26, 184, 203, 373, 35, 317, 4, 150, 90, 42, 6, 149, 219, 1151, 40, 12, 2, 368, 5, 31, 80, 59, 3, 6, 644, 645, 4, 170, 34, 29, 7, 14, 18, 94, 6, 58, 7, 108, 26, 5, 1654, 56, 1655, 23, 42, 6, 624, 65, 361, 6, 14, 74, 3, 6, 176, 146, 34, 15, 7, 14, 97, 5, 118, 15, 22, 903, 12, 47, 50, 48, 7, 26, 8, 120, 212, 74, 58, 11, 4, 267, 4, 30, 118, 373, 35, 25, 34, 8, 2, 80, 36, 95, 15, 10, 166, 86, 27, 607, 7, 130, 272, 18, 120, 393, 182, 43, 1656, 12, 261, 25, 6, 72, 1152, 118, 52, 13, 46, 2, 80, 34, 8, 30, 368, 10, 249, 27, 475, 8, 1153, 40, 95, 1152, 118, 11, 58, 30, 108, 26, 2, 138, 80, 8, 646, 4, 5, 118, 6, 22, 103, 250, 113, 5, 98, 127, 23, 6, 624, 350, 256, 12, 17, 1657, 1658, 1659, 5, 1660, 5, 1661, 5, 1662, 1663, 118, 2, 118, 105, 18, 17, 175, 1664, 3, 163, 4, 17, 4, 1154, 20, 37, 8, 76, 31, 158, 23, 7, 9, 131, 222, 7, 238, 562, 555, 58, 11, 10, 1665, 85, 5, 905, 118, 107, 112, 20, 563, 2, 1155, 24, 20, 21, 17, 845, 8, 511, 11, 22, 43, 27, 1156, 906, 65, 140, 1157, 207, 22, 491, 25, 6, 72, 51, 1666, 1667, 1158, 1668, 96, 14, 2, 94, 564, 12, 17, 905, 907, 326, 2, 118, 248, 5, 640, 1669, 34, 8, 2, 641, 3, 163, 4, 1670, 21, 112, 20, 1159, 125, 10, 449, 68, 565, 204, 11, 237, 308, 15, 6, 22, 854, 2, 167, 1671, 1160, 10, 81, 1125, 13, 259, 47, 286, 28, 47, 286, 204, 2, 118, 12, 5, 647, 1672, 102, 48, 13, 47, 286, 41, 13, 44, 61, 67, 222, 28, 9, 11, 12, 5, 1673, 116, 71, 26, 648, 40, 7, 3, 193, 10, 197, 10, 55, 908, 13, 450, 129, 333, 10, 86, 374, 195, 5, 623, 4, 286, 41, 13, 55, 97, 64, 17, 6, 35, 113, 5, 151, 1161, 98, 11, 49, 19, 188, 4, 50, 16, 6, 644, 1674, 40, 12, 2, 368, 3, 6, 1675, 1162, 25, 1163, 75, 2, 740, 1676, 17, 741, 3, 1164, 17, 1677, 6, 35, 113, 5, 544, 1678, 98, 4, 1679, 506, 113, 5, 734, 37, 24, 1165, 1680, 10, 449, 68, 565, 204, 11, 51, 24, 30, 60, 2, 118, 14, 1681, 21, 112, 3, 6, 187, 867, 7, 108, 26, 289, 375, 162, 185, 272, 40, 17, 120, 100, 41, 374, 175, 28, 162, 236, 204, 2, 118, 70, 14, 566, 36, 4, 2, 216, 8, 39, 403, 16, 41, 10, 48, 272, 19, 113, 5, 567, 450, 1682, 321, 1683, 286, 1684, 244, 1685, 154, 71, 232, 61, 253, 2, 356, 51, 10, 185, 236, 9, 11, 12, 5, 117, 335, 4, 268, 2, 567, 8, 404, 87, 1686, 13, 1687, 909, 2, 118, 66, 28, 389, 25, 11, 49, 19, 451, 57, 35, 113, 5, 544, 31, 1166, 240, 450, 215, 10, 166, 47, 4, 908, 13, 5, 31, 437, 1688, 1689, 13, 46, 20, 125, 113, 140, 1690, 1167, 504, 3, 434, 512, 154, 54, 13, 910, 45, 3, 434, 452, 38, 3, 449, 24, 76, 1168, 3, 21, 892, 8, 1691, 161, 260, 188, 8, 1169, 7, 1170, 4, 5, 1692, 13, 46, 3, 33, 742, 85, 25, 1171, 85, 697, 5, 1693, 1694, 33, 742, 7, 1695, 21, 2, 1696, 1134, 151, 204, 11, 12, 5, 1172, 116, 78, 308, 132, 375, 7, 51, 24, 2, 118, 14, 1153, 177, 128, 17, 16, 443, 16, 7, 55, 93, 3, 425, 81, 5, 1697, 12, 2, 368, 16, 7, 49, 25, 6, 251, 1698, 109, 7, 118, 151, 52, 107, 121, 51, 3, 162, 185, 272, 40, 286, 56, 909, 352, 41, 13, 71, 47, 45, 54, 2, 118, 149, 30, 7, 234, 110, 3, 644, 427, 121, 4, 17, 76, 263, 14, 81, 743, 20, 911, 11, 58, 3, 7, 9, 12, 5, 244, 566, 102, 232, 273, 104, 4, 2, 744, 3, 42, 156, 139, 13, 73, 511, 3, 568, 562, 114, 7, 35, 10, 1699, 286, 3, 909, 7, 14, 235, 60, 4, 93, 24, 2, 368, 14, 190, 81, 649, 20, 2, 405, 3, 745, 15, 22, 703, 63, 7, 57, 44, 5, 746, 3, 5, 294, 5, 513, 3, 77, 912, 3, 705, 119, 209, 376, 11, 715, 2, 80, 3, 2, 295, 377, 644, 4, 2, 744, 305, 1700, 5, 913, 569, 3, 5, 140, 747, 32, 44, 236, 5, 317, 141, 377, 15, 1173, 19, 2, 1701, 405, 20, 1702, 1703, 2, 745, 20, 88, 914, 1704, 281, 4, 45, 3, 21, 1705, 1174, 915, 3, 748, 2, 94, 225, 8, 178, 14, 65, 4, 104, 436, 51, 32, 22, 5, 1706, 40, 30, 3, 109, 5, 394, 338, 7, 163, 81, 698, 4, 11, 4, 199, 50, 223, 1707, 20, 45, 16, 41, 6, 22, 1708, 45, 21, 17, 314, 236, 6, 22, 81, 5, 140, 749, 20, 2, 513, 70, 18, 135, 234, 916, 3, 48, 97, 92, 10, 249, 1175, 180, 13, 3, 108, 46, 274, 3, 30, 11, 48, 28, 917, 173, 1176, 65, 211, 7, 14, 3, 16, 2, 513, 1709, 1710, 4, 139, 76, 729, 57, 14, 43, 100, 4, 26, 9, 18, 135, 2, 118, 70, 163, 4, 26, 5, 724, 8, 1177, 307, 45, 251, 34, 452, 36, 21, 8, 13, 3, 482, 4, 61, 156, 176, 170, 13, 436, 228, 32, 21, 227, 36, 18, 137, 12, 5, 133, 1178, 20, 2, 118, 12, 2, 486, 11, 293, 17, 158, 265, 1711, 19, 7, 24, 6, 187, 184, 6, 48, 708, 5, 1146, 1712, 41, 6, 66, 28, 104, 436, 27, 176, 1713, 9, 2, 118, 20, 77, 650, 242, 87, 13, 21, 442, 30, 35, 2, 1714, 98, 10, 46, 275, 21, 110, 41, 13, 208, 1715, 2, 1155, 1179, 901, 14, 1716, 75, 2, 1717, 14, 176, 1718, 4, 75, 2, 555, 70, 750, 1719, 3, 22, 126, 8, 542, 89, 1720, 4, 1721, 3, 1722, 1723, 3, 1180, 2, 1181, 8, 1182, 3, 1724, 1183, 9, 2, 513, 20, 5, 1725, 10, 449, 68, 565, 9, 2, 118, 751, 23, 27, 570, 66, 13, 267, 28, 10, 9, 2, 513, 237, 10, 58, 13, 66, 9, 2, 118, 10, 1184, 1726, 3, 1180, 2, 1181, 8, 1182, 3, 1727, 1728, 24, 111, 3, 214, 1729, 2, 1730, 1185, 8, 1731, 142, 7, 1732, 142, 29, 9, 2, 746, 142, 7, 2, 118, 157, 175, 1733, 8, 178, 13, 46, 29, 1186, 752, 10, 46, 29, 1186, 752, 67, 228, 54, 10, 199, 5, 98, 9, 2, 746, 85, 495, 5, 918, 56, 5, 1734, 2, 225, 35, 29, 66, 2, 1185, 199, 2, 118, 66, 28, 651, 30, 225, 23, 1187, 49, 19, 1735, 7, 1736, 4, 93, 20, 1737, 1738, 4, 1188, 563, 3, 1189, 111, 2, 919, 1739, 1740, 18, 94, 14, 1741, 23, 2, 1742, 8, 39, 1743, 65, 87, 13, 190, 19, 74, 73, 151, 7, 406, 322, 4, 11, 16, 7, 239, 16, 1174, 16, 192, 9, 11, 12, 5, 571, 116, 7, 238, 435, 4, 436, 61, 18, 21, 12, 15, 642, 9, 2, 294, 753, 1744, 4, 76, 205, 10, 920, 15, 2, 1745, 1746, 24, 2, 1747, 1748, 8, 100, 1749, 1750, 267, 555, 9, 2, 912, 10, 71, 46, 2, 453, 8, 188, 363, 140, 196, 3, 652, 100, 10, 71, 407, 13, 52, 352, 3, 2, 912, 1751, 36, 76, 99, 4, 1752, 5, 1190, 91, 8, 2, 119, 405, 1753, 1754, 29, 10, 14, 164, 4, 92, 9, 2, 294, 12, 77, 375, 116, 14, 15, 2, 311, 98, 4, 104, 273, 436, 48, 26, 5, 913, 569, 29, 35, 5, 913, 569, 9, 11, 28, 15, 6, 750, 89, 4, 46, 23, 2, 294, 22, 1755, 16, 41, 7, 58, 15, 480, 255, 4, 267, 3, 43, 37, 357, 163, 1756, 4, 92, 207, 114, 9, 2, 294, 2, 311, 80, 4, 378, 7, 35, 4, 52, 7, 3, 16, 13, 159, 47, 4, 318, 2, 98, 370, 91, 1757, 150, 10, 144, 139, 13, 65, 2, 294, 701, 7, 94, 7, 551, 34, 5, 569, 178, 12, 5, 202, 8, 1758, 2, 1759, 1760, 238, 390, 7, 9, 3, 42, 21, 2, 377, 44, 1761, 550, 2, 178, 95, 3, 57, 57, 14, 43, 37, 122, 160, 3, 177, 23, 32, 72, 454, 54, 32, 572, 3, 264, 59, 54, 32, 572, 25, 15, 7, 14, 28, 1191, 4, 46, 54, 2, 569, 14, 112, 203, 54, 32, 22, 126, 454, 188, 77, 1192, 56, 25, 3, 44, 81, 436, 51, 2, 294, 280, 251, 34, 2, 569, 35, 112, 3, 32, 21, 649, 110, 7, 1193, 3, 611, 23, 70, 514, 1194, 30, 225, 2, 294, 55, 28, 389, 173, 5, 117, 315, 8, 58, 3, 7, 227, 24, 5, 140, 60, 20, 37, 620, 921, 172, 76, 1195, 2, 1196, 12, 96, 13, 1113, 64, 1762, 12, 2, 696, 8, 111, 181, 2, 379, 337, 12, 275, 18, 135, 2, 294, 9, 455, 514, 1194, 3, 21, 108, 53, 653, 23, 70, 35, 4, 316, 2, 653, 81, 5, 573, 8, 922, 229, 114, 6, 8, 178, 9, 2, 294, 754, 4, 11, 20, 37, 620, 3, 2, 295, 377, 18, 137, 649, 110, 17, 1763, 34, 12, 5, 755, 80, 653, 653, 11, 22, 43, 241, 29, 4, 52, 3, 12, 1764, 6, 143, 17, 198, 12, 17, 477, 3, 1765, 34, 5, 367, 8, 1197, 1198, 2, 1147, 641, 22, 28, 106, 63, 7, 3, 923, 45, 110, 16, 653, 57, 14, 456, 37, 5, 574, 21, 110, 23, 6, 108, 53, 5, 1766, 50, 13, 46, 9, 2, 118, 8, 178, 2, 294, 157, 27, 924, 29, 357, 53, 13, 106, 12, 68, 477, 33, 49, 19, 322, 4, 11, 97, 5, 756, 9, 11, 616, 198, 7, 112, 95, 9, 2, 294, 42, 32, 21, 649, 110, 17, 137, 100, 181, 2, 294, 753, 1767, 2, 756, 243, 162, 449, 68, 1768, 8, 30, 1769, 756, 3, 54, 7, 22, 310, 30, 757, 925, 32, 21, 926, 11, 58, 2, 295, 98, 27, 1199, 23, 32, 21, 105, 25, 927, 15, 6, 66, 28, 654, 4, 1770, 3, 16, 6, 55, 28, 86, 8, 207, 4, 92, 6, 1200, 758, 3, 179, 2, 756, 141, 16, 928, 16, 6, 55, 2, 148, 98, 14, 4, 224, 2, 1197, 30, 1201, 91, 929, 3, 655, 16, 2, 133, 405, 1771, 15, 32, 55, 28, 1116, 1772, 3, 2, 361, 1773, 930, 3, 22, 4, 26, 1774, 19, 2, 121, 203, 7, 14, 112, 18, 135, 3, 32, 227, 36, 51, 12, 5, 1178, 3, 1775, 2, 118, 4, 139, 45, 219, 100, 13, 1776, 4, 139, 61, 68, 511, 13, 46, 9, 11, 3, 114, 7, 35, 13, 1777, 3, 1778, 6, 189, 12, 5, 931, 188, 308, 15, 7, 48, 26, 375, 51, 402, 35, 5, 140, 3, 5, 932, 747, 9, 2, 118, 322, 4, 11, 3, 933, 7, 35, 5, 140, 403, 262, 9, 11, 141, 36, 20, 213, 18, 2, 1779, 403, 23, 114, 52, 13, 408, 7, 932, 3, 6, 293, 19, 732, 40, 7, 181, 2, 118, 14, 646, 25, 15, 17, 241, 8, 2, 747, 14, 219, 47, 30, 934, 9, 4, 5, 118, 15, 33, 935, 12, 2, 215, 1780, 273, 276, 93, 4, 1202, 10, 144, 1781, 13, 107, 156, 195, 43, 1782, 162, 108, 53, 5, 515, 24, 289, 30, 632, 132, 131, 4, 52, 168, 9, 2, 118, 4, 2, 1783, 1784, 5, 515, 151, 503, 20, 43, 194, 56, 759, 48, 26, 1203, 450, 760, 168, 1204, 26, 759, 156, 26, 194, 168, 9, 1785, 211, 934, 1204, 318, 2, 295, 901, 3, 1786, 13, 4, 1787, 168, 13, 87, 28, 936, 9, 2, 118, 4, 11, 723, 29, 87, 13, 343, 8, 10, 449, 68, 565, 9, 11, 27, 1205, 13, 22, 106, 4, 2, 1788, 1206, 10, 86, 10, 22, 28, 204, 2, 118, 722, 3, 27, 409, 5, 1207, 9, 11, 321, 442, 4, 170, 50, 1171, 3, 141, 265, 40, 17, 125, 52, 232, 61, 400, 4, 1789, 7, 10, 174, 52, 131, 8, 2, 202, 9, 2, 118, 190, 38, 3, 614, 177, 13, 1790, 61, 75, 223, 113, 501, 10, 259, 380, 7, 937, 167, 11, 23, 186, 25, 938, 375, 13, 46, 2, 118, 97, 1791, 12, 656, 208, 107, 121, 3, 657, 68, 457, 11, 251, 109, 7, 3, 2, 516, 21, 939, 12, 573, 284, 208, 52, 23, 2, 118, 97, 410, 76, 99, 658, 3, 359, 5, 31, 1792, 29, 5, 940, 7, 282, 639, 659, 2, 513, 16, 176, 16, 7, 14, 81, 34, 8, 358, 3, 77, 211, 941, 179, 2, 433, 8, 243, 4, 17, 1793, 633, 73, 151, 232, 30, 26, 5, 907, 4, 13, 103, 4, 1794, 68, 660, 366, 68, 761, 1158, 9, 2, 661, 941, 5, 31, 1795, 186, 228, 4, 318, 2, 1796, 8, 77, 1797, 10, 197, 10, 22, 450, 333, 95, 10, 46, 10, 52, 9, 11, 608, 1798, 458, 12, 942, 1208, 176, 512, 7, 121, 3, 70, 35, 333, 41, 10, 159, 943, 4, 332, 2, 225, 9, 2, 513, 11, 157, 451, 24, 6, 14, 321, 442, 4, 272, 40, 17, 1799, 1800, 450, 129, 3, 506, 113, 5, 734, 37, 24, 1165, 852, 13, 161, 86, 3, 125, 10, 197, 13, 55, 64, 17, 109, 2, 405, 114, 849, 224, 5, 31, 1209, 16, 176, 16, 153, 18, 7, 30, 925, 1201, 5, 1069, 1210, 307, 2, 377, 91, 8, 2, 405, 329, 59, 18, 137, 37, 211, 1801, 72, 1802, 254, 38, 27, 944, 945, 10, 289, 108, 26, 190, 606, 2, 612, 242, 238, 946, 73, 1211, 3, 5, 1803, 251, 34, 12, 5, 566, 102, 4, 76, 365, 107, 177, 73, 884, 85, 235, 60, 13, 44, 21, 12, 1804, 19, 1805, 1806, 32, 21, 662, 59, 3, 11, 14, 176, 264, 735, 10, 197, 10, 448, 947, 333, 6, 9, 4, 50, 12, 5, 571, 116, 458, 638, 4, 47, 17, 36, 95, 3, 78, 184, 506, 2, 311, 129, 12, 2, 478, 125, 73, 151, 333, 10, 213, 41, 10, 174, 192, 64, 13, 120, 100, 3, 95, 167, 11, 72, 4, 887, 51, 24, 6, 187, 27, 1212, 3, 244, 1807, 12, 5, 31, 181, 203, 6, 51, 149, 5, 31, 888, 8, 1213, 12, 2, 502, 3, 6, 105, 38, 451, 188, 863, 15, 2, 118, 22, 444, 39, 327, 3, 14, 429, 121, 4, 657, 39, 457, 305, 1808, 2, 101, 1809, 12, 5, 31, 323, 7, 14, 2, 147, 101, 1131, 427, 121, 51, 3, 141, 265, 40, 16, 7, 49, 16, 41, 7, 22, 855, 219, 3, 6, 149, 7, 889, 4, 254, 2, 123, 2, 123, 125, 73, 151, 741, 125, 73, 914, 3, 857, 849, 104, 61, 575, 16, 184, 16, 1214, 87, 1214, 296, 130, 10, 53, 630, 45, 10, 213, 11, 948, 12, 5, 152, 15, 7, 14, 141, 24, 2, 372, 3, 2, 626, 8, 147, 629, 371, 3, 6, 27, 165, 1810, 72, 949, 40, 24, 45, 23, 32, 44, 1215, 4, 26, 1811, 163, 4, 53, 444, 762, 17, 663, 12, 2, 368, 3, 2, 117, 391, 20, 2, 360, 218, 3, 2, 31, 155, 22, 763, 1812, 27, 176, 2, 101, 430, 11, 16, 6, 49, 949, 40, 3, 251, 34, 4, 17, 12, 77, 648, 116, 114, 764, 765, 29, 87, 13, 664, 34, 95, 766, 606, 30, 152, 3, 512, 61, 5, 626, 8, 371, 3, 5, 372, 1216, 74, 3, 11, 14, 25, 89, 509, 15, 6, 230, 59, 18, 137, 12, 2, 665, 7, 1813, 4, 173, 261, 4, 378, 2, 950, 7, 22, 146, 33, 179, 61, 24, 39, 1814, 6, 9, 4, 50, 16, 6, 230, 65, 497, 1815, 26, 54, 33, 1816, 34, 70, 10, 249, 23, 345, 274, 195, 111, 39, 372, 3, 1817, 35, 41, 10, 130, 199, 45, 16, 6, 9, 30, 6, 115, 172, 5, 1818, 31, 215, 19, 2, 155, 8, 96, 14, 5, 437, 1819, 951, 20, 2, 356, 1820, 101, 1821, 172, 7, 6, 49, 12, 173, 952, 3, 329, 1822, 12, 117, 700, 1823, 6, 166, 1188, 2, 953, 764, 765, 3, 26, 234, 34, 8, 2, 215, 127, 6, 22, 142, 2, 372, 3, 371, 65, 317, 7, 638, 11, 9, 4, 50, 4, 26, 164, 1217, 24, 5, 101, 10, 271, 1090, 26, 1127, 61, 19, 1217, 148, 3, 6, 72, 1824, 2, 202, 8, 98, 15, 48, 428, 1825, 11, 107, 95, 1218, 3, 104, 442, 24, 68, 609, 168, 1826, 12, 5, 200, 1219, 23, 132, 106, 4, 64, 15, 2, 118, 238, 104, 34, 168, 97, 10, 71, 86, 11, 49, 19, 15, 767, 232, 333, 557, 12, 2, 215, 41, 7, 72, 1220, 285, 40, 47, 15, 75, 30, 60, 6, 22, 142, 17, 80, 63, 5, 1827, 31, 297, 20, 5, 218, 12, 2, 459, 3, 19, 7, 16, 6, 22, 1828, 5, 372, 3, 122, 56, 160, 1829, 8, 712, 147, 629, 371, 6, 179, 38, 2, 372, 3, 5, 626, 8, 2, 371, 3, 14, 90, 164, 4, 396, 2, 297, 54, 17, 496, 543, 172, 5, 31, 364, 15, 517, 240, 2, 141, 360, 57, 14, 43, 1105, 30, 60, 20, 2, 196, 493, 61, 23, 1830, 6, 1831, 7, 3, 143, 7, 4, 17, 1832, 10, 46, 219, 666, 35, 184, 4, 428, 6, 9, 4, 50, 1833, 10, 224, 56, 493, 207, 25, 156, 90, 64, 29, 30, 364, 411, 10, 52, 851, 434, 170, 61, 291, 133, 51, 24, 289, 78, 81, 475, 8, 210, 113, 5, 712, 31, 98, 7, 66, 25, 236, 3, 89, 1115, 180, 6, 22, 1834, 127, 6, 22, 1221, 188, 2, 364, 6, 142, 17, 99, 1835, 398, 2, 1836, 3, 22, 4, 1222, 4, 1837, 17, 492, 128, 210, 576, 6, 237, 143, 36, 2, 364, 243, 4, 50, 134, 81, 1838, 851, 10, 556, 291, 120, 1839, 7, 35, 10, 161, 104, 34, 18, 2, 1840, 52, 197, 10, 448, 1221, 81, 25, 89, 713, 7, 14, 171, 542, 4, 197, 15, 6, 49, 19, 342, 3, 342, 3, 27, 176, 22, 4, 1841, 36, 19, 2, 954, 12, 191, 200, 57, 14, 28, 214, 297, 24, 30, 3, 6, 206, 2, 955, 8, 440, 36, 20, 37, 956, 398, 2, 155, 3, 2, 119, 252, 1223, 110, 17, 99, 283, 6, 49, 19, 342, 3, 16, 5, 135, 1842, 6, 143, 37, 252, 34, 8, 2, 459, 3, 37, 369, 38, 2, 577, 3, 9, 4, 50, 74, 10, 130, 52, 43, 100, 957, 625, 29, 144, 667, 8, 61, 1198, 24, 11, 2, 31, 1843, 364, 22, 74, 22, 76, 578, 955, 3, 6, 1844, 43, 490, 283, 7, 14, 27, 748, 3, 16, 57, 163, 4, 26, 43, 202, 8, 768, 8, 17, 192, 190, 34, 8, 2, 297, 51, 43, 213, 6, 187, 1224, 7, 14, 89, 1845, 18, 606, 58, 167, 11, 54, 37, 346, 321, 342, 490, 3, 878, 3, 210, 769, 40, 75, 852, 3, 1846, 10, 553, 197, 10, 448, 298, 36, 15, 101, 1847, 1848, 1849, 175, 209, 13, 46, 30, 202, 8, 314, 10, 52, 213, 29, 130, 53, 491, 4, 61, 54, 10, 319, 4, 336, 1850, 1851, 10, 1225, 15, 500, 8, 98, 103, 491, 3, 74, 95, 10, 249, 12, 2, 486, 8, 37, 57, 255, 4, 26, 5, 326, 545, 40, 61, 15, 57, 255, 3, 54, 10, 291, 38, 156, 579, 1852, 78, 518, 38, 74, 6, 189, 12, 5, 1172, 116, 18, 460, 182, 43, 297, 4, 291, 38, 120, 100, 95, 23, 42, 58, 11, 174, 10, 103, 104, 120, 1175, 180, 10, 249, 74, 1853, 26, 5, 1854, 37, 1855, 4, 26, 77, 211, 1856, 1857, 4, 53, 353, 4, 508, 125, 10, 668, 47, 15, 125, 13, 1858, 11, 6, 770, 50, 65, 130, 13, 508, 353, 12, 95, 114, 182, 313, 297, 24, 13, 3, 43, 297, 18, 21, 24, 120, 907, 1226, 3, 25, 6, 49, 19, 669, 94, 37, 226, 3, 42, 2, 119, 3, 425, 81, 5, 404, 8, 7, 622, 23, 109, 5, 394, 338, 6, 149, 5, 102, 771, 3, 958, 4, 482, 764, 765, 764, 765, 9, 2, 102, 512, 61, 73, 371, 30, 152, 42, 115, 5, 31, 888, 8, 205, 19, 2, 841, 11, 246, 7, 14, 2, 101, 429, 4, 153, 24, 17, 3, 6, 1227, 201, 6, 410, 2, 215, 81, 959, 15, 6, 14, 74, 40, 5, 1084, 559, 16, 133, 16, 2, 101, 3, 22, 43, 412, 4, 26, 308, 8, 7, 1089, 2, 101, 115, 38, 4, 2, 155, 3, 206, 4, 489, 7, 23, 16, 2, 155, 362, 1859, 3, 334, 956, 14, 921, 443, 398, 7, 15, 1860, 1228, 5, 1861, 11, 149, 7, 92, 4, 254, 42, 156, 93, 110, 3, 104, 12, 18, 2, 459, 15, 13, 185, 58, 11, 3, 109, 395, 201, 6, 1225, 6, 149, 2, 101, 90, 231, 2, 459, 6, 280, 897, 34, 17, 198, 3, 146, 5, 1229, 12, 2, 242, 6, 66, 28, 104, 366, 8, 207, 23, 6, 149, 5, 31, 670, 3, 5, 481, 3, 5, 960, 8, 576, 360, 128, 96, 6, 1230, 15, 7, 14, 90, 1862, 7, 22, 703, 63, 5, 1231, 1863, 56, 219, 8, 2, 202, 148, 115, 77, 648, 1864, 736, 961, 961, 296, 87, 13, 3, 42, 5, 102, 6, 22, 103, 149, 127, 184, 42, 78, 95, 739, 24, 1232, 772, 773, 739, 24, 1232, 236, 9, 2, 101, 409, 95, 107, 3, 400, 61, 34, 8, 30, 774, 8, 100, 576, 360, 74, 139, 61, 961, 652, 15, 12, 2, 459, 184, 85, 77, 252, 772, 773, 33, 1865, 7, 1866, 77, 252, 13, 1233, 70, 192, 257, 37, 15, 290, 114, 7, 1867, 2, 295, 459, 184, 7, 411, 772, 773, 23, 85, 77, 252, 24, 21, 15, 67, 85, 106, 43, 519, 57, 18, 120, 393, 93, 3, 195, 7, 177, 57, 14, 5, 140, 275, 109, 30, 3, 11, 55, 97, 253, 1868, 74, 3, 42, 113, 16, 184, 10, 71, 47, 7, 772, 773, 18, 21, 18, 21, 52, 16, 10, 139, 13, 13, 1869, 3, 18, 135, 6, 897, 34, 17, 198, 51, 3, 146, 191, 1229, 12, 2, 242, 30, 60, 57, 44, 122, 31, 1870, 3, 100, 774, 8, 576, 360, 29, 5, 643, 8, 1231, 1871, 57, 108, 26, 58, 11, 10, 213, 29, 702, 52, 148, 16, 24, 1872, 61, 34, 8, 2, 459, 10, 97, 197, 32, 55, 78, 184, 10, 71, 399, 4, 639, 12, 95, 120, 858, 6, 337, 24, 91, 60, 173, 775, 207, 100, 18, 135, 115, 5, 1873, 8, 31, 1874, 3, 2, 706, 8, 5, 165, 306, 922, 21, 223, 413, 6, 146, 34, 2, 196, 1234, 2, 119, 1875, 114, 10, 448, 4, 875, 23, 37, 776, 106, 2, 1876, 512, 7, 95, 1877, 95, 143, 962, 38, 18, 30, 1878, 1879, 962, 413, 1880, 71, 721, 188, 235, 228, 1881, 702, 52, 67, 228, 71, 26, 1882, 323, 708, 366, 8, 30, 1883, 2, 548, 1235, 327, 15, 1884, 1885, 85, 429, 36, 354, 963, 5, 580, 960, 74, 70, 66, 15, 7, 14, 323, 10, 1886, 4, 93, 36, 2, 577, 1887, 10, 556, 13, 52, 7, 15, 10, 185, 42, 776, 4, 93, 1888, 323, 2, 777, 742, 186, 4, 93, 36, 2, 577, 125, 25, 776, 106, 4, 107, 36, 2, 577, 514, 33, 9, 11, 4, 50, 1889, 32, 435, 4, 143, 373, 172, 323, 10, 282, 26, 12, 776, 461, 24, 5, 165, 315, 30, 1890, 35, 1144, 4, 26, 184, 23, 10, 86, 10, 130, 964, 5, 31, 6, 671, 17, 369, 16, 292, 36, 2, 577, 16, 6, 55, 3, 337, 201, 6, 149, 5, 31, 1891, 6, 388, 900, 8, 29, 202, 7, 14, 1892, 3, 1893, 40, 12, 2, 577, 281, 965, 17, 42, 243, 4, 50, 30, 35, 323, 6, 248, 37, 581, 964, 3, 337, 4, 64, 29, 48, 428, 148, 2, 94, 98, 6, 149, 14, 5, 904, 573, 8, 57, 505, 323, 42, 2, 736, 102, 550, 708, 111, 13, 75, 2, 1074, 42, 275, 3, 42, 191, 655, 8, 922, 366, 38, 39, 1894, 1895, 1896, 1897, 14, 7, 211, 778, 29, 491, 4, 13, 139, 273, 21, 40, 7, 135, 115, 5, 31, 1236, 1237, 102, 134, 323, 58, 11, 67, 10, 313, 1898, 100, 779, 1899, 78, 274, 1900, 78, 5, 315, 171, 1901, 4, 139, 1902, 10, 46, 35, 219, 1238, 18, 61, 47, 5, 1903, 12, 2, 367, 3, 38, 10, 505, 47, 5, 672, 1904, 25, 13, 66, 211, 778, 9, 2, 516, 162, 108, 1112, 2, 215, 36, 9, 2, 736, 102, 3, 11, 251, 34, 16, 580, 16, 6, 55, 41, 13, 52, 156, 266, 333, 18, 13, 57, 14, 5, 780, 275, 673, 3, 11, 58, 4, 50, 10, 213, 29, 32, 144, 52, 148, 41, 32, 22, 120, 966, 767, 195, 2, 548, 59, 109, 5, 200, 56, 122, 32, 72, 967, 40, 51, 3, 11, 149, 2, 101, 92, 5, 1239, 144, 52, 4, 288, 20, 5, 1239, 8, 29, 58, 11, 23, 6, 22, 28, 140, 4, 781, 24, 2, 148, 152, 5, 1240, 8, 31, 1241, 115, 1242, 12, 18, 2, 459, 3, 91, 8, 45, 1243, 17, 12, 2, 263, 156, 143, 5, 557, 4, 30, 6, 9, 4, 50, 3, 414, 34, 374, 274, 28, 52, 15, 51, 96, 1905, 191, 780, 275, 11, 430, 20, 91, 674, 15, 2, 1241, 44, 21, 322, 63, 31, 968, 16, 32, 782, 19, 2, 954, 3, 5, 437, 241, 115, 63, 17, 99, 41, 10, 224, 37, 8, 269, 968, 6, 58, 85, 184, 4, 170, 91, 268, 12, 73, 290, 3, 16, 7, 161, 873, 170, 61, 490, 7, 108, 170, 61, 878, 10, 271, 25, 6, 1906, 37, 8, 2, 968, 3, 14, 1244, 4, 199, 15, 6, 72, 737, 1218, 16, 176, 16, 6, 14, 361, 228, 4, 104, 258, 2, 155, 6, 230, 34, 8, 2, 215, 3, 142, 81, 5, 783, 8, 31, 745, 3, 405, 395, 771, 2, 167, 31, 675, 323, 14, 12, 2, 486, 210, 784, 38, 75, 122, 582, 583, 70, 44, 1245, 7, 219, 34, 8, 5, 364, 32, 21, 146, 5, 1246, 18, 11, 2, 152, 6, 462, 23, 6, 230, 59, 16, 443, 16, 6, 55, 3, 176, 142, 50, 1247, 12, 5, 1907, 463, 2, 94, 98, 132, 106, 4, 52, 9, 11, 4, 50, 16, 6, 1248, 40, 12, 2, 463, 35, 4, 291, 4, 73, 138, 290, 51, 3, 2, 714, 98, 35, 4, 199, 73, 80, 63, 15, 1119, 245, 10, 86, 15, 144, 26, 2, 311, 785, 7, 636, 77, 1249, 785, 43, 781, 3, 27, 1138, 3, 1200, 1908, 2, 97, 786, 14, 15, 6, 22, 28, 2, 1250, 241, 65, 4, 266, 40, 7, 3, 181, 6, 14, 1909, 40, 265, 307, 2, 520, 5, 31, 581, 1251, 90, 112, 17, 99, 146, 17, 153, 38, 12, 5, 117, 335, 77, 1910, 584, 14, 141, 36, 18, 17, 20, 133, 110, 158, 3, 1911, 1252, 34, 37, 969, 261, 4, 1912, 17, 167, 31, 98, 9, 11, 12, 5, 1253, 116, 3, 6, 206, 443, 4, 1913, 4, 7, 23, 6, 14, 1914, 509, 21, 2, 60, 18, 2, 58, 15, 7, 159, 26, 970, 12, 96, 642, 7, 48, 26, 27, 607, 4, 224, 17, 38, 12, 1915, 8, 21, 17, 1253, 313, 1176, 29, 6, 66, 6, 971, 38, 5, 31, 233, 8, 787, 3, 784, 7, 34, 4, 2, 584, 1916, 2, 584, 547, 63, 2, 242, 59, 21, 76, 205, 18, 137, 20, 5, 1917, 8, 860, 3, 1918, 18, 2, 787, 3, 146, 407, 4, 1919, 7, 42, 11, 1920, 287, 5, 117, 1254, 4, 381, 50, 128, 210, 766, 112, 3, 2, 152, 6, 462, 19, 2, 119, 226, 2, 584, 146, 191, 1246, 18, 2, 787, 3, 1921, 99, 112, 1922, 12, 76, 335, 4, 104, 366, 8, 7, 42, 11, 343, 7, 14, 27, 47, 350, 5, 312, 8, 447, 20, 5, 1923, 1924, 3, 881, 309, 152, 4, 26, 1925, 231, 76, 205, 230, 110, 2, 1254, 51, 42, 2, 584, 72, 5, 1926, 8, 757, 1927, 18, 2, 787, 454, 5, 27, 31, 80, 1928, 464, 60, 3, 5, 140, 80, 121, 3, 1929, 1930, 21, 2, 181, 201, 18, 135, 7, 227, 36, 5, 165, 80, 59, 1193, 20, 76, 761, 859, 34, 8, 76, 382, 3, 76, 117, 158, 188, 617, 30, 163, 4, 11, 5, 165, 433, 24, 425, 17, 738, 25, 6, 266, 59, 18, 137, 3, 230, 201, 6, 14, 81, 475, 3, 34, 8, 760, 3, 201, 2, 1931, 1251, 636, 81, 1932, 12, 2, 502, 3, 193, 29, 5, 151, 31, 584, 7, 14, 9, 11, 16, 6, 1933, 398, 5, 1934, 4, 379, 50, 3, 1935, 50, 20, 37, 8, 2, 546, 10, 166, 53, 572, 1936, 7, 1937, 27, 89, 1938, 345, 97, 126, 2, 138, 290, 4, 52, 7, 125, 151, 345, 344, 552, 15, 132, 106, 4, 291, 38, 51, 232, 61, 1939, 35, 7, 4, 26, 701, 10, 271, 10, 255, 4, 224, 56, 493, 219, 56, 119, 23, 2, 117, 225, 35, 29, 2, 117, 225, 262, 14, 29, 11, 105, 21, 110, 17, 18, 2, 1101, 3, 2, 1940, 8, 788, 23, 6, 66, 28, 64, 207, 15, 105, 47, 2, 138, 98, 4, 224, 56, 493, 231, 2, 1941, 57, 14, 5, 133, 465, 342, 240, 17, 40, 2, 183, 676, 16, 50, 3, 54, 6, 22, 105, 231, 7, 3, 19, 276, 699, 8, 7, 3, 287, 7, 7, 1071, 4, 17, 15, 6, 159, 16, 67, 153, 3, 64, 29, 14, 19, 2, 431, 8, 7, 6, 1255, 50, 38, 19, 1256, 3, 834, 112, 2, 972, 8, 2, 465, 3, 17, 158, 973, 935, 363, 8, 5, 133, 169, 15, 14, 349, 19, 2, 431, 20, 76, 585, 974, 677, 1257, 5, 140, 678, 3, 669, 28, 2, 1250, 651, 8, 17, 56, 8, 207, 357, 305, 1942, 1121, 128, 5, 169, 2, 169, 3, 11, 105, 18, 464, 119, 24, 91, 60, 12, 275, 18, 135, 2, 169, 179, 2, 678, 34, 8, 76, 382, 3, 1258, 17, 12, 5, 1943, 602, 102, 70, 87, 13, 9, 2, 169, 30, 14, 28, 77, 1259, 883, 24, 5, 404, 11, 157, 175, 1944, 1123, 313, 46, 503, 90, 18, 1945, 460, 10, 46, 70, 10, 14, 54, 10, 106, 38, 30, 632, 23, 10, 86, 10, 108, 53, 126, 444, 705, 559, 762, 42, 29, 52, 13, 380, 75, 15, 9, 2, 169, 1946, 378, 370, 10, 161, 378, 499, 78, 308, 503, 9, 11, 247, 78, 28, 499, 13, 64, 10, 71, 64, 9, 2, 169, 78, 308, 10, 161, 143, 7, 100, 1947, 11, 157, 27, 570, 24, 10, 161, 562, 7, 499, 4, 288, 20, 3, 210, 25, 306, 401, 1948, 12, 5, 150, 35, 27, 975, 7, 521, 9, 2, 169, 67, 222, 13, 466, 142, 7, 25, 193, 9, 11, 23, 54, 13, 53, 4, 347, 63, 5, 1949, 144, 91, 150, 13, 1950, 42, 109, 15, 63, 5, 1951, 10, 166, 86, 568, 424, 7, 5, 31, 317, 185, 13, 28, 5, 233, 9, 2, 169, 67, 222, 68, 1160, 299, 26, 401, 9, 11, 21, 10, 46, 35, 7, 48, 424, 27, 317, 4, 61, 13, 9, 2, 169, 1260, 70, 87, 13, 96, 976, 45, 121, 51, 4, 2, 279, 8, 2, 404, 11, 187, 5, 31, 1952, 18, 2, 1953, 425, 113, 27, 757, 977, 3, 6, 671, 50, 38, 3, 9, 27, 924, 10, 86, 13, 255, 4, 139, 61, 70, 13, 87, 94, 114, 9, 2, 169, 95, 14, 191, 732, 225, 3, 16, 11, 55, 28, 86, 8, 120, 165, 412, 3, 16, 2, 169, 163, 4, 26, 12, 5, 27, 1110, 1954, 8, 327, 6, 234, 177, 107, 121, 2, 169, 251, 109, 17, 132, 219, 650, 4, 92, 30, 636, 1955, 262, 11, 234, 3, 115, 121, 51, 381, 68, 660, 9, 2, 169, 35, 15, 21, 9, 11, 1956, 36, 17, 1261, 16, 67, 16, 6, 55, 43, 9, 2, 169, 11, 58, 6, 159, 16, 67, 1957, 16, 6, 22, 131, 357, 4, 52, 3, 222, 109, 21, 7, 159, 139, 17, 219, 697, 775, 24, 91, 338, 7, 1958, 177, 173, 646, 23, 18, 135, 7, 1262, 76, 585, 179, 2, 678, 34, 8, 76, 382, 51, 3, 9, 25, 13, 86, 186, 444, 52, 13, 78, 308, 10, 249, 503, 9, 11, 10, 161, 260, 154, 16, 10, 1959, 10, 71, 381, 2, 183, 290, 24, 554, 338, 413, 161, 260, 29, 154, 9, 2, 169, 67, 132, 206, 4, 92, 65, 894, 2, 31, 1263, 1960, 23, 7, 21, 115, 401, 11, 157, 12, 5, 27, 571, 102, 507, 13, 87, 211, 586, 563, 168, 9, 2, 169, 11, 974, 17, 320, 3, 72, 13, 87, 211, 586, 563, 2, 661, 679, 9, 3, 68, 504, 514, 667, 27, 147, 3, 193, 13, 1961, 587, 19, 68, 99, 52, 13, 86, 18, 68, 729, 7, 35, 138, 12, 73, 588, 586, 563, 157, 4, 39, 1962, 10, 1963, 7, 159, 1964, 2, 1965, 23, 74, 15, 78, 789, 184, 10, 53, 790, 114, 10, 52, 7, 51, 3, 51, 13, 87, 211, 9, 2, 588, 16, 10, 947, 127, 3, 53, 518, 467, 1966, 1967, 193, 13, 234, 5, 121, 1264, 12, 18, 2, 155, 978, 29, 35, 2, 412, 8, 15, 12, 73, 588, 9, 2, 1968, 16, 33, 410, 39, 1969, 1098, 10, 293, 21, 73, 1970, 27, 1971, 75, 2, 212, 8, 30, 1972, 1973, 2, 367, 917, 61, 4, 1265, 13, 5, 1974, 13, 87, 211, 9, 2, 588, 3, 68, 1141, 87, 171, 1266, 24, 207, 1975, 180, 1976, 193, 13, 310, 2, 1233, 20, 2, 1977, 3, 2, 1978, 978, 65, 66, 13, 483, 4, 52, 7, 12, 73, 588, 9, 39, 586, 10, 179, 4, 2, 1202, 3, 1979, 464, 642, 20, 73, 1980, 3, 2, 1981, 1982, 96, 7, 248, 4, 73, 1983, 514, 1267, 2, 379, 8, 73, 314, 13, 87, 211, 9, 2, 588, 37, 48, 313, 271, 15, 68, 496, 14, 16, 1984, 16, 192, 193, 13, 1985, 77, 1268, 19, 2, 216, 8, 68, 468, 29, 146, 13, 25, 1986, 1269, 10, 53, 770, 160, 791, 3, 15, 35, 228, 9, 39, 586, 71, 316, 370, 1987, 52, 13, 86, 10, 130, 482, 21, 150, 4, 113, 792, 26, 59, 56, 156, 964, 13, 36, 841, 15, 35, 28, 9, 138, 9, 2, 169, 28, 81, 138, 78, 308, 9, 11, 415, 91, 8, 2, 196, 53, 106, 1988, 7, 35, 635, 128, 279, 4, 216, 9, 2, 169, 793, 3, 57, 14, 275, 24, 91, 338, 2, 169, 14, 2, 94, 4, 267, 29, 290, 52, 13, 399, 4, 26, 7, 229, 125, 78, 28, 942, 16, 4, 290, 11, 237, 157, 97, 37, 238, 47, 1270, 25, 680, 13, 46, 10, 71, 46, 9, 2, 169, 11, 9, 131, 6, 22, 103, 126, 25, 89, 1989, 12, 17, 314, 127, 3, 6, 187, 15, 6, 14, 1990, 17, 660, 87, 13, 1991, 74, 9, 2, 169, 67, 10, 166, 47, 4, 26, 5, 31, 490, 503, 41, 13, 282, 327, 9, 11, 160, 549, 35, 113, 5, 1271, 676, 4, 26, 7, 35, 5, 27, 165, 676, 236, 9, 2, 169, 409, 1992, 254, 1993, 16, 7, 239, 7, 14, 456, 160, 549, 235, 23, 78, 28, 319, 4, 7, 937, 167, 11, 12, 5, 1994, 116, 3, 6, 58, 8, 50, 10, 197, 2, 376, 282, 26, 25, 938, 375, 568, 104, 319, 4, 7, 12, 60, 9, 2, 169, 3, 7, 143, 2, 678, 63, 76, 382, 3, 72, 1257, 51, 30, 60, 11, 337, 1272, 628, 7, 1273, 4, 267, 51, 12, 5, 200, 56, 122, 2, 169, 179, 2, 678, 34, 8, 76, 382, 3, 1274, 137, 56, 601, 3, 410, 254, 42, 7, 106, 36, 59, 2, 465, 3, 1995, 177, 12, 2, 788, 1275, 945, 16, 7, 49, 37, 226, 144, 170, 13, 291, 1276, 3, 2, 119, 226, 144, 170, 13, 291, 1277, 37, 226, 8, 29, 2, 119, 226, 8, 29, 58, 11, 4, 50, 8, 2, 465, 9, 2, 169, 90, 16, 41, 6, 22, 229, 7, 608, 3, 12, 191, 152, 7, 14, 34, 8, 358, 11, 880, 141, 794, 18, 2, 465, 24, 5, 200, 261, 4, 170, 34, 96, 44, 2, 122, 699, 8, 7, 3, 16, 7, 14, 789, 110, 6, 142, 30, 5, 27, 1278, 225, 203, 18, 135, 6, 1255, 17, 585, 110, 7, 16, 292, 16, 32, 48, 93, 3, 1279, 59, 5, 233, 8, 2, 972, 20, 464, 198, 3, 74, 96, 35, 96, 6, 9, 4, 50, 3, 1280, 5, 31, 8, 2, 138, 198, 233, 4, 318, 2, 955, 2, 148, 152, 6, 187, 5, 1281, 1282, 1082, 17, 510, 7, 22, 1129, 17, 369, 6, 14, 5, 165, 315, 509, 75, 30, 27, 640, 268, 23, 6, 187, 15, 57, 14, 43, 60, 4, 26, 855, 16, 6, 14, 737, 1143, 25, 6, 266, 4, 441, 18, 137, 4, 224, 91, 8, 2, 119, 233, 17, 510, 14, 921, 25, 1996, 398, 17, 369, 15, 57, 14, 313, 297, 4, 489, 17, 382, 23, 6, 66, 7, 18, 135, 3, 701, 4, 1997, 5, 1998, 8, 2, 1283, 233, 107, 73, 1999, 979, 18, 135, 9, 11, 12, 5, 116, 8, 860, 96, 444, 63, 1284, 12, 191, 152, 54, 6, 142, 15, 17, 716, 44, 1215, 4, 26, 142, 21, 6, 55, 64, 54, 6, 105, 36, 14, 77, 2000, 2001, 8, 492, 96, 163, 4, 2002, 47, 5, 2003, 34, 8, 5, 270, 8, 795, 546, 15, 782, 292, 963, 17, 29, 130, 21, 15, 795, 792, 26, 9, 11, 3, 296, 53, 73, 716, 106, 4, 3, 125, 73, 167, 320, 65, 35, 7, 10, 161, 64, 13, 6, 14, 967, 45, 40, 16, 6, 239, 23, 43, 2004, 163, 4, 1285, 711, 5, 31, 980, 307, 2, 1286, 795, 546, 16, 57, 163, 4, 26, 43, 768, 8, 190, 17, 320, 38, 4, 17, 99, 6, 206, 4, 104, 17, 99, 36, 4, 45, 3, 14, 1244, 4, 199, 15, 17, 492, 48, 1206, 40, 938, 12, 120, 665, 47, 5, 416, 6, 22, 90, 981, 12, 2005, 7, 36, 63, 5, 2006, 2007, 3, 14, 164, 4, 2008, 12, 307, 2, 546, 96, 6, 142, 4, 26, 131, 23, 2, 2009, 8, 2, 520, 231, 96, 6, 22, 126, 1287, 54, 5, 581, 2010, 146, 17, 522, 121, 12, 5, 335, 5, 133, 324, 22, 2011, 63, 17, 263, 3, 14, 1288, 17, 728, 20, 76, 2012, 416, 796, 2, 324, 78, 28, 5, 416, 9, 11, 797, 232, 61, 735, 416, 10, 92, 51, 383, 2, 324, 23, 12, 5, 100, 2013, 116, 3, 189, 20, 5, 500, 8, 2014, 132, 206, 309, 80, 3, 131, 638, 4, 946, 45, 10, 466, 2, 460, 241, 29, 186, 223, 40, 9, 11, 132, 206, 2, 1289, 8, 520, 3, 132, 206, 2015, 3, 132, 206, 2016, 2, 324, 49, 19, 173, 936, 4, 17, 23, 363, 982, 182, 43, 2017, 45, 11, 14, 100, 3, 100, 417, 23, 6, 58, 57, 14, 43, 212, 12, 243, 207, 100, 201, 2, 324, 22, 310, 16, 41, 7, 346, 541, 228, 2018, 2, 681, 9, 2, 324, 23, 10, 108, 26, 19, 2, 153, 34, 24, 982, 612, 3, 150, 114, 10, 466, 22, 5, 1154, 8, 682, 269, 160, 2019, 78, 27, 2020, 589, 126, 2021, 9, 11, 70, 14, 279, 4, 64, 76, 453, 3, 90, 16, 345, 798, 2, 2022, 418, 12, 2, 463, 406, 2, 324, 2023, 76, 102, 4, 5, 670, 3, 90, 16, 10, 14, 343, 10, 166, 26, 979, 8, 45, 18, 135, 32, 108, 2024, 107, 2025, 36, 128, 2, 672, 1183, 416, 23, 78, 28, 5, 416, 10, 139, 13, 9, 11, 78, 2026, 5, 67, 29, 87, 13, 9, 2, 324, 10, 130, 64, 186, 261, 4, 2027, 219, 2028, 5, 31, 707, 9, 11, 175, 1290, 16, 6, 624, 2, 643, 8, 1291, 6, 22, 298, 258, 15, 150, 5, 607, 457, 236, 9, 2, 324, 12, 5, 116, 8, 2, 2029, 2030, 132, 256, 5, 165, 306, 31, 983, 12, 73, 60, 23, 103, 37, 20, 113, 5, 492, 16, 15, 43, 43, 186, 5, 416, 3, 182, 43, 212, 2031, 7, 10, 271, 568, 26, 1292, 61, 148, 15, 13, 103, 984, 77, 2032, 10, 53, 984, 681, 262, 9, 11, 70, 14, 5, 27, 2033, 340, 23, 31, 983, 224, 681, 81, 16, 89, 16, 982, 52, 13, 46, 10, 71, 407, 7, 9, 2, 324, 23, 41, 32, 52, 114, 42, 300, 5, 500, 8, 416, 134, 21, 10, 130, 92, 30, 14, 113, 5, 610, 241, 4, 11, 15, 6, 14, 81, 523, 24, 5, 200, 56, 122, 96, 248, 2, 324, 2, 433, 8, 2034, 186, 141, 24, 681, 10, 46, 15, 67, 228, 3, 29, 411, 7, 390, 4, 61, 328, 186, 5, 31, 707, 56, 5, 416, 7, 1293, 5, 165, 315, 4, 61, 9, 11, 237, 23, 78, 28, 141, 24, 681, 16, 7, 625, 3, 41, 10, 14, 10, 668, 399, 985, 10, 71, 47, 45, 2035, 67, 26, 59, 42, 9, 2, 324, 12, 5, 916, 116, 16, 7, 986, 36, 51, 63, 76, 2036, 11, 2037, 36, 307, 2, 520, 16, 67, 16, 6, 55, 24, 17, 492, 293, 190, 1294, 307, 2, 1295, 3, 309, 74, 3, 42, 6, 22, 4, 557, 3, 2038, 7, 109, 5, 181, 6, 624, 15, 6, 283, 784, 2, 987, 8, 465, 12, 17, 320, 3, 6, 266, 4, 441, 27, 944, 988, 94, 18, 37, 3, 42, 18, 2, 119, 3, 342, 613, 1276, 3, 613, 1277, 628, 6, 22, 981, 12, 989, 50, 36, 4, 17, 631, 676, 7, 14, 25, 140, 762, 6, 22, 126, 207, 240, 2, 138, 290, 15, 7, 187, 81, 637, 18, 94, 23, 6, 106, 319, 4, 7, 12, 5, 394, 338, 3, 72, 223, 4, 50, 16, 631, 107, 182, 188, 73, 785, 250, 74, 65, 732, 21, 269, 1291, 87, 78, 103, 184, 29, 78, 164, 4, 26, 128, 37, 200, 4, 191, 203, 132, 106, 121, 4, 73, 138, 290, 2, 148, 98, 35, 4, 104, 63, 15, 277, 2039, 35, 15, 4, 26, 250, 10, 213, 16, 6, 9, 30, 6, 115, 280, 172, 77, 489, 461, 20, 5, 31, 215, 12, 7, 40, 432, 205, 235, 2040, 799, 57, 58, 11, 434, 103, 52, 4, 107, 172, 45, 30, 290, 114, 10, 166, 2041, 45, 34, 8, 88, 2042, 25, 6, 72, 988, 18, 2, 2043, 233, 51, 3, 66, 28, 943, 4, 93, 240, 2, 215, 201, 6, 22, 976, 50, 36, 4, 627, 549, 235, 305, 2044, 348, 3, 469, 24, 5, 200, 56, 122, 6, 517, 141, 18, 2, 215, 3, 487, 29, 4, 52, 148, 54, 280, 5, 301, 12, 990, 115, 454, 34, 8, 2, 463, 6, 991, 111, 4, 26, 5, 301, 247, 33, 14, 12, 990, 800, 2045, 75, 39, 263, 97, 6, 48, 53, 251, 111, 5, 470, 3, 2046, 992, 18, 2, 155, 20, 39, 2047, 7, 14, 362, 75, 191, 301, 12, 990, 20, 5, 110, 263, 3, 133, 158, 47, 5, 918, 3, 276, 2048, 11, 430, 22, 2049, 504, 15, 1223, 21, 112, 88, 354, 6, 187, 27, 209, 4, 46, 29, 7, 14, 21, 40, 3, 2050, 5, 31, 80, 34, 8, 2, 463, 4, 482, 2, 470, 301, 72, 75, 2051, 128, 231, 39, 252, 5, 117, 993, 344, 16, 133, 16, 558, 3, 30, 33, 923, 112, 4, 2, 119, 243, 12, 5, 928, 116, 24, 2, 123, 77, 1296, 128, 2, 62, 4, 447, 397, 2, 918, 301, 383, 12, 2, 183, 928, 116, 97, 1270, 2, 994, 8, 2, 196, 5, 31, 128, 2, 62, 77, 1296, 24, 2, 123, 4, 447, 397, 42, 32, 276, 758, 244, 3, 88, 2052, 106, 1294, 413, 11, 1297, 25, 89, 18, 30, 15, 6, 22, 4, 766, 121, 63, 2, 463, 24, 700, 8, 88, 775, 17, 3, 54, 6, 148, 834, 34, 2, 470, 301, 14, 298, 3, 2, 119, 14, 349, 19, 2, 524, 240, 2, 155, 995, 2053, 38, 63, 2, 672, 11, 49, 415, 38, 4, 2, 155, 3, 2054, 182, 43, 202, 8, 212, 12, 952, 9, 2, 301, 3, 15, 24, 122, 2055, 94, 247, 78, 19, 2, 183, 226, 8, 2, 155, 16, 13, 87, 1298, 247, 300, 425, 113, 5, 929, 1299, 43, 37, 55, 873, 253, 13, 3, 262, 57, 14, 5, 467, 1300, 929, 164, 19, 2056, 1301, 996, 3, 590, 3, 309, 74, 3, 42, 5, 117, 960, 16, 41, 5, 801, 56, 2057, 22, 126, 576, 4, 987, 208, 42, 9, 11, 65, 249, 10, 4, 104, 12, 57, 159, 26, 91, 966, 12, 68, 952, 2, 301, 49, 19, 173, 936, 4, 17, 41, 162, 22, 2, 155, 591, 273, 24, 997, 41, 13, 44, 1299, 13, 159, 2058, 3, 10, 55, 232, 13, 34, 13, 46, 33, 14, 141, 38, 63, 2, 672, 21, 2, 60, 33, 14, 646, 3, 30, 11, 58, 793, 2059, 23, 222, 33, 161, 400, 7, 6, 9, 4, 50, 39, 158, 87, 25, 27, 344, 18, 2, 431, 8, 39, 99, 23, 18, 120, 393, 33, 159, 389, 791, 65, 249, 10, 4, 104, 12, 6, 383, 608, 10, 174, 452, 95, 2, 301, 384, 201, 2060, 18, 30, 152, 2, 155, 8, 2, 215, 362, 3, 5, 133, 951, 115, 2061, 34, 1075, 18, 2, 2062, 99, 7, 90, 2063, 39, 468, 3, 1279, 4, 987, 398, 37, 8, 2, 520, 287, 111, 56, 148, 150, 2064, 2, 301, 406, 12, 2, 183, 116, 456, 16, 41, 131, 22, 491, 65, 249, 10, 4, 104, 12, 229, 11, 51, 12, 5, 2065, 116, 87, 13, 4, 104, 12, 18, 21, 9, 2, 301, 134, 2, 94, 225, 13, 46, 7, 14, 43, 781, 97, 11, 66, 28, 47, 4, 26, 592, 25, 85, 289, 1302, 6, 1303, 4, 50, 2, 80, 21, 2, 376, 2066, 85, 228, 4, 1304, 37, 2067, 2, 301, 163, 4, 86, 30, 5, 165, 433, 24, 998, 39, 385, 20, 2068, 10, 174, 452, 95, 33, 9, 19, 3, 59, 24, 802, 3, 802, 23, 29, 249, 10, 4, 52, 9, 11, 207, 13, 47, 9, 2, 301, 3, 72, 2069, 125, 182, 43, 212, 12, 223, 4, 111, 9, 11, 2070, 1305, 789, 2071, 3, 6, 362, 2, 155, 3, 49, 12, 2, 155, 715, 138, 63, 5, 133, 803, 96, 14, 578, 8, 2072, 128, 37, 216, 4, 2, 119, 2, 123, 14, 349, 19, 5, 160, 1097, 2073, 12, 2, 486, 999, 5, 302, 2, 303, 14, 1306, 112, 2, 740, 1307, 5, 133, 1308, 96, 163, 4, 26, 578, 8, 220, 182, 262, 171, 89, 469, 12, 15, 220, 11, 9, 4, 50, 16, 67, 16, 6, 55, 24, 590, 57, 14, 262, 171, 89, 8, 7, 12, 2, 242, 214, 2, 123, 2074, 2075, 3, 16, 24, 2, 302, 7, 14, 590, 3, 996, 2076, 173, 5, 1309, 1310, 2, 97, 154, 12, 2, 803, 15, 66, 28, 1311, 44, 2, 303, 3, 5, 133, 129, 96, 14, 349, 19, 2, 2077, 3, 2078, 128, 593, 4, 593, 208, 48, 13, 139, 61, 9, 11, 5, 31, 415, 24, 6, 14, 28, 81, 184, 328, 7, 14, 165, 2079, 24, 17, 4, 267, 94, 114, 68, 129, 2080, 47, 15, 85, 5, 525, 129, 9, 2, 123, 3, 134, 114, 348, 6, 9, 2, 135, 355, 20, 113, 640, 2081, 15, 11, 81, 547, 23, 6, 257, 12, 191, 152, 15, 7, 14, 1258, 4, 2, 302, 3, 28, 4, 17, 25, 6, 179, 1000, 3, 49, 19, 51, 10, 259, 46, 15, 525, 286, 321, 1001, 12, 438, 10, 259, 46, 15, 286, 55, 561, 32, 21, 130, 9, 2, 123, 3, 467, 8, 962, 52, 10, 71, 46, 8, 120, 15, 52, 11, 9, 27, 570, 494, 81, 526, 4, 53, 106, 63, 5, 404, 13, 71, 46, 89, 9, 2, 123, 3, 134, 5, 438, 11, 66, 28, 18, 21, 47, 2, 116, 8, 30, 385, 3, 58, 7, 48, 26, 16, 67, 4, 1312, 91, 119, 567, 8, 404, 181, 6, 14, 261, 4, 2082, 19, 37, 2, 303, 179, 2, 1308, 8, 220, 59, 2, 740, 3, 18, 137, 266, 4, 441, 1313, 373, 2083, 17, 721, 18, 2, 123, 3, 2, 2084, 740, 2085, 115, 94, 42, 439, 5, 1240, 8, 2086, 1314, 3, 1315, 2, 123, 179, 43, 651, 8, 45, 214, 54, 32, 1243, 17, 3, 2, 302, 14, 996, 25, 89, 1316, 15, 7, 14, 81, 862, 4, 92, 328, 2, 2087, 854, 7, 56, 28, 125, 208, 327, 29, 186, 664, 204, 11, 804, 38, 3, 36, 12, 77, 2088, 8, 2089, 125, 57, 505, 39, 2090, 468, 16, 77, 2091, 133, 2092, 2093, 281, 75, 7, 3, 27, 344, 805, 7, 59, 41, 455, 2094, 88, 351, 519, 2, 123, 9, 12, 5, 896, 1002, 2, 478, 48, 93, 110, 5, 315, 1003, 180, 7, 411, 96, 48, 28, 26, 77, 1004, 9, 11, 70, 187, 27, 331, 4, 104, 77, 433, 8, 1086, 59, 5, 31, 8, 17, 845, 90, 86, 8, 29, 441, 7, 48, 170, 20, 2, 150, 3, 612, 13, 64, 2, 704, 1317, 893, 432, 806, 4, 347, 110, 19, 76, 2095, 223, 8, 2096, 9, 2, 123, 2097, 59, 17, 99, 11, 2098, 175, 265, 18, 2, 303, 4, 64, 41, 6, 683, 4, 195, 2, 1318, 23, 2, 303, 14, 807, 1307, 2, 220, 3, 163, 28, 4, 26, 848, 25, 6, 49, 19, 51, 893, 432, 806, 10, 86, 56, 35, 7, 733, 10, 125, 71, 2099, 61, 9, 2, 123, 10, 103, 55, 2100, 2101, 3, 20, 15, 6, 72, 999, 17, 340, 51, 1319, 5, 202, 8, 2102, 4, 7, 16, 6, 66, 25, 3, 1245, 7, 5, 1281, 2103, 18, 2, 216, 8, 309, 1320, 267, 2104, 4, 68, 31, 1321, 3, 808, 111, 54, 33, 1322, 33, 97, 411, 7, 4, 2105, 247, 33, 1133, 7, 2106, 573, 12, 96, 2, 303, 3, 2, 302, 939, 594, 594, 594, 181, 2, 123, 1323, 2, 714, 809, 8, 2, 527, 6, 293, 1005, 2, 302, 728, 38, 3, 36, 3, 2, 167, 31, 98, 2107, 25, 15, 11, 55, 313, 253, 2, 196, 10, 267, 723, 4, 73, 1321, 10, 808, 111, 54, 33, 1322, 24, 33, 130, 1324, 2108, 2, 469, 54, 33, 2109, 573, 594, 594, 594, 95, 13, 299, 1219, 7, 5, 233, 41, 13, 47, 2, 123, 9, 4, 11, 2110, 2, 302, 18, 17, 16, 6, 239, 10, 108, 93, 3, 104, 442, 4, 447, 397, 20, 2, 62, 3, 6, 329, 34, 8, 2, 297, 2, 303, 1325, 5, 2111, 2112, 109, 17, 16, 6, 49, 34, 23, 7, 90, 1326, 17, 11, 1006, 2, 302, 20, 91, 786, 16, 7, 14, 5, 317, 1007, 31, 810, 3, 784, 34, 76, 585, 3, 874, 12, 21, 885, 90, 47, 5, 2113, 470, 58, 11, 2, 167, 31, 98, 14, 2114, 47, 5, 2115, 2116, 54, 6, 1006, 7, 3, 293, 2117, 254, 38, 3, 2118, 254, 34, 51, 25, 15, 622, 24, 2, 94, 200, 56, 122, 7, 14, 16, 89, 16, 6, 55, 52, 4, 366, 7, 16, 176, 16, 6, 22, 146, 34, 2, 1008, 80, 8, 999, 7, 96, 14, 4, 1327, 7, 38, 63, 5, 202, 8, 1207, 3, 42, 381, 2119, 366, 8, 76, 138, 593, 3, 264, 369, 25, 16, 4, 2120, 76, 2121, 254, 6, 805, 7, 34, 63, 2, 489, 242, 41, 10, 71, 195, 30, 340, 177, 20, 61, 58, 11, 300, 184, 4, 2122, 7, 12, 5, 150, 56, 122, 282, 7, 26, 2123, 4, 396, 7, 287, 6, 9, 2, 135, 196, 34, 580, 3, 2, 31, 98, 811, 12, 656, 7, 22, 264, 59, 590, 75, 30, 60, 71, 2124, 9, 11, 134, 28, 18, 21, 5, 1008, 80, 8, 2125, 370, 2, 302, 811, 51, 3, 11, 105, 27, 265, 63, 76, 263, 4, 64, 29, 14, 2, 390, 20, 7, 57, 55, 26, 43, 781, 15, 7, 22, 5, 27, 347, 38, 468, 89, 100, 47, 5, 2126, 180, 5, 953, 468, 1328, 76, 158, 44, 190, 1329, 361, 24, 5, 302, 622, 11, 66, 28, 47, 2, 153, 8, 2, 98, 18, 21, 23, 222, 7, 14, 97, 1009, 6, 58, 3, 105, 63, 76, 158, 51, 4, 64, 41, 57, 44, 120, 339, 43, 57, 44, 43, 339, 41, 186, 164, 4, 347, 63, 5, 348, 73, 151, 9, 11, 2127, 156, 53, 131, 100, 4, 52, 20, 13, 327, 74, 2, 167, 31, 98, 2128, 51, 56, 811, 7, 14, 862, 4, 92, 96, 3, 32, 49, 19, 24, 91, 181, 12, 275, 11, 14, 90, 279, 4, 86, 4, 50, 74, 29, 249, 10, 4, 52, 20, 30, 810, 54, 10, 104, 7, 606, 54, 7, 811, 51, 25, 728, 15, 6, 105, 36, 63, 76, 263, 12, 91, 1284, 30, 60, 57, 55, 26, 43, 950, 40, 7, 7, 14, 1330, 100, 837, 812, 180, 5, 348, 3, 6, 187, 15, 7, 48, 26, 81, 1199, 24, 17, 4, 2129, 7, 870, 25, 6, 266, 2, 31, 810, 36, 3, 187, 81, 2130, 4, 64, 7, 2131, 177, 677, 63, 2, 463, 41, 7, 22, 518, 38, 6, 9, 4, 50, 7, 48, 53, 146, 5, 595, 1331, 340, 23, 7, 341, 175, 5, 2132, 348, 10, 86, 3, 6, 72, 343, 112, 119, 365, 6, 246, 70, 159, 52, 27, 67, 16, 583, 3, 14, 90, 243, 4, 50, 41, 37, 97, 246, 2, 138, 80, 4, 268, 45, 54, 6, 14, 5, 31, 1332, 75, 2133, 2, 525, 129, 349, 19, 5, 2134, 8, 5, 418, 5, 394, 2135, 59, 2, 129, 97, 1001, 54, 7, 257, 11, 7, 105, 165, 2136, 6, 58, 283, 7, 22, 27, 140, 1139, 3, 5, 117, 306, 2137, 25, 6, 187, 15, 7, 255, 4, 26, 2138, 20, 2139, 525, 2140, 6, 72, 175, 415, 16, 6, 66, 28, 18, 21, 46, 328, 7, 48, 47, 2, 356, 203, 7, 97, 1001, 5, 31, 2141, 107, 85, 526, 25, 292, 58, 11, 3, 6, 49, 19, 48, 13, 139, 61, 208, 96, 80, 10, 255, 4, 93, 128, 95, 15, 2142, 5, 165, 315, 19, 296, 13, 399, 4, 104, 4, 9, 2, 129, 10, 71, 89, 725, 296, 9, 11, 42, 7, 238, 390, 96, 80, 13, 93, 9, 2, 129, 25, 140, 16, 10, 104, 844, 11, 189, 16, 77, 1333, 125, 186, 184, 4, 52, 15, 9, 2, 129, 41, 13, 97, 609, 140, 228, 11, 187, 15, 30, 55, 28, 26, 1334, 25, 6, 206, 191, 225, 29, 202, 8, 285, 446, 40, 95, 12, 15, 665, 2, 129, 9, 684, 76, 138, 969, 110, 799, 5, 82, 3, 12, 15, 665, 684, 2, 119, 969, 799, 5, 136, 145, 2143, 352, 13, 47, 300, 276, 278, 23, 10, 71, 399, 4, 93, 307, 278, 285, 11, 384, 125, 13, 161, 400, 15, 9, 2, 129, 1335, 21, 278, 95, 78, 278, 186, 278, 65, 52, 13, 46, 78, 278, 9, 11, 13, 108, 26, 9, 2, 129, 56, 13, 282, 53, 107, 95, 11, 259, 86, 15, 1228, 7, 18, 21, 203, 6, 49, 19, 3, 65, 52, 13, 46, 15, 186, 278, 4, 288, 20, 9, 2, 129, 5, 2144, 28, 278, 13, 2145, 15, 10, 271, 25, 9, 11, 67, 42, 2, 129, 49, 19, 13, 64, 5, 1166, 2146, 54, 85, 648, 3, 2147, 76, 403, 54, 85, 526, 74, 10, 1002, 54, 78, 526, 3, 2148, 73, 403, 54, 78, 648, 2149, 78, 278, 10, 408, 7, 1162, 28, 2150, 9, 11, 408, 7, 29, 13, 47, 9, 2, 129, 52, 13, 447, 397, 20, 2, 62, 4, 150, 10, 166, 47, 7, 27, 89, 9, 11, 23, 10, 466, 126, 1336, 193, 568, 64, 61, 57, 9, 2, 129, 3, 763, 11, 14, 28, 89, 497, 18, 30, 6, 14, 190, 25, 319, 4, 317, 154, 2151, 181, 6, 14, 141, 18, 2, 461, 296, 7, 22, 126, 7, 280, 462, 51, 75, 2, 1126, 29, 1337, 8, 2, 302, 9, 2, 129, 345, 344, 552, 4, 332, 7, 234, 63, 5, 348, 11, 677, 9, 90, 16, 41, 7, 22, 107, 121, 12, 5, 698, 80, 10, 58, 7, 48, 9, 2, 129, 3, 763, 51, 11, 337, 5, 31, 188, 881, 4, 64, 7, 51, 23, 7, 66, 28, 1338, 3, 109, 5, 200, 56, 122, 6, 359, 19, 12, 2, 665, 12, 96, 2, 136, 145, 14, 9, 4, 446, 132, 256, 2152, 127, 6, 9, 4, 50, 2, 136, 145, 144, 26, 89, 2, 467, 666, 3, 222, 16, 30, 35, 299, 7, 185, 26, 1339, 2153, 460, 28, 25, 278, 16, 7, 14, 12, 136, 16, 6, 9, 30, 6, 105, 38, 3, 57, 14, 2, 129, 51, 349, 19, 5, 2154, 8, 5, 418, 66, 13, 92, 348, 56, 2155, 9, 2, 129, 10, 9, 348, 157, 11, 3, 10, 197, 13, 282, 381, 2156, 3, 2157, 25, 280, 13, 170, 37, 81, 1340, 21, 138, 9, 2, 129, 3, 30, 60, 7, 763, 81, 427, 279, 20, 2, 216, 8, 2, 403, 3, 1341, 20, 2, 561, 96, 880, 91, 60, 109, 2, 379, 8, 7, 22, 298, 67, 132, 680, 256, 5, 129, 173, 5, 561, 58, 11, 23, 5, 561, 173, 5, 129, 85, 2, 467, 209, 98, 10, 192, 257, 12, 73, 314, 6, 22, 28, 298, 89, 2158, 127, 6, 115, 12, 358, 8, 2, 215, 8, 2, 136, 145, 6, 58, 7, 108, 26, 2, 138, 215, 247, 2, 2159, 44, 1007, 47, 615, 3, 2, 548, 14, 2160, 20, 914, 7, 14, 25, 133, 5, 215, 15, 6, 66, 28, 47, 4, 93, 645, 201, 6, 22, 1280, 91, 100, 8, 2, 1283, 233, 8, 465, 3, 1342, 50, 4, 40, 122, 205, 235, 214, 42, 6, 359, 38, 2161, 7, 175, 415, 243, 4, 50, 271, 7, 166, 26, 1339, 278, 109, 21, 10, 553, 197, 345, 298, 4, 64, 2, 82, 1010, 305, 2162, 5, 278, 217, 377, 57, 14, 5, 218, 266, 34, 231, 5, 418, 12, 1343, 8, 2, 215, 3, 2, 136, 145, 3, 2, 82, 44, 350, 217, 18, 7, 5, 124, 14, 349, 591, 45, 813, 471, 3, 2, 119, 122, 44, 1344, 7, 16, 5, 1345, 1346, 88, 2163, 19, 7, 3, 223, 112, 76, 99, 27, 748, 24, 2, 124, 58, 11, 97, 16, 85, 471, 10, 271, 7, 238, 327, 2, 218, 14, 5, 133, 37, 23, 2, 160, 44, 21, 649, 413, 18, 37, 856, 8, 7, 43, 297, 43, 297, 32, 204, 34, 54, 32, 257, 11, 429, 182, 1078, 8, 297, 9, 11, 797, 3, 6, 227, 36, 12, 5, 133, 252, 2164, 18, 37, 216, 8, 2, 218, 53, 91, 1347, 2, 136, 145, 9, 12, 77, 1259, 116, 11, 105, 21, 110, 2, 218, 23, 57, 14, 131, 19, 7, 23, 217, 10, 71, 64, 120, 1347, 6, 384, 57, 521, 120, 9, 2, 136, 145, 42, 7, 346, 27, 1011, 8, 13, 4, 1189, 7, 9, 11, 409, 7, 346, 27, 1011, 8, 13, 4, 452, 36, 173, 210, 1336, 9, 2, 136, 145, 10, 259, 46, 7, 14, 68, 218, 9, 11, 85, 1348, 24, 5, 117, 306, 100, 180, 160, 68, 504, 1349, 2165, 9, 2, 82, 33, 22, 126, 141, 18, 11, 24, 91, 60, 20, 117, 604, 3, 30, 14, 39, 94, 925, 13, 166, 508, 28, 4, 170, 1350, 977, 11, 9, 20, 91, 2166, 85, 27, 1351, 2, 82, 362, 39, 158, 27, 1352, 19, 775, 30, 23, 21, 33, 9, 14, 114, 35, 5, 2167, 47, 5, 596, 2168, 107, 162, 174, 53, 91, 1012, 74, 58, 11, 78, 331, 2169, 484, 611, 1353, 10, 407, 10, 130, 900, 15, 6, 189, 608, 52, 13, 380, 15, 13, 86, 13, 130, 199, 34, 2, 389, 4, 7, 9, 2, 136, 145, 456, 25, 9, 11, 42, 13, 166, 92, 29, 13, 380, 2, 136, 145, 49, 19, 10, 52, 11, 237, 157, 18, 2170, 460, 10, 380, 29, 10, 2171, 2, 183, 98, 13, 46, 28, 2, 183, 98, 5, 233, 9, 2, 82, 13, 159, 90, 16, 67, 92, 15, 528, 64, 29, 10, 2172, 35, 2, 183, 98, 16, 528, 224, 29, 10, 2173, 13, 159, 90, 16, 67, 92, 189, 2, 136, 145, 15, 528, 47, 29, 10, 2174, 35, 2, 183, 98, 16, 528, 104, 29, 10, 2175, 13, 159, 90, 16, 67, 92, 189, 2, 124, 70, 163, 4, 26, 223, 12, 39, 682, 15, 528, 1354, 54, 10, 2176, 35, 2, 183, 98, 16, 528, 682, 54, 10, 2177, 7, 35, 2, 183, 98, 20, 13, 9, 2, 82, 3, 95, 2, 404, 630, 3, 2, 377, 227, 523, 24, 5, 200, 181, 11, 58, 112, 21, 6, 55, 260, 40, 2178, 3, 596, 2179, 96, 346, 89, 2, 82, 14, 2, 94, 4, 1355, 2, 275, 29, 150, 8, 2, 1356, 35, 7, 33, 9, 322, 4, 11, 33, 22, 798, 39, 426, 34, 8, 39, 477, 3, 14, 141, 18, 7, 1357, 980, 7, 309, 74, 3, 42, 3, 879, 7, 4, 39, 593, 11, 991, 5, 31, 3, 42, 9, 2, 2180, 122, 802, 635, 659, 2, 82, 10, 592, 13, 419, 282, 946, 2, 2181, 33, 189, 141, 409, 18, 2, 136, 145, 7, 14, 2, 311, 419, 2, 136, 145, 1358, 157, 284, 23, 91, 814, 108, 53, 106, 12, 16, 67, 2, 82, 2182, 13, 668, 53, 143, 7, 12, 20, 2, 529, 866, 2, 136, 145, 179, 2, 426, 3, 105, 18, 7, 2183, 42, 33, 1076, 7, 63, 39, 1359, 8, 217, 3, 105, 18, 7, 51, 23, 33, 55, 86, 8, 131, 274, 4, 92, 180, 39, 94, 385, 7, 14, 2, 311, 419, 13, 46, 11, 22, 126, 141, 112, 39, 815, 20, 91, 604, 29, 5, 847, 426, 6, 384, 7, 1360, 2, 150, 8, 2, 1356, 3, 238, 139, 29, 1013, 7, 35, 114, 166, 7, 1303, 2, 82, 411, 68, 426, 139, 13, 29, 1361, 7, 35, 8, 178, 28, 11, 157, 27, 2184, 23, 134, 247, 7, 2185, 2, 183, 1361, 24, 113, 5, 140, 60, 413, 96, 35, 90, 2, 642, 20, 402, 9, 2, 82, 11, 187, 595, 417, 2, 2186, 385, 163, 4, 53, 43, 202, 8, 453, 12, 7, 3, 193, 7, 14, 262, 555, 10, 71, 81, 562, 13, 6, 9, 16, 570, 16, 6, 55, 2, 124, 35, 471, 51, 9, 2, 82, 3, 33, 2187, 5, 31, 476, 217, 172, 76, 468, 2, 124, 410, 76, 99, 658, 3, 9, 173, 883, 76, 158, 8, 178, 8, 178, 90, 29, 10, 14, 164, 4, 385, 499, 53, 13, 948, 2, 2188, 193, 2, 82, 9, 322, 4, 11, 51, 43, 10, 316, 7, 38, 11, 157, 652, 2, 389, 10, 466, 2, 2189, 241, 9, 2, 82, 837, 10, 9, 2, 136, 145, 11, 659, 2190, 10, 86, 13, 159, 52, 219, 274, 20, 2, 60, 6, 9, 180, 2191, 7, 12, 611, 1353, 15, 53, 43, 2192, 41, 13, 246, 60, 16, 67, 16, 10, 52, 9, 2, 82, 13, 282, 272, 40, 1203, 7, 85, 111, 10, 71, 46, 29, 13, 380, 9, 11, 8, 178, 13, 71, 2, 82, 9, 1005, 39, 99, 1260, 10, 654, 92, 13, 103, 214, 239, 4, 60, 222, 28, 11, 1014, 157, 23, 10, 46, 10, 53, 4, 808, 60, 54, 10, 508, 1015, 633, 15, 2193, 24, 7, 9, 2, 82, 33, 185, 587, 1288, 74, 41, 13, 97, 293, 19, 165, 2194, 20, 111, 2195, 52, 553, 207, 13, 572, 20, 2, 1362, 24, 997, 271, 7, 44, 627, 1013, 12, 2, 632, 90, 60, 4, 288, 353, 374, 97, 53, 4, 931, 5, 1318, 4, 60, 3, 110, 505, 2, 1362, 12, 5, 816, 188, 840, 37, 60, 24, 1168, 10, 97, 197, 7, 14, 2, 136, 145, 9, 4, 254, 12, 5, 931, 15, 48, 26, 846, 262, 9, 11, 794, 23, 2196, 668, 26, 970, 24, 7, 13, 46, 28, 18, 94, 222, 9, 2, 82, 23, 13, 55, 381, 7, 4, 188, 840, 37, 16, 140, 16, 13, 572, 35, 15, 2, 80, 13, 483, 11, 229, 2, 82, 410, 39, 99, 2197, 28, 10, 33, 157, 162, 2198, 135, 2199, 127, 33, 49, 278, 13, 46, 754, 20, 39, 217, 1363, 18, 2, 136, 145, 7, 14, 18, 2, 117, 1364, 2200, 75, 2, 62, 8, 472, 3, 10, 22, 4, 597, 2201, 598, 31, 853, 65, 10, 213, 29, 186, 18, 168, 13, 46, 2, 527, 222, 132, 149, 219, 47, 7, 9, 11, 7, 505, 19, 13, 46, 2, 82, 406, 12, 30, 80, 2202, 965, 2, 478, 13, 1016, 47, 5, 217, 2203, 12, 2, 672, 598, 2204, 95, 2, 124, 410, 254, 3, 72, 1319, 12, 76, 682, 598, 598, 598, 598, 3, 49, 19, 25, 140, 15, 32, 22, 4, 1365, 7, 4, 170, 7, 557, 67, 345, 313, 310, 2, 94, 809, 9, 2, 82, 54, 2, 62, 547, 38, 3, 2205, 34, 2206, 2207, 2, 60, 59, 20, 39, 99, 168, 65, 595, 727, 599, 11, 3, 192, 762, 15, 2, 82, 49, 19, 12, 5, 2208, 116, 33, 185, 52, 5, 98, 10, 332, 85, 321, 1135, 1013, 74, 5, 437, 241, 115, 63, 334, 99, 35, 15, 2, 412, 25, 306, 217, 154, 87, 143, 34, 95, 6, 229, 284, 134, 7, 9, 2, 82, 20, 5, 817, 85, 321, 217, 60, 3, 1366, 43, 60, 4, 1367, 2, 154, 591, 2209, 42, 13, 381, 967, 110, 10, 271, 9, 11, 456, 25, 9, 2, 82, 16, 2, 154, 104, 319, 38, 23, 29, 625, 54, 13, 107, 4, 2, 279, 51, 11, 720, 4, 332, 271, 162, 268, 2, 567, 2, 136, 145, 420, 1368, 78, 190, 475, 8, 30, 10, 2210, 2, 661, 1017, 1360, 273, 5, 457, 78, 308, 10, 71, 46, 37, 9, 11, 175, 2211, 18, 2, 2212, 42, 2, 124, 174, 32, 276, 204, 1369, 38, 124, 3, 32, 1370, 7, 19, 276, 699, 18, 137, 2, 124, 427, 362, 39, 158, 10, 346, 471, 33, 9, 12, 5, 896, 1236, 102, 10, 149, 309, 355, 13, 2213, 44, 243, 139, 273, 5, 457, 9, 2, 136, 145, 284, 208, 52, 937, 11, 3, 26, 1216, 40, 7, 189, 2, 82, 56, 568, 26, 471, 51, 127, 85, 250, 137, 172, 5, 60, 57, 44, 160, 31, 2214, 2, 124, 72, 12, 5, 117, 335, 3, 88, 1371, 44, 2215, 2216, 3, 2217, 3, 32, 1018, 18, 2, 818, 8, 5, 67, 29, 66, 32, 446, 19, 9, 11, 70, 321, 179, 5, 117, 2218, 12, 791, 8, 2219, 3, 2220, 32, 1018, 19, 530, 9, 2, 124, 109, 343, 5, 200, 56, 122, 32, 388, 53, 250, 15, 13, 46, 11, 898, 384, 767, 53, 126, 1372, 25, 32, 44, 9, 2, 124, 27, 1372, 11, 206, 4, 623, 4, 50, 29, 113, 77, 1300, 2221, 8, 1373, 48, 26, 47, 23, 7, 417, 17, 171, 89, 25, 6, 49, 19, 23, 114, 66, 32, 446, 18, 2, 818, 8, 5, 67, 195, 91, 100, 217, 2, 136, 145, 9, 4, 11, 27, 1092, 132, 22, 131, 193, 11, 157, 12, 77, 375, 116, 25, 10, 161, 195, 100, 13, 380, 13, 161, 195, 812, 9, 2, 82, 85, 27, 1191, 4, 195, 100, 180, 131, 458, 229, 68, 2222, 9, 11, 2223, 425, 1350, 977, 74, 2, 82, 229, 1374, 11, 66, 28, 81, 46, 29, 4, 92, 4, 30, 25, 6, 2224, 50, 4, 91, 217, 3, 529, 3, 419, 3, 42, 234, 4, 2, 124, 3, 383, 17, 225, 114, 66, 32, 446, 18, 2, 818, 8, 5, 67, 2, 124, 51, 179, 5, 200, 56, 122, 4, 86, 40, 7, 3, 42, 9, 7, 14, 5, 530, 67, 182, 43, 113, 98, 11, 14, 279, 27, 409, 23, 2, 82, 3, 2, 136, 145, 49, 1375, 1375, 3, 2, 124, 1376, 384, 41, 13, 161, 26, 1011, 374, 274, 657, 2, 457, 24, 370, 43, 208, 93, 19, 11, 9, 27, 1205, 10, 185, 2225, 51, 10, 654, 92, 57, 299, 26, 37, 37, 236, 9, 2, 124, 797, 203, 33, 2226, 4, 93, 19, 3, 25, 269, 160, 31, 2227, 44, 1377, 4, 522, 13, 46, 29, 66, 32, 522, 9, 11, 81, 959, 17, 2228, 530, 9, 2, 124, 173, 836, 18, 21, 30, 60, 10, 399, 5, 2229, 1359, 420, 2, 82, 634, 21, 920, 37, 461, 19, 33, 662, 19, 16, 33, 239, 3, 2, 124, 439, 111, 2, 136, 145, 662, 63, 2, 2230, 461, 3, 11, 175, 2231, 179, 2, 461, 8, 2, 136, 145, 2, 82, 14, 2, 97, 37, 70, 106, 120, 1004, 128, 2, 268, 3, 11, 14, 5, 165, 315, 902, 59, 180, 127, 16, 2, 136, 145, 22, 90, 1019, 2, 1091, 2232, 63, 39, 951, 11, 66, 28, 197, 4, 2233, 2, 124, 51, 25, 6, 72, 27, 1014, 23, 10, 71, 562, 296, 66, 32, 522, 2, 530, 128, 13, 130, 522, 641, 34, 8, 5, 641, 67, 9, 2, 82, 25, 10, 166, 86, 13, 55, 522, 530, 34, 8, 5, 530, 2234, 540, 23, 32, 44, 12, 2, 67, 11, 9, 4, 2, 124, 28, 2235, 4, 651, 30, 135, 385, 8, 178, 32, 44, 9, 2, 124, 67, 12, 30, 389, 25, 755, 167, 11, 15, 6, 232, 2, 124, 93, 19, 24, 91, 60, 173, 1378, 7, 32, 44, 1377, 4, 522, 2, 124, 49, 19, 1368, 3, 1379, 76, 158, 24, 7, 14, 190, 27, 602, 3, 32, 671, 21, 1380, 8, 2236, 15, 819, 20, 77, 820, 114, 20, 77, 820, 9, 11, 114, 28, 9, 2, 136, 145, 11, 14, 523, 2, 124, 22, 1381, 76, 158, 75, 30, 60, 3, 14, 164, 59, 63, 5, 2237, 23, 19, 210, 1370, 75, 2, 82, 7, 2238, 38, 51, 20, 5, 31, 670, 3, 49, 19, 15, 819, 20, 77, 820, 113, 16, 118, 2239, 3, 2, 2240, 3, 2241, 3, 2242, 46, 13, 92, 154, 87, 89, 8, 5, 1382, 66, 13, 192, 64, 113, 5, 98, 16, 5, 2243, 8, 5, 1382, 289, 74, 13, 332, 61, 9, 11, 27, 89, 755, 10, 71, 86, 42, 13, 668, 272, 9, 2, 82, 30, 574, 8, 2244, 14, 100, 180, 11, 55, 1235, 6, 106, 38, 12, 117, 2245, 3, 359, 59, 2, 124, 543, 471, 673, 3, 1330, 8, 2, 516, 179, 2, 460, 651, 8, 17, 164, 330, 6, 105, 121, 137, 56, 601, 188, 863, 15, 32, 48, 408, 109, 17, 2, 135, 60, 6, 257, 45, 32, 44, 261, 4, 143, 2, 124, 63, 2, 2246, 18, 120, 393, 156, 103, 93, 57, 51, 9, 11, 16, 6, 971, 17, 80, 258, 2, 463, 85, 2, 2247, 217, 377, 10, 192, 14, 18, 12, 21, 73, 314, 90, 16, 6, 9, 30, 6, 430, 15, 37, 8, 2, 520, 22, 5, 155, 2248, 138, 63, 7, 134, 27, 209, 6, 58, 23, 1383, 209, 2249, 10, 86, 10, 299, 16, 67, 93, 12, 18, 137, 3, 12, 6, 49, 137, 100, 6, 142, 50, 12, 2, 140, 391, 3, 281, 4, 2, 31, 360, 218, 74, 156, 483, 274, 30, 60, 6, 9, 4, 50, 3, 72, 75, 669, 2, 31, 488, 392, 3, 2250, 2, 155, 15, 715, 63, 2, 245, 42, 6, 49, 4, 441, 988, 18, 2, 465, 6, 22, 293, 5, 574, 8, 7, 12, 17, 477, 201, 6, 14, 40, 5, 369, 235, 42, 6, 359, 36, 2, 31, 710, 3, 2251, 142, 50, 18, 135, 12, 2, 277, 245, 307, 2, 437, 1384, 1100, 3, 2, 1102, 1103, 305, 2252, 2, 531, 397, 524, 5, 133, 685, 418, 517, 240, 2, 2253, 8, 2, 245, 2, 1020, 342, 19, 7, 44, 147, 23, 57, 44, 160, 473, 18, 7, 807, 1385, 45, 865, 11, 58, 30, 5, 27, 209, 98, 3, 6, 49, 645, 4, 426, 45, 3, 90, 16, 6, 115, 38, 4, 45, 6, 149, 37, 8, 45, 92, 153, 34, 74, 445, 71, 93, 1151, 2254, 112, 61, 47, 15, 10, 388, 400, 7, 9, 445, 12, 5, 916, 116, 560, 2255, 73, 956, 19, 96, 560, 105, 38, 3, 9, 134, 138, 445, 321, 782, 2, 2256, 19, 516, 374, 274, 28, 272, 9, 445, 10, 149, 2, 62, 92, 97, 891, 13, 2257, 4, 26, 1021, 29, 24, 9, 2, 37, 70, 22, 2258, 94, 134, 790, 8, 68, 519, 122, 9, 560, 284, 7, 35, 39, 519, 9, 445, 3, 156, 139, 2259, 14, 24, 989, 2, 303, 2260, 1289, 1010, 8, 2261, 560, 2262, 36, 39, 2263, 3, 22, 90, 484, 67, 8, 21, 2, 2264, 154, 54, 39, 496, 2265, 4, 481, 172, 11, 16, 6, 517, 1022, 45, 3, 33, 1023, 558, 280, 2, 516, 105, 110, 1328, 3, 21, 8, 45, 758, 244, 48, 13, 139, 61, 9, 11, 5, 31, 415, 114, 13, 87, 1385, 363, 1020, 445, 3, 560, 9, 131, 23, 105, 18, 122, 122, 72, 12, 5, 244, 102, 114, 2, 438, 35, 13, 64, 850, 30, 95, 255, 4, 53, 126, 5, 865, 685, 418, 3, 162, 143, 5, 147, 37, 12, 75, 950, 3, 41, 2, 62, 14, 4, 199, 7, 34, 162, 166, 21, 53, 450, 354, 619, 59, 13, 46, 25, 13, 64, 850, 1335, 664, 450, 311, 2266, 6, 1238, 4, 18, 30, 152, 445, 70, 22, 126, 265, 141, 603, 2, 245, 251, 34, 2, 62, 2, 62, 3, 2, 160, 473, 673, 1325, 1024, 1386, 172, 88, 686, 57, 14, 5, 706, 8, 306, 1213, 3, 11, 105, 110, 1025, 4, 64, 2, 62, 94, 115, 554, 386, 1387, 2267, 269, 44, 21, 1007, 47, 2, 160, 473, 2268, 3, 1386, 20, 88, 320, 3, 205, 18, 2, 2269, 148, 2, 554, 1388, 269, 44, 1389, 21, 112, 20, 2270, 3, 359, 122, 3, 122, 16, 2, 386, 66, 109, 269, 115, 2, 1390, 365, 57, 44, 554, 8, 45, 3, 2, 31, 884, 115, 804, 2271, 550, 198, 12, 198, 12, 2272, 32, 44, 21, 1389, 20, 472, 148, 115, 2, 1026, 1391, 2273, 3, 2274, 3, 307, 45, 11, 2275, 2, 147, 101, 7, 14, 223, 12, 5, 329, 621, 1380, 1140, 18, 373, 15, 14, 9, 3, 49, 75, 173, 2276, 17, 42, 439, 2, 421, 8, 472, 1387, 2, 1392, 919, 19, 5, 1393, 2277, 1345, 3, 135, 8, 21, 30, 846, 687, 115, 2, 69, 3, 62, 8, 472, 11, 14, 175, 1394, 328, 6, 255, 28, 4, 1395, 36, 19, 17, 263, 47, 2, 160, 473, 23, 6, 55, 28, 260, 192, 350, 149, 8, 113, 5, 688, 18, 2278, 3, 731, 29, 48, 26, 2, 212, 8, 5, 687, 58, 6, 41, 285, 22, 21, 4, 1395, 36, 172, 88, 686, 25, 15, 32, 388, 64, 7, 25, 6, 517, 283, 296, 6, 14, 3, 337, 54, 2, 687, 115, 2279, 4, 11, 32, 21, 958, 3, 105, 18, 17, 3, 2, 62, 9, 723, 70, 35, 30, 6, 9, 7, 4, 2, 421, 8, 472, 70, 97, 758, 3, 1396, 12, 656, 2280, 9, 2, 62, 1005, 17, 99, 658, 3, 322, 4, 11, 6, 49, 19, 652, 68, 356, 340, 73, 356, 35, 11, 25, 208, 68, 325, 9, 11, 27, 570, 23, 6, 189, 4, 50, 114, 300, 97, 5, 689, 8, 1027, 109, 21, 10, 1028, 26, 308, 8, 45, 3, 70, 87, 269, 9, 2, 62, 754, 4, 2, 160, 473, 70, 44, 440, 110, 2, 685, 418, 24, 13, 64, 16, 32, 44, 440, 19, 88, 686, 3, 2, 2281, 19, 88, 2282, 14, 2, 183, 16, 2, 379, 8, 2, 689, 6, 55, 28, 139, 328, 32, 44, 473, 56, 386, 56, 1388, 56, 160, 8, 17, 351, 365, 65, 166, 10, 46, 9, 11, 497, 18, 17, 351, 1000, 85, 43, 519, 8, 402, 2, 62, 234, 1393, 20, 934, 3, 109, 2283, 18, 17, 24, 5, 152, 47, 5, 1108, 2284, 796, 59, 20, 17, 99, 59, 501, 9, 11, 27, 992, 3, 793, 3, 2, 62, 14, 523, 2, 69, 1348, 39, 198, 172, 17, 252, 3, 415, 9, 821, 73, 151, 6, 35, 97, 5, 340, 2, 62, 234, 409, 177, 128, 111, 3, 9, 4, 2, 421, 347, 45, 112, 2, 421, 66, 25, 27, 944, 20, 37, 369, 104, 38, 9, 2, 62, 12, 5, 647, 580, 102, 3, 2, 160, 473, 673, 547, 38, 3, 72, 2285, 4, 2, 69, 2, 62, 2, 1390, 365, 3, 455, 357, 396, 59, 15, 796, 2, 62, 13, 170, 61, 1340, 3, 42, 322, 4, 2, 685, 418, 6, 49, 19, 29, 53, 13, 126, 664, 95, 299, 7, 208, 68, 325, 9, 122, 12, 5, 27, 2286, 116, 164, 36, 19, 37, 690, 16, 33, 239, 162, 44, 261, 10, 64, 9, 2, 62, 70, 22, 2287, 126, 2288, 2, 1020, 59, 20, 88, 354, 3, 2, 687, 662, 19, 160, 8, 2, 386, 2289, 287, 4, 2290, 2, 1029, 473, 70, 230, 4, 11, 24, 2291, 13, 556, 26, 1021, 9, 11, 3, 6, 143, 45, 63, 5, 133, 1384, 2292, 15, 517, 240, 2, 160, 386, 1248, 40, 24, 5, 200, 56, 122, 141, 24, 45, 3, 42, 677, 2293, 59, 109, 2, 516, 87, 88, 354, 59, 414, 2, 62, 88, 354, 87, 298, 41, 7, 208, 68, 325, 2, 386, 414, 12, 656, 134, 138, 414, 2, 62, 130, 13, 447, 397, 2, 386, 44, 523, 3, 105, 18, 11, 16, 2, 225, 14, 2294, 683, 24, 17, 284, 414, 11, 107, 19, 42, 2295, 2, 62, 3, 11, 939, 2, 687, 487, 27, 89, 29, 48, 428, 148, 2296, 5, 27, 1397, 150, 9, 5, 890, 102, 18, 17, 226, 6, 14, 614, 75, 2, 147, 101, 70, 14, 2297, 265, 63, 17, 263, 27, 9, 11, 1234, 2, 123, 1030, 1030, 9, 2, 101, 12, 5, 244, 329, 116, 33, 105, 265, 112, 39, 815, 16, 33, 239, 3, 42, 1342, 558, 172, 1256, 143, 39, 382, 281, 4, 17, 593, 3, 691, 506, 231, 564, 8, 1398, 29, 24, 9, 11, 66, 13, 92, 1399, 5, 940, 168, 2, 101, 229, 43, 10, 259, 9, 11, 10, 71, 86, 85, 18, 21, 5, 940, 10, 9, 1399, 24, 168, 6, 2298, 2, 531, 615, 2, 101, 72, 11, 248, 5, 31, 1400, 8, 2299, 125, 1030, 2, 101, 691, 12, 5, 509, 116, 2, 62, 144, 253, 13, 13, 64, 6, 115, 175, 542, 3, 2, 62, 9, 104, 4, 68, 2300, 414, 2, 62, 12, 5, 102, 8, 2301, 3, 285, 72, 454, 40, 12, 21, 885, 1083, 38, 398, 464, 119, 203, 32, 106, 986, 36, 12, 5, 200, 56, 122, 3, 2, 312, 72, 11, 58, 6, 22, 103, 256, 113, 5, 209, 397, 524, 12, 17, 314, 7, 14, 21, 2302, 3, 2303, 2, 2304, 44, 446, 1031, 2, 2305, 446, 1401, 3, 2, 386, 22, 4, 2306, 1024, 38, 3, 4, 587, 19, 88, 320, 3, 205, 4, 170, 2, 822, 2, 2307, 786, 11, 142, 18, 94, 14, 12, 2308, 17, 692, 6, 981, 12, 190, 76, 1402, 1032, 177, 2309, 228, 231, 17, 252, 20, 76, 874, 859, 36, 23, 495, 90, 16, 6, 22, 106, 76, 492, 1163, 2310, 34, 3, 14, 164, 4, 316, 2, 532, 5, 1282, 20, 76, 99, 7, 48, 1327, 254, 110, 3, 153, 38, 12, 17, 263, 20, 113, 5, 417, 2311, 15, 6, 55, 28, 400, 2312, 34, 1403, 3, 54, 6, 22, 106, 76, 99, 36, 3, 14, 164, 4, 288, 51, 7, 14, 27, 2313, 4, 199, 15, 2, 532, 22, 1404, 254, 3, 14, 12, 2, 2314, 8, 2315, 177, 731, 21, 30, 57, 14, 495, 5, 2316, 56, 2317, 12, 2, 80, 1150, 6, 750, 4, 2318, 2, 532, 4, 3, 16, 2, 2319, 38, 386, 44, 321, 190, 38, 3, 614, 59, 4, 119, 2320, 8, 2, 524, 11, 176, 115, 4, 2, 1149, 15, 7, 14, 5, 27, 1278, 312, 236, 2, 823, 21, 2321, 18, 137, 173, 395, 24, 1033, 1405, 21, 2, 181, 3, 2322, 24, 2, 1031, 3, 12, 5, 27, 757, 60, 2, 62, 14, 12, 5, 2323, 911, 3, 49, 1406, 40, 3, 1407, 59, 20, 39, 99, 56, 59, 20, 17, 99, 40, 137, 12, 5, 200, 11, 72, 4, 424, 27, 2324, 4, 26, 184, 6, 22, 28, 16, 193, 22, 120, 1408, 20, 2, 62, 23, 6, 246, 15, 7, 159, 428, 120, 200, 3, 42, 58, 6, 29, 48, 667, 8, 61, 300, 595, 876, 8, 2325, 285, 95, 2, 117, 213, 35, 15, 182, 120, 37, 264, 1034, 6, 14, 141, 40, 24, 91, 80, 8, 738, 3, 487, 328, 6, 55, 104, 177, 173, 210, 256, 54, 6, 430, 5, 209, 2326, 12, 2, 242, 7, 417, 17, 27, 89, 18, 94, 23, 109, 1022, 7, 5, 200, 56, 122, 6, 146, 7, 34, 4, 26, 5, 561, 3, 6, 9, 4, 50, 85, 2, 525, 129, 74, 10, 174, 53, 480, 4, 272, 4, 65, 87, 13, 190, 19, 9, 2, 129, 16, 176, 16, 57, 14, 382, 228, 24, 7, 4, 267, 20, 11, 337, 201, 2, 158, 462, 3, 42, 2327, 85, 43, 212, 646, 4, 7, 6, 58, 201, 76, 615, 53, 107, 56, 18, 460, 37, 8, 45, 12, 191, 200, 2, 295, 99, 462, 3, 42, 11, 143, 36, 17, 692, 3, 72, 77, 2328, 8, 2, 312, 494, 27, 331, 6, 22, 2329, 4, 482, 4, 17, 2, 129, 163, 4, 86, 15, 57, 14, 228, 8, 7, 74, 12, 358, 3, 43, 100, 8, 7, 462, 10, 71, 86, 32, 447, 18, 21, 2330, 11, 72, 12, 175, 5, 2331, 116, 3, 32, 21, 2332, 25, 595, 37, 161, 253, 2333, 2334, 32, 71, 435, 4, 53, 120, 864, 12, 942, 18, 460, 41, 57, 87, 458, 2335, 4, 1169, 589, 43, 241, 65, 975, 7, 35, 21, 2, 154, 210, 1034, 24, 997, 182, 2, 2336, 132, 106, 4, 93, 258, 148, 614, 40, 18, 2, 119, 216, 8, 2, 2337, 10, 166, 53, 2338, 2, 531, 532, 90, 74, 97, 7, 230, 177, 54, 7, 257, 402, 429, 65, 52, 13, 47, 2, 62, 9, 2, 129, 12, 5, 244, 102, 28, 18, 21, 9, 11, 506, 25, 1329, 90, 42, 6, 430, 15, 2, 62, 14, 281, 287, 17, 848, 25, 6, 49, 19, 607, 4, 2339, 15, 85, 313, 697, 181, 2340, 2, 312, 2, 62, 1396, 3, 605, 19, 70, 87, 13, 223, 4, 9, 2, 69, 164, 38, 4, 11, 3, 141, 18, 2, 1409, 99, 20, 117, 604, 85, 5, 1035, 8, 2341, 525, 129, 9, 11, 917, 61, 4, 1312, 7, 10, 71, 47, 2, 153, 8, 7, 18, 21, 9, 2, 69, 203, 7, 299, 2342, 73, 198, 41, 7, 2343, 345, 175, 28, 2, 129, 384, 71, 26, 2344, 9, 2, 69, 3, 71, 153, 18, 61, 47, 15, 33, 106, 287, 11, 16, 33, 239, 5, 129, 299, 153, 18, 5, 69, 9, 11, 132, 336, 15, 12, 91, 326, 23, 10, 71, 260, 296, 67, 7, 108, 26, 1410, 9, 2, 69, 27, 793, 3, 33, 251, 2, 62, 70, 14, 2345, 18, 2, 152, 73, 151, 10, 197, 13, 48, 53, 30, 129, 1410, 2, 62, 22, 97, 37, 80, 8, 2346, 21, 2347, 117, 56, 361, 59, 20, 39, 99, 6, 9, 173, 214, 141, 110, 156, 512, 2, 693, 499, 9, 2, 69, 451, 3, 33, 329, 59, 11, 58, 6, 159, 16, 67, 93, 121, 3, 64, 65, 2, 312, 14, 164, 19, 16, 6, 149, 2, 531, 102, 12, 2, 502, 2348, 20, 911, 6, 22, 1316, 149, 17, 564, 160, 8, 2, 823, 4, 26, 575, 24, 350, 1326, 88, 1033, 3, 6, 66, 28, 47, 2, 153, 8, 154, 18, 21, 16, 2, 312, 14, 12, 113, 655, 15, 6, 103, 246, 328, 7, 14, 17, 347, 56, 28, 25, 6, 49, 12, 2349, 8, 17, 532, 2, 532, 14, 2350, 12, 5, 1411, 20, 191, 532, 96, 163, 4, 11, 77, 1249, 433, 24, 2351, 37, 8, 45, 20, 2, 119, 2, 97, 786, 14, 15, 17, 692, 14, 298, 603, 4, 2, 119, 226, 8, 2, 245, 296, 11, 55, 64, 7, 261, 12, 5, 2352, 202, 8, 80, 4, 1016, 38, 63, 5, 418, 75, 2, 60, 6, 22, 1006, 2, 692, 3, 976, 7, 121, 2, 1411, 14, 112, 3, 276, 2, 1031, 44, 34, 8, 358, 23, 7, 238, 390, 89, 58, 11, 16, 21, 2, 822, 87, 298, 128, 30, 226, 8, 2, 524, 25, 6, 1032, 7, 177, 231, 17, 252, 15, 7, 159, 28, 738, 51, 3, 49, 121, 24, 5, 31, 100, 404, 20, 17, 1035, 54, 6, 106, 121, 4, 2, 525, 129, 6, 14, 497, 4, 199, 81, 5, 133, 783, 1412, 110, 7, 57, 14, 5, 1408, 164, 19, 591, 2, 693, 2, 69, 3, 2, 62, 70, 44, 21, 223, 18, 137, 181, 21, 2, 379, 44, 81, 523, 3, 105, 27, 748, 2, 152, 11, 462, 6, 14, 2353, 4, 75, 21, 160, 4, 2354, 2, 225, 3, 32, 383, 88, 2355, 4, 17, 330, 16, 32, 21, 239, 18, 137, 6, 142, 7, 27, 443, 236, 4, 170, 34, 456, 29, 32, 9, 2, 2356, 749, 14, 15, 13, 388, 619, 59, 5, 99, 1413, 57, 14, 5, 1402, 4, 619, 7, 59, 128, 15, 33, 22, 103, 22, 4, 52, 113, 5, 98, 127, 3, 33, 346, 164, 4, 288, 18, 39, 60, 8, 314, 2, 1392, 749, 14, 15, 207, 15, 22, 5, 99, 55, 26, 1021, 3, 15, 13, 2357, 4, 272, 501, 2, 531, 749, 14, 15, 41, 219, 346, 250, 40, 7, 12, 812, 180, 43, 60, 1208, 53, 455, 575, 21, 110, 7, 14, 30, 135, 385, 15, 22, 146, 2, 295, 377, 153, 25, 927, 3, 1036, 11, 55, 86, 8, 131, 357, 4, 92, 23, 7, 1170, 4, 2, 123, 374, 274, 332, 17, 40, 7, 506, 12, 2358, 2, 62, 9, 4, 2, 693, 512, 17, 95, 3, 2, 693, 49, 59, 47, 77, 2359, 2, 1409, 99, 72, 2360, 177, 2, 152, 33, 14, 298, 3, 75, 2, 60, 33, 22, 107, 121, 20, 2, 123, 7, 22, 1414, 1415, 25, 2, 69, 3, 2, 693, 230, 1416, 38, 3, 36, 141, 24, 7, 181, 2, 379, 8, 2, 377, 49, 121, 4, 2, 312, 305, 2361, 2, 79, 1417, 457, 13, 161, 86, 65, 331, 10, 249, 4, 64, 13, 51, 13, 151, 211, 98, 9, 2, 123, 16, 6, 1032, 17, 252, 2362, 63, 334, 3, 32, 359, 59, 413, 11, 14, 27, 331, 4, 199, 17, 12, 113, 5, 2363, 660, 3, 58, 4, 50, 15, 222, 7, 14, 97, 2, 469, 15, 22, 146, 17, 25, 727, 54, 32, 935, 12, 2, 803, 54, 78, 5, 123, 6, 9, 4, 50, 28, 12, 5, 27, 2364, 116, 330, 10, 185, 53, 120, 469, 12, 73, 803, 18, 21, 220, 411, 27, 67, 2365, 85, 321, 469, 15, 341, 285, 476, 1418, 6, 49, 19, 27, 89, 526, 18, 350, 142, 34, 5, 610, 500, 8, 688, 3, 2366, 15, 341, 45, 2367, 2368, 15, 341, 45, 2369, 2370, 1419, 3, 113, 154, 15, 170, 365, 2371, 1418, 10, 97, 197, 285, 246, 15, 42, 32, 282, 26, 25, 2372, 40, 7, 13, 46, 6, 22, 81, 552, 2, 123, 75, 30, 60, 3, 14, 5, 31, 1332, 54, 6, 149, 17, 102, 281, 4, 17, 593, 186, 343, 40, 219, 73, 151, 3, 15, 341, 13, 1420, 4, 272, 10, 161, 139, 13, 90, 74, 29, 2, 533, 8, 15, 35, 23, 10, 174, 260, 7, 12, 5, 233, 222, 7, 1421, 37, 11, 720, 4, 385, 1422, 1422, 340, 9, 2, 123, 1383, 106, 5, 533, 41, 97, 13, 130, 199, 7, 3, 6, 2373, 50, 38, 2374, 4, 334, 226, 16, 6, 239, 11, 66, 28, 89, 47, 1423, 25, 281, 4, 17, 94, 247, 2, 123, 14, 27, 1331, 3, 1298, 247, 6, 14, 456, 2, 138, 676, 4, 379, 17, 510, 172, 334, 815, 3, 7, 14, 77, 2375, 581, 510, 203, 6, 66, 28, 47, 4, 26, 1351, 25, 6, 2376, 7, 16, 67, 16, 6, 55, 2, 2377, 164, 19, 175, 274, 74, 6, 9, 75, 80, 8, 1423, 38, 2, 404, 5, 31, 824, 25, 9, 2, 123, 3, 2, 533, 8, 15, 2378, 824, 886, 824, 886, 15, 341, 2, 478, 93, 110, 168, 480, 9, 11, 691, 15, 85, 250, 75, 455, 2379, 88, 351, 519, 633, 67, 7, 752, 89, 2, 183, 98, 9, 2, 123, 739, 17, 581, 31, 510, 63, 334, 815, 16, 6, 189, 3, 2, 533, 8, 15, 2380, 725, 8, 2, 966, 3, 2, 774, 144, 195, 725, 8, 1024, 168, 65, 876, 6, 35, 8, 869, 2381, 12, 154, 11, 58, 4, 50, 10, 654, 92, 186, 487, 114, 10, 71, 143, 73, 252, 110, 68, 2382, 2, 123, 9, 109, 5, 1310, 2, 412, 35, 15, 78, 1394, 40, 2, 660, 8, 68, 692, 174, 10, 318, 2, 1424, 33, 159, 1425, 11, 1014, 157, 28, 494, 18, 21, 1036, 4, 53, 2, 1424, 206, 27, 842, 9, 2, 123, 1401, 3, 1037, 276, 1425, 3, 2, 533, 8, 15, 2383, 8, 5, 2384, 2385, 413, 168, 97, 1037, 521, 5, 1209, 11, 384, 138, 16, 631, 9, 2, 123, 29, 5, 1156, 80, 13, 53, 8, 899, 154, 85, 5, 2386, 10, 86, 9, 11, 8, 178, 7, 35, 9, 2, 123, 70, 163, 442, 4, 1426, 4, 373, 15, 11, 9, 182, 5, 133, 1037, 402, 240, 95, 3, 2, 533, 8, 15, 2387, 100, 57, 35, 8, 402, 2, 812, 57, 35, 8, 985, 168, 125, 10, 46, 599, 11, 70, 22, 28, 2388, 4, 30, 135, 385, 85, 5, 2389, 7, 238, 153, 47, 37, 23, 7, 35, 10, 81, 1426, 20, 13, 9, 2, 123, 3, 2, 533, 8, 15, 2390, 29, 13, 48, 435, 4, 2391, 41, 374, 47, 7, 143, 100, 2392, 1427, 370, 28, 4, 26, 800, 180, 29, 7, 159, 1338, 4, 516, 15, 29, 13, 44, 56, 159, 53, 126, 14, 28, 800, 180, 29, 13, 22, 126, 48, 53, 462, 4, 45, 4, 26, 800, 168, 10, 86, 10, 166, 562, 15, 274, 11, 9, 27, 570, 41, 10, 22, 7, 545, 36, 23, 10, 161, 81, 1285, 7, 16, 13, 92, 7, 134, 131, 4, 29, 10, 55, 92, 41, 10, 1273, 2, 123, 157, 12, 5, 526, 116, 978, 71, 541, 370, 4, 92, 7, 120, 858, 180, 15, 9, 11, 125, 71, 272, 40, 541, 9, 2, 123, 10, 170, 13, 5, 1428, 8, 373, 132, 9, 16, 193, 5, 2393, 202, 8, 1428, 58, 11, 78, 331, 32, 71, 316, 2394, 1128, 47, 15, 23, 6, 66, 28, 943, 4, 92, 7, 34, 580, 343, 51, 2, 123, 229, 20, 191, 2395, 8, 17, 581, 31, 510, 132, 5, 138, 4, 86, 9, 11, 722, 24, 6, 14, 279, 4, 424, 5, 31, 2396, 90, 40, 16, 89, 138, 9, 2, 123, 16, 583, 53, 4, 1016, 3, 2, 820, 23, 95, 4, 334, 117, 674, 2, 1038, 102, 2397, 177, 214, 12, 2, 486, 8, 17, 2398, 355, 2399, 168, 3, 2, 252, 15, 14, 2400, 63, 1039, 72, 4, 2401, 11, 105, 38, 3, 57, 517, 2, 62, 12, 1343, 8, 45, 20, 17, 585, 974, 751, 47, 5, 2402, 5, 1397, 150, 68, 325, 2, 123, 72, 12, 5, 244, 1266, 102, 74, 10, 316, 13, 2403, 2404, 414, 2, 62, 1406, 19, 2, 524, 16, 6, 239, 352, 13, 56, 68, 99, 108, 26, 59, 3, 15, 12, 40, 188, 43, 60, 195, 68, 1429, 2, 123, 179, 17, 1429, 3, 14, 298, 12, 5, 152, 634, 93, 19, 20, 2, 312, 2, 62, 9, 4, 11, 3, 11, 14, 171, 89, 509, 4, 92, 5, 355, 23, 427, 439, 17, 121, 4, 2, 397, 524, 2, 119, 1026, 22, 798, 1004, 8, 2, 531, 2405, 3, 44, 1346, 12, 2, 2406, 203, 2, 152, 32, 257, 17, 32, 329, 121, 4, 2, 312, 2, 62, 1275, 945, 15, 5, 1309, 2407, 48, 2408, 45, 88, 799, 21, 2, 60, 32, 44, 1122, 2, 62, 103, 264, 59, 1405, 20, 2, 119, 823, 3, 1407, 59, 20, 39, 99, 56, 59, 20, 17, 99, 363, 2409, 6, 2410, 44, 798, 63, 1430, 75, 2, 386, 70, 8, 178, 22, 4, 396, 59, 210, 822, 4, 52, 30, 25, 15, 75, 2, 216, 8, 188, 77, 1192, 56, 25, 57, 44, 43, 822, 264, 3, 21, 2, 823, 711, 2, 69, 2, 62, 3, 11, 44, 12, 1430, 3, 231, 564, 8, 1398, 42, 2, 62, 264, 59, 81, 34, 8, 760, 3, 9, 4, 11, 53, 13, 256, 2, 79, 83, 193, 43, 9, 11, 10, 71, 214, 46, 29, 5, 79, 83, 35, 85, 2, 98, 79, 83, 220, 35, 146, 128, 9, 2, 62, 10, 103, 257, 37, 56, 149, 8, 37, 9, 11, 107, 19, 42, 9, 2, 62, 3, 33, 174, 139, 13, 39, 511, 16, 32, 359, 59, 413, 11, 149, 2, 69, 92, 12, 5, 244, 102, 4, 2, 2411, 495, 13, 87, 21, 2412, 107, 134, 5, 165, 98, 6, 9, 4, 50, 24, 6, 22, 187, 81, 1224, 18, 2, 643, 8, 1431, 2, 62, 22, 769, 32, 27, 176, 115, 172, 5, 84, 440, 813, 471, 12, 2, 1432, 41, 13, 71, 46, 29, 5, 84, 35, 153, 18, 2, 2413, 38, 2414, 98, 9, 2, 62, 3, 195, 30, 661, 1017, 4, 64, 2, 79, 83, 3, 4, 253, 39, 511, 10, 108, 93, 121, 3, 64, 109, 91, 1431, 10, 53, 769, 3, 6, 359, 59, 2415, 11, 735, 20, 2, 84, 11, 66, 28, 81, 47, 2, 153, 8, 2, 810, 23, 19, 2, 295, 6, 58, 7, 48, 26, 81, 16, 1247, 4, 639, 20, 7, 16, 4, 93, 109, 15, 727, 62, 25, 6, 337, 2, 84, 227, 38, 3, 2416, 76, 158, 42, 7, 1433, 2, 62, 201, 6, 14, 34, 8, 358, 42, 7, 2417, 29, 1012, 9, 2, 84, 188, 4, 254, 188, 4, 11, 29, 35, 2, 1012, 9, 11, 114, 6, 9, 2, 84, 85, 21, 17, 623, 15, 32, 103, 2418, 458, 13, 46, 107, 19, 455, 742, 1142, 19, 168, 95, 58, 11, 16, 6, 49, 427, 109, 7, 10, 103, 14, 25, 769, 40, 12, 21, 73, 314, 103, 32, 22, 28, 298, 292, 127, 32, 257, 2, 79, 83, 12, 2, 502, 349, 932, 3, 1212, 19, 5, 31, 2419, 8, 2420, 3, 16, 32, 115, 645, 11, 55, 253, 111, 933, 16, 41, 39, 1434, 48, 1355, 6, 2421, 111, 719, 29, 35, 39, 1435, 6, 229, 2, 84, 3, 2, 84, 770, 27, 344, 12, 2, 183, 196, 16, 127, 85, 21, 39, 623, 15, 33, 1421, 106, 43, 1435, 13, 46, 107, 19, 25, 32, 49, 38, 4, 2, 79, 83, 70, 105, 18, 45, 20, 133, 158, 578, 8, 339, 23, 9, 131, 30, 95, 661, 1017, 9, 2, 84, 6, 1349, 24, 4, 46, 68, 511, 6, 52, 156, 139, 7, 17, 9, 2, 79, 83, 12, 5, 479, 2422, 116, 452, 36, 276, 8, 13, 3, 71, 267, 5, 355, 201, 132, 310, 25, 32, 227, 36, 3, 458, 239, 24, 91, 338, 11, 58, 4, 50, 10, 71, 64, 65, 33, 130, 192, 657, 41, 33, 238, 288, 23, 6, 337, 1272, 137, 9, 2, 79, 83, 18, 135, 20, 5, 479, 817, 10, 14, 5, 953, 83, 269, 196, 44, 439, 75, 5, 27, 140, 275, 576, 97, 75, 77, 2423, 2424, 8, 2425, 128, 2, 84, 3, 2, 1301, 1436, 1009, 8, 2, 79, 83, 11, 14, 27, 344, 190, 38, 3, 243, 779, 13, 503, 24, 68, 666, 457, 23, 6, 55, 28, 400, 343, 57, 108, 26, 100, 4, 107, 25, 6, 227, 283, 3, 9, 131, 54, 162, 44, 31, 2, 79, 83, 49, 19, 18, 135, 100, 2426, 330, 283, 1009, 5, 31, 74, 3, 42, 162, 49, 4, 600, 12, 2, 270, 2, 777, 14, 77, 211, 2427, 319, 4, 408, 111, 1040, 114, 66, 13, 408, 111, 1040, 41, 33, 346, 37, 11, 229, 162, 251, 111, 1040, 247, 33, 718, 273, 9, 2, 79, 83, 409, 289, 13, 87, 27, 882, 13, 255, 4, 26, 1130, 8, 370, 24, 611, 113, 5, 618, 225, 189, 2, 84, 3, 42, 32, 276, 227, 523, 3, 105, 18, 167, 11, 70, 187, 442, 4, 2428, 63, 2, 704, 18, 135, 2, 84, 9, 4, 2, 79, 83, 1304, 19, 211, 778, 71, 26, 21, 150, 40, 7, 3, 33, 49, 19, 12, 269, 196, 284, 162, 49, 4, 600, 12, 2, 270, 330, 13, 2429, 407, 7, 10, 103, 9, 10, 259, 420, 11, 13, 66, 9, 2, 79, 83, 366, 68, 761, 189, 2, 84, 127, 11, 55, 267, 51, 2, 79, 83, 49, 19, 162, 22, 2, 311, 8, 2430, 438, 162, 49, 4, 600, 309, 150, 132, 126, 4, 5, 150, 600, 171, 9, 11, 13, 1028, 26, 25, 1437, 16, 21, 15, 20, 2431, 229, 2, 79, 83, 5, 31, 265, 284, 9, 11, 162, 2432, 905, 3, 1015, 3, 1164, 9, 2, 79, 83, 262, 28, 9, 11, 797, 633, 42, 985, 346, 5, 289, 165, 600, 9, 2, 79, 83, 12, 5, 116, 8, 117, 1438, 74, 18, 2433, 32, 22, 18, 2, 216, 8, 2, 323, 2434, 1015, 3, 2435, 168, 13, 388, 53, 750, 7, 89, 9, 11, 1373, 18, 2, 818, 8, 2, 270, 10, 388, 2436, 4, 508, 7, 9, 2, 79, 83, 20, 5, 817, 10, 97, 179, 2, 1439, 178, 29, 14, 15, 2437, 11, 2438, 3, 2439, 8, 178, 4, 288, 20, 2, 79, 83, 157, 3, 42, 2, 401, 1295, 8, 2440, 2441, 2442, 3, 2443, 10, 103, 149, 8, 2444, 168, 11, 720, 4, 92, 29, 35, 7, 2, 84, 2445, 38, 276, 76, 741, 12, 674, 29, 103, 149, 8, 2446, 7, 599, 13, 46, 29, 4, 2447, 35, 10, 271, 284, 9, 11, 1290, 7, 2448, 67, 42, 2, 84, 49, 19, 41, 13, 71, 46, 29, 4, 2449, 35, 13, 87, 5, 2450, 11, 66, 28, 424, 2451, 4, 332, 120, 100, 791, 40, 7, 25, 6, 234, 4, 2, 79, 83, 3, 9, 29, 357, 22, 13, 4, 508, 67, 57, 14, 1440, 2, 79, 83, 157, 2452, 59, 2, 2453, 19, 39, 2454, 1440, 2455, 3, 2456, 20, 2457, 42, 2458, 1441, 777, 14, 77, 211, 2459, 1268, 15, 319, 4, 107, 137, 5, 1041, 33, 718, 273, 1441, 1252, 3, 2460, 12, 2461, 29, 14, 15, 47, 9, 11, 67, 10, 161, 908, 7, 13, 499, 2, 79, 83, 9, 78, 171, 2462, 3, 2, 84, 103, 1085, 7, 448, 60, 9, 2, 84, 10, 49, 4, 2, 2463, 777, 330, 33, 14, 77, 211, 941, 33, 14, 10, 103, 49, 4, 111, 2, 79, 83, 9, 20, 5, 817, 33, 718, 1403, 3, 2464, 32, 319, 4, 92, 25, 33, 66, 25, 33, 66, 9, 2, 84, 933, 12, 39, 347, 3, 276, 376, 2465, 88, 686, 12, 88, 741, 3, 65, 306, 806, 5, 150, 66, 13, 52, 353, 9, 11, 12, 5, 335, 4, 268, 2, 567, 554, 806, 2, 94, 150, 9, 2, 79, 83, 627, 2, 148, 3, 25, 19, 29, 5, 209, 785, 599, 11, 134, 2, 412, 300, 251, 353, 2, 84, 384, 247, 32, 2466, 128, 150, 4, 150, 30, 14, 81, 5, 610, 241, 4, 11, 3, 6, 58, 7, 112, 5, 31, 127, 6, 146, 17, 148, 385, 42, 2, 2467, 150, 108, 53, 126, 5, 2468, 8, 178, 7, 14, 9, 2, 79, 83, 3, 65, 66, 13, 483, 19, 2, 2469, 11, 49, 19, 451, 134, 228, 40, 353, 2, 84, 420, 12, 5, 27, 872, 116, 139, 17, 219, 40, 2, 2470, 74, 305, 2471, 2, 534, 825, 2, 79, 83, 659, 719, 3, 671, 2, 121, 8, 37, 2472, 603, 39, 158, 33, 105, 18, 11, 3, 206, 4, 267, 23, 24, 5, 200, 56, 122, 826, 930, 39, 102, 183, 16, 41, 33, 22, 5, 2473, 12, 39, 1211, 9, 2, 84, 3, 7, 266, 4, 441, 980, 111, 3, 2474, 111, 12, 2, 121, 18, 135, 2, 79, 83, 1442, 39, 102, 3, 20, 339, 454, 36, 39, 2475, 33, 49, 19, 51, 13, 299, 28, 53, 1018, 89, 231, 2, 270, 10, 466, 9, 11, 3, 222, 13, 44, 103, 214, 2476, 4, 5, 534, 11, 72, 4, 92, 10, 137, 984, 23, 1023, 50, 237, 3, 9, 43, 103, 25, 13, 130, 53, 43, 241, 29, 5, 1443, 98, 5, 534, 825, 35, 43, 236, 9, 11, 29, 202, 8, 5, 304, 35, 7, 114, 9, 2, 84, 13, 94, 2477, 63, 5, 1320, 550, 2, 270, 744, 122, 2478, 204, 2, 79, 83, 2479, 1444, 2480, 3, 25, 19, 42, 54, 589, 2481, 21, 2, 2482, 470, 34, 8, 2, 80, 15, 495, 1317, 91, 60, 420, 2, 84, 13, 1042, 601, 464, 20, 5, 534, 16, 5, 2483, 204, 2, 84, 8, 178, 2, 79, 83, 9, 1042, 601, 266, 4, 2484, 268, 535, 3, 2485, 12, 183, 994, 406, 2, 84, 42, 13, 46, 2, 79, 83, 49, 19, 13, 910, 2, 2, 535, 414, 2, 84, 20, 5, 2486, 63, 2, 242, 16, 292, 34, 4, 270, 16, 13, 130, 663, 109, 45, 796, 2, 84, 347, 5, 1264, 12, 2, 270, 204, 2, 79, 83, 2487, 1416, 40, 268, 535, 51, 2488, 2, 84, 18, 2, 431, 8, 76, 102, 121, 4, 2489, 51, 3, 134, 21, 2, 94, 1043, 9, 2, 79, 83, 280, 2490, 39, 102, 3, 2, 122, 376, 70, 22, 126, 804, 40, 47, 278, 154, 21, 30, 60, 227, 36, 51, 27, 616, 3, 677, 3, 105, 18, 11, 7, 108, 26, 5, 27, 2491, 304, 9, 11, 415, 48, 13, 47, 4, 64, 5, 31, 8, 7, 9, 2, 79, 83, 27, 89, 236, 9, 11, 107, 634, 318, 2, 94, 1043, 9, 2, 79, 83, 4, 2, 84, 162, 130, 52, 173, 535, 13, 46, 96, 174, 597, 125, 13, 597, 9, 2, 84, 132, 552, 2, 196, 25, 32, 72, 753, 1445, 110, 3, 110, 11, 309, 74, 3, 42, 1446, 19, 17, 1044, 54, 32, 605, 171, 281, 3, 684, 88, 2492, 4, 1045, 2, 60, 181, 2, 79, 83, 1323, 30, 27, 427, 3, 616, 144, 13, 609, 5, 31, 1003, 9, 5, 474, 4, 5, 1046, 182, 5, 827, 281, 287, 273, 3, 1305, 1446, 19, 73, 403, 64, 65, 451, 2, 535, 3, 2, 1444, 21, 1042, 32, 87, 395, 19, 2, 2493, 13, 107, 3, 422, 2, 304, 144, 13, 185, 13, 144, 13, 185, 13, 144, 13, 422, 2, 304, 144, 13, 185, 13, 144, 13, 185, 13, 185, 13, 422, 2, 304, 13, 130, 289, 53, 43, 906, 65, 1443, 7, 144, 26, 54, 32, 195, 273, 38, 3, 910, 273, 20, 2, 535, 34, 4, 270, 23, 2, 1046, 157, 171, 292, 171, 292, 3, 248, 5, 153, 2494, 9, 33, 2495, 2, 474, 1447, 23, 33, 48, 28, 422, 2, 304, 48, 28, 55, 28, 48, 28, 55, 28, 48, 28, 422, 2, 304, 48, 28, 55, 28, 48, 28, 55, 28, 55, 28, 422, 2, 304, 29, 1293, 7, 65, 292, 162, 93, 39, 2496, 1035, 157, 57, 35, 191, 744, 13, 46, 172, 2, 119, 226, 2, 870, 59, 128, 2497, 2, 645, 35, 4, 2498, 42, 347, 28, 743, 2499, 1046, 23, 107, 3, 422, 2, 304, 144, 13, 185, 13, 144, 13, 185, 13, 144, 13, 422, 2, 304, 144, 13, 185, 13, 144, 13, 185, 13, 185, 13, 422, 2, 304, 779, 13, 85, 5, 27, 666, 304, 4, 426, 9, 11, 494, 27, 331, 15, 7, 14, 112, 18, 135, 3, 10, 52, 25, 47, 15, 209, 527, 40, 2, 474, 125, 16, 4, 2, 474, 9, 2, 79, 83, 2500, 256, 45, 8, 178, 284, 9, 11, 132, 680, 256, 45, 18, 1448, 6, 1023, 50, 237, 10, 71, 46, 296, 1448, 299, 26, 9, 2, 79, 83, 23, 41, 589, 256, 45, 25, 680, 8, 178, 13, 46, 29, 300, 47, 10, 407, 25, 11, 157, 794, 32, 53, 88, 1047, 12, 88, 2501, 300, 21, 112, 814, 186, 635, 40, 2, 814, 9, 2, 79, 83, 814, 48, 21, 1367, 59, 12, 2, 270, 23, 32, 53, 88, 1047, 12, 88, 1048, 3, 2, 412, 35, 95, 2, 79, 83, 1274, 3, 617, 39, 158, 139, 17, 40, 2, 412, 3, 21, 15, 33, 9, 4, 2, 84, 2, 412, 35, 9, 2, 84, 15, 32, 48, 93, 20, 2, 535, 4, 2, 304, 25, 32, 106, 2502, 34, 4, 270, 25, 32, 22, 4, 481, 5, 140, 80, 25, 32, 106, 88, 1047, 813, 12, 88, 1048, 25, 32, 388, 104, 45, 34, 51, 134, 21, 779, 13, 9, 11, 85, 27, 666, 10, 103, 246, 25, 89, 40, 5, 474, 127, 10, 130, 139, 13, 100, 180, 15, 41, 13, 47, 9, 2, 84, 52, 13, 46, 114, 85, 251, 5, 474, 10, 103, 58, 40, 7, 9, 11, 114, 7, 411, 2, 726, 3, 498, 2, 84, 157, 27, 753, 11, 14, 1324, 417, 411, 2, 726, 3, 498, 6, 383, 12, 5, 487, 116, 114, 29, 87, 68, 498, 250, 20, 9, 2, 84, 10, 380, 29, 341, 45, 25, 2503, 11, 105, 36, 18, 45, 3, 991, 5, 31, 127, 6, 248, 17, 389, 300, 250, 20, 2504, 10, 407, 726, 3, 498, 231, 2, 270, 2, 84, 49, 19, 12, 5, 479, 102, 87, 250, 20, 5, 474, 74, 13, 46, 3, 29, 87, 32, 146, 8, 11, 229, 12, 5, 116, 8, 117, 604, 2505, 3, 2506, 8, 178, 2, 84, 157, 175, 658, 120, 2507, 55, 53, 592, 13, 15, 41, 345, 126, 2, 474, 9, 11, 1179, 1449, 44, 283, 454, 19, 2, 527, 345, 53, 9, 4, 2, 827, 2508, 121, 208, 162, 71, 399, 13, 20, 273, 168, 32, 44, 1049, 4, 53, 111, 20, 45, 2, 79, 83, 9, 43, 1107, 470, 48, 93, 2509, 173, 5, 827, 282, 7, 289, 9, 11, 12, 5, 116, 8, 117, 674, 8, 178, 28, 9, 2, 79, 83, 114, 41, 5, 470, 115, 4, 61, 3, 592, 61, 33, 14, 164, 5, 2510, 10, 166, 92, 2511, 29, 827, 168, 71, 13, 380, 2512, 9, 11, 10, 380, 29, 10, 92, 2, 79, 83, 157, 12, 77, 375, 116, 3, 2, 84, 189, 107, 634, 253, 91, 8, 68, 694, 10, 55, 139, 13, 73, 2513, 128, 30, 632, 9, 11, 5, 31, 415, 23, 85, 43, 212, 164, 121, 4, 891, 247, 10, 14, 5, 401, 724, 42, 378, 21, 15, 9, 2, 79, 83, 43, 43, 2, 694, 94, 9, 2, 84, 12, 77, 2514, 116, 2515, 195, 113, 5, 1302, 60, 25, 11, 72, 1292, 45, 17, 694, 128, 2, 60, 54, 6, 94, 257, 2, 147, 101, 6, 14, 5, 31, 621, 40, 7, 90, 18, 94, 2, 122, 376, 106, 25, 281, 4, 17, 37, 19, 464, 226, 3, 362, 88, 158, 3, 1048, 25, 27, 1352, 23, 6, 2516, 1000, 16, 6, 49, 19, 17, 2517, 44, 789, 1161, 201, 6, 106, 4, 2, 1450, 40, 17, 998, 13, 87, 211, 586, 563, 4, 2, 169, 3, 2, 196, 21, 429, 401, 3, 42, 2, 79, 83, 671, 5, 140, 760, 3, 9, 134, 27, 209, 85, 21, 40, 16, 209, 16, 7, 130, 26, 9, 2, 84, 7, 21, 115, 401, 2, 79, 83, 383, 794, 10, 166, 47, 4, 253, 17, 318, 3, 507, 219, 74, 139, 17, 4, 288, 33, 105, 18, 2, 84, 16, 41, 33, 58, 7, 22, 91, 500, 8, 1177, 112, 11, 587, 38, 3, 507, 2518, 2, 102, 8, 2, 2519, 168, 9, 2, 84, 65, 2, 376, 994, 37, 40, 3, 170, 37, 507, 353, 58, 11, 10, 159, 16, 67, 26, 18, 600, 18, 137, 203, 6, 106, 38, 3, 72, 4, 507, 7, 23, 17, 99, 14, 25, 578, 8, 2, 534, 825, 15, 6, 313, 246, 29, 6, 14, 243, 3, 2, 196, 115, 27, 317, 236, 824, 2, 102, 8, 2, 534, 10, 149, 111, 1145, 13, 53, 2520, 61, 171, 1167, 10, 108, 1419, 73, 504, 16, 5, 746, 20, 76, 2521, 25, 33, 20, 39, 468, 2522, 39, 2523, 3, 39, 2524, 3, 1033, 34, 39, 1044, 868, 1451, 406, 16, 1050, 54, 2, 2525, 87, 21, 436, 33, 35, 2526, 16, 5, 2527, 3, 144, 272, 12, 2528, 1452, 8, 2, 2529, 23, 54, 2, 2530, 2531, 3, 2532, 87, 1051, 39, 102, 514, 5, 890, 3, 2533, 706, 134, 401, 128, 29, 10, 319, 4, 92, 54, 10, 14, 5, 340, 9, 2, 84, 67, 10, 103, 149, 7, 127, 9, 2, 79, 83, 23, 7, 774, 2534, 501, 11, 9, 131, 6, 22, 227, 36, 20, 17, 263, 12, 17, 320, 487, 41, 207, 48, 192, 428, 12, 5, 698, 80, 51, 10, 166, 47, 4, 53, 7, 2535, 9, 2, 79, 83, 6, 161, 378, 7, 9, 2, 84, 237, 93, 19, 20, 2, 148, 809, 23, 40, 39, 1044, 2, 79, 83, 1453, 65, 55, 33, 347, 45, 34, 20, 39, 468, 13, 46, 85, 2, 94, 1196, 12, 1445, 11, 9, 23, 14, 595, 417, 75, 2, 295, 98, 3, 1099, 4, 268, 2, 567, 93, 19, 20, 2, 148, 809, 2, 84, 383, 658, 7, 819, 528, 605, 75, 39, 245, 168, 11, 66, 28, 654, 4, 2536, 330, 6, 187, 184, 7, 48, 21, 107, 635, 3, 6, 49, 19, 12, 5, 566, 102, 10, 605, 75, 39, 245, 3, 551, 20, 37, 496, 65, 2, 1052, 3, 2, 1053, 44, 2537, 5, 1054, 868, 1451, 406, 16, 1050, 2, 1053, 179, 1054, 2538, 3, 2539, 3, 2540, 181, 2, 1052, 22, 2, 801, 16, 76, 2541, 8, 2, 2542, 54, 2, 1054, 14, 21, 310, 2, 1052, 16, 5, 2543, 14, 1447, 2544, 4, 477, 2, 1363, 181, 2, 1053, 2545, 866, 3, 2546, 20, 5, 1002, 3, 1230, 2, 2547, 29, 35, 2, 212, 8, 998, 21, 15, 792, 2, 79, 83, 420, 41, 13, 71, 378, 7, 16, 13, 93, 19, 85, 75, 292, 2, 467, 975, 98, 10, 192, 149, 284, 10, 86, 374, 274, 396, 59, 9, 2, 84, 3, 11, 14, 97, 171, 331, 4, 52, 25, 174, 162, 318, 191, 1043, 8, 2, 534, 825, 2, 84, 49, 19, 56, 48, 13, 47, 2, 79, 83, 4, 597, 13, 5, 527, 125, 5, 527, 208, 41, 2, 79, 83, 48, 26, 25, 500, 11, 157, 25, 451, 15, 2, 84, 9, 12, 5, 175, 375, 116, 2548, 43, 2549, 24, 2550, 597, 17, 2551, 220, 168, 144, 13, 211, 778, 2, 79, 83, 659, 719, 3, 72, 12, 5, 102, 613, 930, 20, 826, 4, 597, 30, 277, 220, 25, 2552, 3, 795, 395, 12, 5, 476, 2553, 70, 24, 113, 2554, 48, 28, 1222, 220, 8, 2, 1454, 277, 220, 220, 8, 2, 1454, 277, 220, 828, 536, 828, 536, 536, 8, 2, 1055, 277, 277, 220, 277, 220, 70, 1455, 24, 470, 312, 56, 120, 119, 801, 70, 48, 28, 316, 21, 357, 24, 122, 2555, 2556, 97, 8, 277, 220, 2557, 97, 8, 277, 220, 828, 536, 828, 536, 536, 8, 2, 1055, 277, 277, 220, 573, 51, 204, 2, 84, 3, 2, 79, 83, 22, 90, 484, 4, 507, 7, 54, 5, 887, 8, 2, 1056, 279, 14, 149, 12, 2, 502, 107, 19, 204, 2, 84, 3, 669, 11, 75, 2, 198, 7, 329, 59, 173, 395, 24, 2, 216, 8, 2, 527, 29, 515, 35, 7, 11, 2558, 16, 6, 230, 23, 2, 84, 97, 770, 107, 19, 3, 230, 2, 1003, 181, 100, 3, 100, 2559, 115, 805, 19, 2, 2560, 15, 439, 45, 2, 571, 196, 536, 8, 2, 1055, 277, 277, 220, 305, 2561, 70, 1456, 2, 537, 2, 69, 3, 62, 8, 472, 44, 2562, 19, 88, 2563, 54, 32, 2564, 20, 5, 117, 783, 1173, 40, 2565, 892, 8, 31, 405, 3, 1109, 16, 67, 16, 2, 295, 689, 8, 1027, 2, 421, 14, 2566, 127, 45, 12, 2567, 20, 5, 2568, 19, 464, 226, 4, 2569, 111, 3, 240, 2, 69, 14, 2, 147, 101, 20, 5, 1057, 12, 37, 198, 3, 5, 1457, 8, 1458, 12, 2, 119, 12, 2, 27, 486, 8, 2, 221, 14, 5, 218, 20, 5, 133, 801, 8, 537, 172, 7, 32, 105, 25, 165, 15, 7, 146, 11, 81, 970, 4, 153, 18, 45, 10, 197, 767, 104, 2, 515, 250, 6, 58, 3, 198, 110, 2, 2570, 23, 57, 163, 4, 26, 43, 768, 8, 30, 25, 6, 72, 141, 18, 373, 40, 17, 4, 2571, 177, 2, 60, 11, 22, 103, 126, 12, 5, 221, 8, 2572, 127, 23, 6, 22, 336, 40, 45, 12, 1226, 3, 6, 14, 81, 526, 4, 199, 15, 6, 246, 2, 356, 8, 344, 373, 57, 134, 2, 759, 6, 9, 4, 50, 247, 8, 39, 117, 1459, 2, 759, 75, 2, 80, 14, 2, 69, 3, 16, 33, 2573, 39, 919, 112, 2, 1459, 153, 18, 2, 2574, 41, 13, 399, 4, 64, 65, 33, 66, 7, 33, 66, 28, 153, 18, 21, 2575, 3, 7, 14, 262, 28, 2576, 3, 134, 2, 194, 367, 58, 11, 3, 363, 733, 376, 6, 14, 1049, 4, 92, 376, 13, 64, 247, 91, 8, 45, 44, 745, 3, 91, 44, 405, 10, 271, 32, 87, 2, 829, 6, 9, 30, 135, 355, 122, 56, 160, 559, 112, 4, 50, 210, 175, 1437, 8, 7, 24, 6, 58, 3, 2577, 171, 15, 27, 394, 31, 983, 8, 17, 729, 246, 2, 453, 8, 7, 18, 21, 203, 194, 2578, 48, 53, 250, 90, 16, 67, 2, 733, 829, 44, 21, 596, 27, 807, 19, 538, 29, 87, 32, 664, 11, 691, 4, 2, 84, 32, 161, 53, 207, 4, 143, 36, 193, 127, 2, 1056, 484, 300, 899, 36, 88, 1371, 2, 84, 691, 12, 656, 24, 700, 32, 166, 1420, 45, 127, 2, 216, 8, 2, 515, 540, 154, 11, 72, 12, 5, 580, 2579, 102, 23, 6, 958, 237, 24, 2, 147, 101, 204, 34, 275, 12, 2, 221, 3, 2, 69, 143, 19, 39, 1058, 3, 105, 265, 110, 4, 170, 34, 70, 14, 223, 11, 55, 64, 16, 67, 16, 41, 6, 44, 141, 112, 88, 716, 15, 21, 2, 829, 44, 596, 36, 540, 154, 19, 88, 538, 3, 6, 55, 214, 170, 34, 15, 37, 8, 45, 259, 46, 65, 4, 2580, 540, 3, 15, 33, 22, 4, 332, 39, 2581, 4, 139, 111, 5, 544, 2582, 88, 2583, 26, 12, 127, 2, 1056, 112, 58, 11, 37, 8, 2, 829, 22, 5, 1460, 15, 2584, 30, 8, 178, 11, 55, 28, 587, 3, 6, 49, 110, 2, 221, 3, 106, 287, 111, 3, 27, 176, 142, 77, 433, 8, 669, 7, 177, 6, 66, 7, 25, 1461, 15, 2, 167, 31, 2585, 7, 14, 323, 2, 675, 55, 28, 170, 34, 18, 21, 29, 22, 667, 8, 7, 25, 109, 949, 21, 40, 24, 7, 33, 14, 1049, 4, 579, 20, 37, 620, 24, 2, 379, 8, 2, 150, 3, 30, 14, 8, 27, 31, 212, 16, 7, 264, 43, 1045, 19, 2, 1059, 2586, 336, 2, 2587, 9, 2, 69, 19, 30, 2, 147, 101, 1462, 160, 1463, 19, 2, 1057, 3, 42, 1404, 2, 1458, 1457, 3, 336, 16, 1050, 2, 62, 8, 472, 6, 146, 91, 537, 21, 19, 5, 1464, 150, 2, 421, 8, 472, 33, 1456, 363, 537, 3, 179, 45, 81, 177, 821, 68, 1060, 2, 69, 9, 4, 2, 194, 28, 193, 28, 193, 2, 101, 237, 420, 182, 5, 117, 315, 4, 107, 127, 15, 408, 2, 94, 387, 9, 2, 69, 3, 2, 147, 101, 1462, 160, 1463, 19, 2, 1057, 3, 251, 34, 94, 387, 2, 94, 387, 14, 2, 82, 33, 115, 12, 20, 5, 1061, 12, 37, 198, 3, 5, 574, 8, 529, 3, 419, 12, 2, 119, 10, 449, 565, 68, 325, 33, 72, 24, 989, 269, 12, 23, 10, 448, 81, 310, 73, 217, 54, 10, 14, 1465, 24, 13, 255, 4, 53, 310, 9, 2, 69, 54, 66, 13, 288, 2, 82, 105, 18, 2, 136, 145, 70, 22, 439, 111, 63, 2, 221, 252, 12, 252, 20, 2, 124, 2588, 8, 136, 10, 86, 7, 14, 33, 9, 2589, 9, 2, 136, 145, 2590, 189, 2, 124, 579, 15, 36, 2, 69, 9, 4, 2, 194, 3, 2, 194, 451, 1062, 36, 21, 160, 2591, 19, 88, 538, 3, 42, 189, 45, 38, 3, 2592, 2, 389, 4, 2593, 3, 2594, 195, 59, 68, 2595, 2, 69, 9, 4, 2, 82, 7, 521, 402, 9, 2, 82, 2596, 2, 69, 599, 322, 4, 2, 194, 70, 673, 146, 5, 2597, 8, 2, 438, 10, 381, 45, 4, 1265, 2, 82, 189, 16, 77, 1333, 132, 790, 8, 73, 351, 78, 5, 82, 95, 2, 62, 143, 19, 17, 1058, 3, 72, 995, 18, 2, 82, 70, 234, 743, 3, 2598, 316, 68, 539, 9, 2, 69, 3, 71, 26, 621, 56, 156, 53, 13, 575, 19, 2, 2599, 30, 66, 28, 435, 4, 2600, 2, 387, 18, 21, 33, 293, 2601, 128, 37, 369, 4, 2, 119, 141, 1357, 18, 2, 62, 3, 12, 39, 655, 33, 233, 5, 133, 574, 34, 8, 39, 1061, 1010, 8, 2, 529, 3, 419, 90, 18, 30, 152, 11, 187, 5, 27, 209, 1210, 96, 417, 17, 5, 165, 315, 628, 6, 146, 34, 29, 7, 14, 6, 14, 279, 4, 291, 490, 51, 3, 6, 58, 18, 94, 6, 48, 104, 38, 3, 396, 2, 221, 23, 19, 714, 1449, 6, 872, 4, 2602, 296, 6, 14, 16, 140, 16, 57, 14, 297, 24, 17, 10, 197, 13, 282, 2603, 25, 9, 2, 124, 70, 14, 349, 148, 4, 17, 10, 130, 313, 1354, 10, 161, 400, 7, 9, 11, 27, 1358, 78, 342, 589, 43, 138, 4, 291, 95, 9, 2, 124, 71, 272, 501, 9, 11, 100, 2604, 13, 46, 186, 342, 171, 284, 23, 10, 291, 18, 5, 2605, 2606, 9, 2, 124, 28, 12, 15, 2607, 1466, 3, 33, 106, 38, 27, 1376, 3, 895, 112, 4, 2, 119, 226, 8, 2, 221, 21, 30, 60, 2, 62, 22, 103, 264, 59, 995, 18, 2, 82, 3, 90, 16, 2, 124, 895, 2, 221, 6, 9, 4, 37, 8, 2, 830, 8, 2, 221, 875, 61, 2, 1063, 8, 2, 1467, 12, 2, 135, 1364, 19, 96, 2, 1271, 82, 1227, 25, 15, 33, 410, 276, 39, 498, 59, 316, 68, 539, 2, 69, 383, 409, 56, 156, 53, 13, 575, 328, 186, 621, 56, 28, 78, 5, 167, 679, 68, 325, 2, 82, 72, 12, 5, 566, 102, 3, 10, 448, 484, 73, 2608, 965, 5, 1041, 56, 2609, 29, 20, 2, 529, 3, 419, 190, 25, 2610, 2, 816, 8, 2, 217, 2, 816, 8, 2, 29, 9, 2, 69, 7, 72, 20, 2, 217, 2, 82, 157, 8, 178, 816, 819, 20, 5, 2611, 9, 2, 69, 722, 52, 13, 195, 61, 24, 5, 2612, 93, 19, 78, 5, 167, 679, 2, 82, 49, 19, 3, 467, 154, 2613, 109, 2614, 2, 136, 145, 9, 10, 259, 2, 136, 145, 420, 12, 5, 117, 335, 13, 66, 9, 2, 82, 10, 1468, 7, 9, 2, 136, 145, 33, 2615, 7, 9, 2, 69, 396, 34, 15, 1450, 67, 18, 120, 393, 2, 124, 9, 2, 82, 49, 19, 141, 265, 110, 4, 64, 41, 33, 48, 1468, 7, 171, 23, 2, 124, 1334, 131, 210, 813, 471, 109, 15, 406, 2, 82, 10, 619, 91, 100, 529, 3, 419, 23, 29, 66, 2, 124, 92, 37, 8, 2, 194, 229, 15, 10, 161, 260, 9, 2, 82, 13, 108, 260, 384, 2, 69, 56, 156, 53, 13, 575, 2, 1469, 82, 630, 39, 1061, 3, 529, 3, 419, 3, 49, 36, 19, 37, 690, 78, 5, 167, 679, 68, 325, 33, 72, 186, 5, 27, 167, 2616, 9, 2, 69, 95, 37, 8, 2, 582, 583, 926, 3, 14, 973, 831, 75, 2, 830, 8, 2, 221, 16, 15, 35, 175, 5, 443, 355, 10, 144, 90, 378, 4, 13, 65, 7, 14, 250, 32, 22, 5, 133, 2617, 2618, 96, 2619, 38, 18, 2, 382, 20, 2620, 63, 30, 32, 903, 2, 582, 348, 99, 94, 3, 42, 227, 172, 7, 78, 331, 132, 256, 15, 250, 58, 11, 132, 25, 680, 336, 12, 2, 2621, 18, 2, 216, 8, 2622, 57, 14, 91, 2623, 18, 2624, 96, 14, 973, 831, 75, 2, 830, 8, 2, 221, 3, 10, 103, 2625, 29, 7, 683, 201, 74, 41, 134, 21, 13, 46, 40, 7, 13, 299, 587, 36, 406, 2, 69, 10, 161, 93, 43, 2626, 9, 2, 82, 78, 19, 2, 954, 16, 7, 35, 42, 13, 299, 452, 36, 2, 69, 157, 95, 2, 119, 582, 348, 926, 3, 14, 831, 107, 15, 310, 2, 582, 583, 58, 11, 74, 162, 174, 104, 19, 274, 345, 175, 657, 73, 217, 9, 2, 82, 20, 77, 1036, 153, 18, 2, 62, 70, 14, 835, 2, 1063, 8, 1467, 13, 299, 93, 9, 2, 69, 3, 2, 82, 1187, 264, 2, 221, 173, 214, 395, 4, 143, 39, 498, 19, 3, 90, 195, 39, 99, 59, 771, 2, 62, 189, 4, 37, 8, 2, 830, 23, 2, 82, 14, 34, 8, 358, 127, 2, 2627, 55, 104, 4, 2, 155, 408, 2, 148, 387, 9, 2, 69, 2, 148, 387, 14, 2, 1038, 303, 6, 805, 2, 469, 367, 12, 17, 198, 3, 11, 948, 70, 7, 14, 214, 127, 6, 106, 63, 2, 221, 75, 2, 80, 2, 285, 240, 2, 155, 72, 590, 21, 18, 137, 316, 68, 539, 9, 2, 69, 556, 9, 2, 303, 2, 69, 105, 265, 18, 2, 147, 101, 70, 9, 12, 5, 244, 102, 68, 325, 108, 915, 1470, 30, 387, 67, 41, 10, 108, 10, 108, 2, 69, 9, 20, 5, 571, 242, 3, 109, 2628, 39, 585, 3, 751, 18, 2, 303, 201, 39, 158, 44, 344, 34, 8, 358, 33, 9, 12, 5, 479, 102, 29, 87, 537, 146, 8, 469, 1391, 9, 2, 303, 530, 9, 5, 602, 102, 287, 17, 2629, 15, 124, 2, 62, 2630, 34, 2631, 15, 124, 347, 15, 124, 34, 8, 221, 2632, 111, 1365, 111, 59, 20, 39, 857, 24, 91, 338, 2, 295, 221, 14, 12, 655, 190, 2, 124, 234, 34, 3, 75, 2, 60, 32, 22, 986, 36, 51, 2, 303, 22, 1415, 103, 327, 9, 2, 69, 20, 77, 242, 8, 117, 1438, 408, 2, 148, 387, 3, 33, 189, 12, 77, 1471, 4, 2, 62, 289, 73, 151, 13, 108, 915, 1470, 2, 148, 387, 7, 81, 341, 73, 1195, 2633, 11, 1433, 2, 147, 101, 16, 33, 2634, 112, 2, 1063, 494, 27, 209, 4, 64, 29, 2, 148, 387, 48, 26, 47, 24, 32, 466, 106, 89, 539, 193, 6, 9, 4, 50, 1427, 17, 674, 54, 2, 147, 101, 336, 34, 18, 2, 431, 8, 39, 647, 31, 102, 2, 356, 11, 305, 2635, 334, 539, 95, 204, 11, 81, 959, 12, 2, 2636, 8, 2, 152, 65, 133, 6, 22, 518, 12, 2, 135, 394, 338, 3, 6, 547, 38, 12, 113, 5, 335, 15, 6, 2637, 112, 2, 194, 367, 20, 2, 972, 8, 17, 2638, 2639, 21, 2, 832, 19, 4, 2, 354, 8, 2, 783, 963, 3, 57, 32, 782, 2640, 40, 2641, 17, 27, 89, 8, 5, 2642, 8, 1472, 6, 22, 2643, 1019, 2, 1041, 127, 125, 10, 449, 68, 565, 6, 599, 12, 5, 116, 8, 117, 2644, 3, 72, 1068, 45, 38, 51, 16, 1461, 16, 6, 55, 24, 2, 1473, 8, 2, 1472, 293, 454, 12, 17, 99, 3, 6, 22, 5, 2645, 202, 8, 241, 15, 32, 108, 26, 1412, 18, 137, 3, 143, 121, 63, 2, 194, 367, 56, 32, 48, 2646, 2, 515, 2647, 1184, 9, 2, 69, 12, 5, 27, 927, 102, 628, 21, 2, 832, 87, 121, 12, 88, 1008, 2648, 33, 383, 20, 117, 2649, 141, 443, 18, 11, 16, 33, 9, 25, 11, 105, 18, 2, 194, 367, 3, 257, 15, 12, 17, 2650, 6, 22, 143, 2, 675, 12, 99, 2651, 3, 2, 167, 31, 98, 14, 684, 76, 403, 40, 12, 5, 571, 80, 210, 81, 2652, 4, 920, 6, 176, 106, 7, 34, 51, 3, 143, 7, 138, 28, 15, 7, 2653, 89, 6, 9, 4, 50, 10, 166, 86, 7, 48, 26, 81, 16, 89, 212, 12, 2, 515, 37, 80, 38, 16, 2, 119, 16, 176, 16, 2, 194, 22, 5, 31, 1442, 128, 2, 2654, 8, 210, 1019, 3, 88, 538, 3, 2655, 22, 126, 142, 3, 923, 121, 4, 45, 32, 266, 4, 441, 27, 2656, 4, 579, 34, 5, 511, 8, 2, 1473, 21, 711, 2, 675, 70, 163, 171, 89, 2657, 4, 52, 207, 23, 452, 20, 76, 382, 489, 2658, 38, 63, 2, 548, 8, 2, 221, 29, 52, 13, 46, 40, 30, 519, 2, 69, 9, 4, 11, 131, 9, 11, 131, 957, 1453, 2, 69, 131, 957, 9, 11, 134, 27, 650, 2, 69, 9, 322, 4, 2, 194, 32, 44, 90, 279, 4, 579, 30, 36, 19, 88, 538, 54, 2, 147, 101, 420, 1064, 68, 325, 752, 8, 178, 33, 9, 12, 5, 27, 2659, 116, 23, 751, 3, 425, 686, 18, 111, 16, 33, 239, 1064, 8, 178, 10, 683, 2, 69, 237, 9, 3, 49, 19, 4, 558, 12, 77, 1471, 2660, 16, 41, 33, 44, 261, 96, 355, 636, 311, 91, 8, 2, 194, 1062, 7, 36, 650, 3, 91, 1064, 11, 55, 64, 30, 16, 6, 14, 240, 228, 4, 153, 112, 88, 538, 23, 7, 238, 390, 5, 233, 6, 58, 4, 50, 18, 30, 152, 2, 69, 70, 22, 126, 24, 91, 60, 807, 596, 12, 39, 1474, 326, 2661, 34, 275, 3, 336, 34, 128, 39, 326, 688, 2662, 122, 21, 2663, 100, 180, 5, 1475, 235, 4, 396, 2, 221, 455, 105, 18, 11, 78, 28, 5, 1475, 235, 9, 11, 13, 87, 9, 2, 69, 344, 122, 843, 235, 189, 2, 62, 67, 10, 556, 93, 18, 120, 393, 9, 11, 731, 134, 28, 5, 1439, 688, 13, 2664, 7, 90, 74, 85, 2, 2665, 688, 12, 2, 326, 9, 2, 69, 42, 7, 255, 4, 26, 643, 37, 9, 11, 2, 69, 234, 743, 3, 617, 39, 1474, 326, 237, 821, 68, 1060, 33, 9, 4, 2, 194, 12, 5, 244, 566, 102, 182, 100, 539, 4, 107, 193, 208, 68, 325, 9, 2, 147, 101, 804, 38, 12, 5, 117, 335, 30, 717, 514, 90, 126, 971, 38, 652, 12, 7, 9, 2, 62, 10, 466, 362, 7, 193, 9, 2, 147, 101, 23, 7, 638, 4, 26, 5, 993, 545, 75, 2, 2666, 2667, 480, 7, 108, 53, 126, 15, 9, 2, 69, 1413, 7, 14, 545, 4, 458, 96, 521, 631, 13, 46, 70, 35, 7, 1476, 4, 9, 37, 8, 2, 832, 7, 521, 1476, 18, 21, 9, 2, 147, 101, 12, 438, 182, 131, 545, 19, 2, 771, 33, 1262, 2, 717, 16, 33, 239, 3, 189, 7, 521, 5, 993, 109, 21, 85, 5, 266, 8, 833, 87, 32, 12, 2, 2668, 2669, 229, 191, 8, 2, 832, 43, 300, 28, 9, 2, 147, 101, 3, 134, 2, 2670, 98, 40, 7, 2, 194, 21, 105, 417, 33, 108, 53, 2671, 480, 2672, 198, 9, 2, 69, 2, 194, 21, 1118, 38, 51, 208, 68, 325, 9, 2, 421, 10, 259, 579, 7, 3, 32, 161, 2673, 10, 66, 182, 43, 356, 1477, 18, 2, 216, 41, 13, 259, 2674, 7, 9, 2, 69, 15, 97, 341, 2, 390, 902, 13, 108, 53, 683, 91, 2675, 56, 357, 374, 53, 1477, 68, 356, 47, 77, 2676, 679, 57, 14, 5, 904, 2677, 8, 320, 18, 30, 7, 14, 2, 94, 289, 1269, 98, 2, 69, 22, 9, 15, 150, 15, 1478, 39, 2678, 9, 2, 62, 7, 1478, 131, 8, 2, 202, 9, 11, 114, 13, 71, 214, 46, 29, 300, 40, 336, 45, 9, 2, 69, 2, 147, 101, 143, 19, 39, 1058, 296, 174, 10, 288, 208, 68, 325, 33, 229, 288, 18, 2, 279, 2, 69, 9, 924, 3, 93, 19, 201, 13, 107, 4, 2, 216, 42, 557, 269, 44, 2, 833, 2, 147, 101, 336, 32, 592, 61, 13, 22, 126, 4, 17, 3, 947, 61, 4, 111, 6, 248, 61, 5, 165, 2679, 23, 9, 10, 55, 28, 663, 33, 1465, 45, 355, 10, 22, 28, 298, 162, 46, 7, 4, 26, 842, 41, 6, 166, 2680, 2, 390, 19, 29, 48, 667, 8, 13, 10, 248, 17, 37, 32, 248, 111, 122, 13, 248, 273, 160, 56, 100, 32, 21, 1479, 128, 111, 4, 13, 330, 32, 44, 402, 127, 41, 10, 56, 6, 166, 768, 4, 26, 2681, 12, 30, 2682, 33, 2683, 4, 13, 4, 266, 45, 979, 456, 16, 162, 44, 73, 906, 14, 15, 13, 22, 126, 127, 6, 22, 30, 1480, 77, 2684, 15, 115, 591, 111, 3, 2685, 3, 7, 71, 232, 111, 46, 6, 572, 45, 311, 24, 30, 108, 192, 26, 5, 2686, 293, 128, 21, 2, 379, 591, 370, 3, 61, 134, 2, 467, 650, 574, 8, 539, 1366, 149, 193, 9, 2, 69, 1379, 39, 320, 25, 74, 232, 2, 194, 41, 120, 37, 8, 45, 130, 378, 7, 9, 11, 6, 22, 518, 25, 133, 12, 2, 135, 394, 338, 15, 6, 346, 5, 233, 308, 8, 1378, 111, 156, 316, 111, 2687, 10, 71, 407, 182, 77, 1481, 8, 453, 12, 7, 2, 194, 21, 1062, 36, 19, 88, 538, 6, 238, 407, 182, 77, 1481, 8, 453, 12, 7, 23, 790, 8, 45, 2688, 4, 378, 2, 717, 41, 182, 43, 453, 12, 7, 9, 2, 69, 15, 2689, 5, 478, 8, 541, 13, 46, 16, 162, 1028, 318, 4, 199, 120, 3, 193, 10, 71, 46, 33, 49, 19, 2690, 34, 2, 833, 19, 39, 690, 3, 141, 18, 45, 20, 37, 496, 10, 435, 4, 64, 91, 453, 12, 45, 109, 21, 9, 10, 55, 28, 663, 13, 161, 663, 130, 13, 33, 189, 322, 4, 2, 421, 2, 421, 410, 39, 99, 616, 52, 10, 153, 47, 7, 33, 9, 96, 33, 262, 66, 28, 210, 146, 1414, 8, 2691, 21, 138, 25, 292, 9, 2, 69, 3, 33, 49, 19, 889, 112, 2, 833, 4, 558, 2692, 46, 7, 4, 26, 2693, 134, 2, 194, 8, 2694, 248, 17, 37, 32, 248, 111, 2695, 114, 15, 108, 26, 29, 33, 66, 20, 2, 537, 13, 46, 23, 7, 505, 19, 2696, 21, 1479, 128, 111, 4, 13, 168, 9, 11, 114, 57, 32, 87, 9, 2, 69, 1374, 754, 4, 2, 537, 19, 2, 218, 131, 130, 26, 2697, 180, 15, 42, 2698, 6, 22, 30, 2699, 13, 103, 22, 2700, 73, 151, 10, 86, 33, 9, 4, 2, 62, 103, 9, 2, 62, 2701, 1313, 77, 2702, 18, 2, 675, 16, 6, 239, 2, 1029, 31, 323, 22, 264, 59, 596, 19, 39, 1059, 20, 37, 620, 16, 33, 142, 7, 146, 43, 1045, 23, 33, 74, 237, 72, 51, 1344, 2, 2703, 15, 14, 2704, 36, 39, 263, 16, 140, 16, 7, 1267, 42, 2, 196, 71, 1480, 13, 9, 2, 69, 141, 110, 2, 221, 20, 5, 1190, 57, 14, 5, 780, 275, 85, 5, 2705, 2, 69, 189, 12, 77, 375, 116, 3, 455, 1297, 232, 2, 194, 821, 88, 1060, 2, 69, 9, 24, 40, 2, 2706, 60, 15, 150, 43, 43, 9, 2, 62, 564, 2707, 1070, 792, 3, 501, 9, 11, 992, 2, 241, 8, 350, 2, 564, 94, 366, 68, 761, 9, 2, 62, 322, 2708, 10, 185, 9, 11, 59, 20, 17, 99, 2, 62, 414, 18, 2, 431, 8, 17, 102, 458, 662, 70, 1455, 24, 13, 9, 11, 6, 22, 518, 4, 17, 578, 290, 75, 30, 60, 186, 131, 23, 5, 689, 8, 1027, 18, 30, 2, 295, 689, 685, 38, 63, 2, 242, 3, 115, 2709, 36, 172, 17, 6, 248, 5, 31, 1400, 188, 8, 1159, 3, 188, 8, 1261, 3, 206, 4, 808, 45, 59, 3, 142, 50, 440, 19, 2, 1065, 20, 17, 99, 12, 2, 1137, 8, 17, 423, 70, 14, 898, 2710, 177, 91, 780, 546, 15, 22, 2711, 36, 128, 2, 520, 172, 17, 263, 1369, 38, 11, 151, 9, 17, 423, 114, 29, 5, 140, 682, 589, 22, 125, 132, 22, 113, 5, 209, 485, 9, 11, 3, 6, 592, 17, 423, 16, 67, 16, 6, 55, 260, 45, 21, 269, 637, 694, 8, 1039, 15, 13, 53, 90, 126, 835, 40, 3, 54, 6, 22, 310, 17, 423, 2712, 17, 3, 9, 7, 14, 5, 209, 485, 151, 262, 23, 74, 766, 12, 4, 68, 217, 85, 190, 542, 25, 11, 106, 38, 3, 230, 59, 343, 181, 6, 230, 16, 67, 6, 159, 29, 5, 1482, 485, 7, 22, 126, 23, 17, 423, 227, 283, 90, 16, 6, 264, 17, 1306, 17, 99, 19, 17, 198, 1022, 2, 2713, 1432, 3, 343, 8, 31, 11, 3, 21, 17, 1482, 694, 201, 6, 171, 72, 2714, 109, 5, 1466, 3, 30, 14, 17, 485, 94, 6, 2715, 8, 31, 11, 50, 3, 137, 51, 2, 712, 320, 44, 2716, 172, 17, 690, 3, 2, 437, 1025, 158, 44, 141, 38, 63, 2717, 55, 253, 2, 27, 1452, 8, 17, 102, 3, 64, 15, 317, 31, 2718, 8, 17, 99, 4, 381, 121, 2, 1287, 504, 15, 48, 321, 104, 63, 17, 2719, 283, 16, 6, 2720, 56, 163, 4, 482, 2, 295, 461, 1051, 17, 1337, 1034, 20, 2, 637, 376, 8, 17, 31, 2721, 485, 2, 140, 788, 2722, 18, 17, 205, 16, 2, 147, 101, 329, 2723, 509, 118, 2724, 39, 80, 258, 2, 2725, 2726, 55, 253, 2, 2727, 8, 2, 1483, 16, 2, 136, 145, 3, 39, 1111, 2728, 88, 103, 1341, 2729, 3, 2, 647, 102, 8, 2, 62, 1220, 59, 17, 1029, 1026, 4, 2730, 100, 2, 348, 302, 14, 590, 19, 2, 1038, 690, 181, 1314, 3, 1315, 2731, 1051, 2732, 100, 2, 670, 8, 2, 84, 2, 1237, 8, 2, 2733, 1059, 1460, 3, 2, 2734, 8, 2, 831, 582, 583, 839, 2, 242, 1117, 38, 20, 2, 1286, 826, 8, 2, 1469, 79, 83, 25, 6, 227, 19, 20, 1381, 158, 3, 188, 2735, 50, 12, 1484, 330, 6, 246, 6, 22, 23, 4, 489, 45, 51, 3, 21, 48, 268, 4, 882, 2736, 788, 48, 26, 97, 2737, 12, 2, 1094, 3, 2, 368, 2738, 4, 2, 684, 8, 2, 2739, 1242, 1483, 48, 268, 4, 2740, 2741, 2742, 3, 2, 531, 647, 2743, 4, 2, 102, 8, 2, 2744, 2745, 2, 1311, 8, 2, 302, 2, 670, 8, 2, 84, 3, 21, 2, 119, 317, 2746, 48, 268, 6, 246, 4, 2, 755, 2747, 8, 2, 1263, 2748, 2749, 2, 2750, 8, 2, 2751, 12, 2, 502, 48, 195, 2, 461, 8, 2, 79, 1417, 1436, 826, 2752, 6, 2753, 4, 50, 65, 30, 183, 31, 423, 8, 1039, 48, 12, 2, 109, 60, 26, 50, 5, 518, 2754, 3, 65, 6, 48, 381, 258, 21, 17, 2755, 2756, 2, 618, 3, 2757, 1434, 8, 17, 2758, 3, 65, 6, 48, 2759, 40, 17, 119, 31, 365, 3, 170, 88, 158, 437, 3, 1025, 20, 306, 5, 637, 747, 222, 214, 20, 2, 485, 8, 1484, 8, 140, 1157, 3, 65, 6, 48, 424, 20, 21, 88, 618, 2760, 3, 199, 5, 1067, 12, 21, 88, 618, 2761, 2762, 17, 351, 340, 314, 3, 2, 2763, 1464, 802, 2, 216]\n",
            "Total number of words : 26570\n",
            "Total Unique words :  2762\n"
          ],
          "name": "stdout"
        }
      ]
    },
    {
      "cell_type": "code",
      "metadata": {
        "id": "ykfI4FrwdyJe",
        "colab": {
          "base_uri": "https://localhost:8080/"
        },
        "outputId": "dac2d701-2473-4158-8bd2-b91491fa15d2"
      },
      "source": [
        "dataX = []\n",
        "dataY = []\n",
        "seq_length = 50\n",
        "for i in range(0, len(tokens)-seq_length-1 , 1):\n",
        "  seq_in = tokens[i:i + seq_length]\n",
        "  seq_out = tokens[i + seq_length]\n",
        "\n",
        "  if seq_out==1: #Skip samples where target word is <OOV>\n",
        "    continue\n",
        "    \n",
        "  dataX.append(seq_in)\n",
        "  dataY.append(seq_out)\n",
        "\n",
        "N = len(dataX)\n",
        "print (\"Total training data size: \", N)"
      ],
      "execution_count": 72,
      "outputs": [
        {
          "output_type": "stream",
          "text": [
            "Total training data size:  26519\n"
          ],
          "name": "stdout"
        }
      ]
    },
    {
      "cell_type": "code",
      "metadata": {
        "colab": {
          "base_uri": "https://localhost:8080/"
        },
        "id": "RbyVDpXMimY4",
        "outputId": "218cc3a6-e62d-49d6-c73d-a63ac7b3fd2d"
      },
      "source": [
        "print(dataX[0],dataY[0])"
      ],
      "execution_count": null,
      "outputs": [
        {
          "output_type": "stream",
          "text": [
            "[314, 15, 36, 2, 95, 729, 11, 13, 288, 5, 106, 27, 493, 8, 368, 72, 18, 444, 20, 2, 1131, 4, 8, 369, 142, 5, 58, 143, 60, 730, 7, 22, 876, 63, 2, 346, 18, 444, 13, 877, 31, 9, 22, 54, 731, 60, 1132, 12, 9, 77] 37\n"
          ],
          "name": "stdout"
        }
      ]
    },
    {
      "cell_type": "code",
      "metadata": {
        "id": "cJmGr1xId8cO"
      },
      "source": [
        "X = numpy.array(dataX)\n",
        "\n",
        "# one hot encode the output variable\n",
        "y = numpy.array(dataY)\n",
        "y = np_utils.to_categorical(dataY)"
      ],
      "execution_count": 73,
      "outputs": []
    },
    {
      "cell_type": "code",
      "metadata": {
        "colab": {
          "base_uri": "https://localhost:8080/"
        },
        "id": "Cembb9k5cGYB",
        "outputId": "d9f5c3da-f700-44e2-837d-9c20dbb2cfa0"
      },
      "source": [
        "X"
      ],
      "execution_count": 77,
      "outputs": [
        {
          "output_type": "execute_result",
          "data": {
            "text/plain": [
              "array([[ 305,   10,   36, ...,   12,    7,    3],\n",
              "       [  10,   36,    2, ...,    7,    3,   29],\n",
              "       [  36,    2,  101, ...,    3,   29,   35],\n",
              "       ...,\n",
              "       [ 365,    3,  170, ...,    3,    2, 2763],\n",
              "       [   3,  170,   88, ...,    2, 2763, 1464],\n",
              "       [ 170,   88,  158, ..., 2763, 1464,  802]])"
            ]
          },
          "metadata": {
            "tags": []
          },
          "execution_count": 77
        }
      ]
    },
    {
      "cell_type": "code",
      "metadata": {
        "colab": {
          "base_uri": "https://localhost:8080/"
        },
        "id": "67uj_tvKcOS8",
        "outputId": "ca243b98-e277-4f19-8af5-74291287e411"
      },
      "source": [
        "y"
      ],
      "execution_count": 78,
      "outputs": [
        {
          "output_type": "execute_result",
          "data": {
            "text/plain": [
              "array([[0., 0., 0., ..., 0., 0., 0.],\n",
              "       [0., 0., 0., ..., 0., 0., 0.],\n",
              "       [0., 0., 1., ..., 0., 0., 0.],\n",
              "       ...,\n",
              "       [0., 0., 0., ..., 0., 0., 0.],\n",
              "       [0., 0., 0., ..., 0., 0., 0.],\n",
              "       [0., 0., 1., ..., 0., 0., 0.]], dtype=float32)"
            ]
          },
          "metadata": {
            "tags": []
          },
          "execution_count": 78
        }
      ]
    },
    {
      "cell_type": "code",
      "metadata": {
        "id": "8QPApRA-d9JV",
        "colab": {
          "base_uri": "https://localhost:8080/"
        },
        "outputId": "ebee96ad-576b-4d2c-aeaf-18a5ed8bbddb"
      },
      "source": [
        "#with embedding\n",
        "embedding_dim = 50\n",
        "#seq_length = 50\n",
        "# Deep Neural network with one embedding layer , one Bidirection LSTM , one Dense layer with softmax activation \n",
        "\n",
        "# model = keras.Sequential([\n",
        "#     keras.layers.Embedding(vocab_size, embedding_dim, input_length=seq_length),\n",
        "#     keras.layers.Bidirectional(keras.layers.LSTM(64 , activation=tahh , use_bias=True , bias_initializer='zeros' , )),\n",
        "#     keras.layers.Dense(vocab_size, activation='softmax')\n",
        "# ])\n",
        "\n",
        "# define model\n",
        "model = Sequential()\n",
        "model.add(Embedding(vocab_size, 50, input_length=seq_length))\n",
        "model.add(LSTM(100, return_sequences=True))\n",
        "model.add(LSTM(100))\n",
        "model.add(Dense(100, activation='relu'))\n",
        "model.add(Dense(vocab_size, activation='softmax'))\n",
        "print(model.summary())\n",
        "\n",
        "# model compilation with crossentropy loss and adam optimization using metrics accuracy.\n",
        "# compile model\n",
        "# model.compile(loss='categorical_crossentropy',\n",
        "#               optimizer='adam',\n",
        "#               metrics=['accuracy'])\n",
        "\n",
        "# model summary\n",
        "# model.summary()"
      ],
      "execution_count": 79,
      "outputs": [
        {
          "output_type": "stream",
          "text": [
            "Model: \"sequential_2\"\n",
            "_________________________________________________________________\n",
            "Layer (type)                 Output Shape              Param #   \n",
            "=================================================================\n",
            "embedding_2 (Embedding)      (None, 50, 50)            138200    \n",
            "_________________________________________________________________\n",
            "lstm_4 (LSTM)                (None, 50, 100)           60400     \n",
            "_________________________________________________________________\n",
            "lstm_5 (LSTM)                (None, 100)               80400     \n",
            "_________________________________________________________________\n",
            "dense_4 (Dense)              (None, 100)               10100     \n",
            "_________________________________________________________________\n",
            "dense_5 (Dense)              (None, 2764)              279164    \n",
            "=================================================================\n",
            "Total params: 568,264\n",
            "Trainable params: 568,264\n",
            "Non-trainable params: 0\n",
            "_________________________________________________________________\n",
            "None\n"
          ],
          "name": "stdout"
        }
      ]
    },
    {
      "cell_type": "code",
      "metadata": {
        "colab": {
          "base_uri": "https://localhost:8080/"
        },
        "id": "Oqkh8uFsZiJN",
        "outputId": "f299ff53-9dc2-4fb4-be71-5c7994289feb"
      },
      "source": [
        "#Model 2\r\n",
        "\r\n",
        "model2 = Sequential()\r\n",
        "model2.add(Embedding(vocab_size, 100, input_length=seq_length))\r\n",
        "model2.add(LSTM(100, return_sequences=True))\r\n",
        "model2.add(LSTM(100))\r\n",
        "model2.add(Dense(100, activation='relu'))\r\n",
        "model2.add(Dense(vocab_size, activation='softmax'))\r\n",
        "print(model2.summary())"
      ],
      "execution_count": 92,
      "outputs": [
        {
          "output_type": "stream",
          "text": [
            "Model: \"sequential_3\"\n",
            "_________________________________________________________________\n",
            "Layer (type)                 Output Shape              Param #   \n",
            "=================================================================\n",
            "embedding_3 (Embedding)      (None, 50, 100)           276400    \n",
            "_________________________________________________________________\n",
            "lstm_6 (LSTM)                (None, 50, 100)           80400     \n",
            "_________________________________________________________________\n",
            "lstm_7 (LSTM)                (None, 100)               80400     \n",
            "_________________________________________________________________\n",
            "dense_6 (Dense)              (None, 100)               10100     \n",
            "_________________________________________________________________\n",
            "dense_7 (Dense)              (None, 2764)              279164    \n",
            "=================================================================\n",
            "Total params: 726,464\n",
            "Trainable params: 726,464\n",
            "Non-trainable params: 0\n",
            "_________________________________________________________________\n",
            "None\n"
          ],
          "name": "stdout"
        }
      ]
    },
    {
      "cell_type": "code",
      "metadata": {
        "id": "9PSpI1s5NPBU"
      },
      "source": [
        "# compile model\r\n",
        "model.compile(loss='categorical_crossentropy', optimizer='adam', metrics=['accuracy'])\r\n",
        "# fit model"
      ],
      "execution_count": 80,
      "outputs": []
    },
    {
      "cell_type": "code",
      "metadata": {
        "id": "ftMFaTg_Zp_G"
      },
      "source": [
        "# compile model2\r\n",
        "model2.compile(loss='categorical_crossentropy', optimizer='adam', metrics=['accuracy'])\r\n",
        "# fit model"
      ],
      "execution_count": 93,
      "outputs": []
    },
    {
      "cell_type": "code",
      "metadata": {
        "id": "w0Si7TUUNW41"
      },
      "source": [
        "model.fit(X, y, batch_size=128, epochs=50)"
      ],
      "execution_count": null,
      "outputs": []
    },
    {
      "cell_type": "code",
      "metadata": {
        "id": "AxYLols_ZucM"
      },
      "source": [
        "model2.fit(X, y, batch_size=128, epochs=100)"
      ],
      "execution_count": null,
      "outputs": []
    },
    {
      "cell_type": "code",
      "metadata": {
        "id": "puvVzYhxW1w0"
      },
      "source": [
        "model.save('model.h5')\r\n",
        "model.save('my_model_for_text_gen.h5')"
      ],
      "execution_count": 96,
      "outputs": []
    },
    {
      "cell_type": "code",
      "metadata": {
        "id": "HwVn0-OfXVGI"
      },
      "source": [
        "from keras import models \r\n",
        "model1_with_50_epoch = models.load_model('model.h5')\r\n",
        "History_model2_with_100_epoch = models.load_model('my_model_for_text_gen.h5') # Accuracy >= 50%"
      ],
      "execution_count": 114,
      "outputs": []
    },
    {
      "cell_type": "code",
      "metadata": {
        "id": "mg9WSEwYeMAH"
      },
      "source": [
        "reverse_word_map = tokenizer.index_word ## Create word to idx map using tokenizer.word_index"
      ],
      "execution_count": 98,
      "outputs": []
    },
    {
      "cell_type": "code",
      "metadata": {
        "id": "A_mhL0J0eQku"
      },
      "source": [
        "def generate_seq(model, seq_length, seed_text, n_words):\n",
        "\tresult = list()\n",
        "\tin_text = seed_text\n",
        "\t# generate a fixed number of words\n",
        "\tfor _ in range(n_words):\n",
        "\t\t# encode the text as integer\n",
        "\t\tencoded = tokenizer.texts_to_sequences([in_text])[0]\n",
        "\t\t# truncate sequences to a fixed length\n",
        "\t\tencoded = pad_sequences([encoded], maxlen=seq_length, truncating='pre')\n",
        "\t\t# predict probabilities for each word\n",
        "\t\tyhat = np.argmax(model.predict(encoded),axis=-1)\n",
        "        #yhat = np.argmax(model.predict(encoded),axis=-1)\n",
        "\t\t# map predicted word index to word\n",
        "\t\tout_word = ''\n",
        "\t\tfor word, index in tokenizer.word_index.items():\n",
        "\t\t\tif index == yhat:\n",
        "\t\t\t\tout_word = word\n",
        "\t\t\t\tbreak\n",
        "\t\t# append to input\n",
        "\t\tin_text += ' ' + out_word\n",
        "\t\tresult.append(out_word)\n",
        "\treturn ' '.join(result)"
      ],
      "execution_count": 137,
      "outputs": []
    },
    {
      "cell_type": "code",
      "metadata": {
        "id": "gZ_NTQezeWYO",
        "colab": {
          "base_uri": "https://localhost:8080/"
        },
        "outputId": "55474f41-176c-41fd-c98f-553f05044d00"
      },
      "source": [
        "# pick a random seed\n",
        "\n",
        "start_index = numpy.random.randint(0, len(dataX)-1)\n",
        "pattern = dataX[start_index]  #Random_sentence\n",
        "input_str = ' '.join([reverse_word_map[value] for value in pattern])\n",
        "real_answer = []\n",
        "for i in range(start_index+50 , start_index + 50 + 50):\n",
        "    real_answer.append(tokens[i])\n",
        "\n",
        "real_sequance = ' '.join([reverse_word_map[value] for value in real_answer])\n",
        "\n",
        "print(\"\\nGiven Seed or Input: \\n\", input_str)\n",
        "print(\"\\nReal Answer according to corpos will be: \\n\", real_sequance)\n",
        "\n",
        "answer1 = generate_seq(model1_with_50_epoch, seq_length, input_str, 100)\n",
        "answer2 = generate_seq(History_model2_with_100_epoch, seq_length, input_str, 100)\n",
        "\n",
        "print(\"\\nPredict Sequence using model1: \\n\",answer1)\n",
        "print(\"\\nPredict Sequence using model2: \\n\",answer2)"
      ],
      "execution_count": 143,
      "outputs": [
        {
          "output_type": "stream",
          "text": [
            "\n",
            "Given Seed or Input: \n",
            " chapter ix the mock turtle’s story you can’t think how glad i am to see you again you dear old thing said the duchess as she tucked her arm affectionately into alice’s and they walked off together alice was very glad to find her in such a pleasant temper and\n",
            "\n",
            "Real Answer according to corpos will be: \n",
            " thought to herself that perhaps it was only the pepper that had made her so savage when they met in the kitchen when i’m a duchess she said to herself not in a very hopeful tone though i won’t have any pepper in my kitchen at all soup does very\n",
            "\n",
            "Predict Sequence using model1: \n",
            " she was a little timidly said alice the gryphon was gone to me and the rabbit was in a little hot speaker soooop with the air the queen was very likely said alice indignantly and then the mock turtle went on and began whistling so she had been wandering much she had been to do it was the best butter i suppose i should think it was a little timidly said alice the gryphon was gone to me and she had been to do it was a little house on themall faces down round the floor and she had got\n",
            "\n",
            "Predict Sequence using model2: \n",
            " she was a little timidly said alice the gryphon was gone to me and the rabbit was in a little hot speaker soooop with the air the queen was very likely said alice indignantly and then the mock turtle went on and began whistling so she had been wandering much she had been to do it was the best butter i suppose i should think it was a little timidly said alice the gryphon was gone to me and she had been to do it was a little house on themall faces down round the floor and she had got\n"
          ],
          "name": "stdout"
        }
      ]
    },
    {
      "cell_type": "code",
      "metadata": {
        "id": "u-x8W-OSVgNi",
        "colab": {
          "base_uri": "https://localhost:8080/"
        },
        "outputId": "66b62b5f-41a7-49c5-e1d3-5c949c2ab057"
      },
      "source": [
        "input_str = \"The boy laughed at the fright he had caused. This time, the villagers left angrily. The third day, as the boy went up\\\n",
        " the small hill, he suddenly saw a wolf attacking his sheep. He cried as hard as he could, “Wolf! Wolf! Wolf!”, but not \\\n",
        " a single villager came to help him. The villagers thought that he was trying to fool them again and did not come to rescue \\\n",
        " him or his sheep.\"\n",
        "\n",
        "# Use first 50 tokens from given input_str as input.(Use tokenizer to split to take first 50)\n",
        "print(generate_seq(History_model2_with_100_epoch,seq_length, input_str , 10))"
      ],
      "execution_count": 144,
      "outputs": [
        {
          "output_type": "stream",
          "text": [
            "little sister of the house and the gryphon said alice\n"
          ],
          "name": "stdout"
        }
      ]
    },
    {
      "cell_type": "markdown",
      "metadata": {
        "id": "B5_R5Tngo3_D"
      },
      "source": [
        "# Character based LSTM Model 1"
      ]
    },
    {
      "cell_type": "code",
      "metadata": {
        "id": "2zZaHsejo57p"
      },
      "source": [
        "# User the preprocess data and create raw_text\n",
        "\n",
        "# create mapping of unique characters to integers\n",
        "chars = sorted(list(set(raw_text)))\n",
        "tokenizer2 = Tokenizer(num_words=None, char_level=True, oov_token='UNK')\n",
        "tokenizer2.fit_on_texts(raw_text)\n",
        "\n",
        "char_to_int =  tokenizer2.word_index"
      ],
      "execution_count": null,
      "outputs": []
    },
    {
      "cell_type": "code",
      "metadata": {
        "id": "lkVVDbump0Wg",
        "colab": {
          "base_uri": "https://localhost:8080/"
        },
        "outputId": "f71f2aea-d157-4c2e-c0b6-aaca510f738a"
      },
      "source": [
        "# Print the total characters and character vacob size\n",
        "n_chars = len(raw_text)\n",
        "n_vocab = len(char_to_int)\n",
        "print(\"n_chars : \",n_chars)\n",
        "print(\"n_vocab : \",n_vocab)"
      ],
      "execution_count": null,
      "outputs": [
        {
          "output_type": "stream",
          "text": [
            "n_chars :  142477\n",
            "n_vocab :  46\n"
          ],
          "name": "stdout"
        }
      ]
    },
    {
      "cell_type": "code",
      "metadata": {
        "id": "2aVserymqE1b",
        "colab": {
          "base_uri": "https://localhost:8080/"
        },
        "outputId": "6bc957ea-c75f-4e2b-b642-c36259ab06d5"
      },
      "source": [
        "'''\n",
        "Prepare dataset where the input is sequence of 100 characters and target is next character.\n",
        "'''\n",
        "tokens2 = tokenizer2.texts_to_sequences([raw_text])[0]\n",
        "seq_length = 100\n",
        "dataX = []\n",
        "dataY = []\n",
        "for i in range(0, n_chars - seq_length, 1):\n",
        "    seq_in = tokens2[i:i+seq_length]\n",
        "    seq_out = tokens2[i + seq_length]\n",
        "    \n",
        "    if seq_out == 1:\n",
        "        continue\n",
        "    \n",
        "    dataX.append(seq_in)\n",
        "    dataY.append(seq_out)\n",
        "\n",
        "\n",
        "n_patterns = len(dataX)\n",
        "print (\"Total Patterns: \", n_patterns)"
      ],
      "execution_count": null,
      "outputs": [
        {
          "output_type": "stream",
          "text": [
            "Total Patterns:  142377\n"
          ],
          "name": "stdout"
        }
      ]
    },
    {
      "cell_type": "code",
      "metadata": {
        "id": "Ic4yf4hNqc7T"
      },
      "source": [
        "# reshape X to be [samples, time steps, features]\n",
        "X = numpy.array(dataX)\n",
        "\n",
        "# one hot encode the output variable\n",
        "dataY = numpy.array(dataY)\n",
        "y = np_utils.to_categorical(dataY)"
      ],
      "execution_count": null,
      "outputs": []
    },
    {
      "cell_type": "code",
      "metadata": {
        "id": "XvawnjFVqhMi"
      },
      "source": [
        "embedding_dim =100\n",
        "max_length =100"
      ],
      "execution_count": null,
      "outputs": []
    },
    {
      "cell_type": "code",
      "metadata": {
        "id": "ek5DqNeTqkAZ",
        "colab": {
          "base_uri": "https://localhost:8080/"
        },
        "outputId": "e8c829ac-9acf-4d83-c5f2-307d0effdfae"
      },
      "source": [
        "n_vocab = n_vocab+1\n",
        "model = Sequential()\n",
        "model.add(Embedding(n_vocab, embedding_dim, input_length=max_length))\n",
        "model.add(LSTM(256))\n",
        "model.add(Dropout(0.2))\n",
        "model.add(Dense(y.shape[1], activation='softmax'))\n",
        "model.compile(loss='categorical_crossentropy', optimizer='adam')\n",
        "model.summary()"
      ],
      "execution_count": null,
      "outputs": [
        {
          "output_type": "stream",
          "text": [
            "Model: \"sequential_10\"\n",
            "_________________________________________________________________\n",
            "Layer (type)                 Output Shape              Param #   \n",
            "=================================================================\n",
            "embedding_10 (Embedding)     (None, 100, 100)          4700      \n",
            "_________________________________________________________________\n",
            "lstm_12 (LSTM)               (None, 256)               365568    \n",
            "_________________________________________________________________\n",
            "dropout_7 (Dropout)          (None, 256)               0         \n",
            "_________________________________________________________________\n",
            "dense_10 (Dense)             (None, 47)                12079     \n",
            "=================================================================\n",
            "Total params: 382,347\n",
            "Trainable params: 382,347\n",
            "Non-trainable params: 0\n",
            "_________________________________________________________________\n"
          ],
          "name": "stdout"
        }
      ]
    },
    {
      "cell_type": "code",
      "metadata": {
        "id": "ekXYhzeUrGaq"
      },
      "source": [
        "#implement mapping of integer to character\n",
        "int_to_char = tokenizer2.index_word"
      ],
      "execution_count": null,
      "outputs": []
    },
    {
      "cell_type": "code",
      "metadata": {
        "id": "OixPrw6vq15j"
      },
      "source": [
        "'''\n",
        "Complete code below to get the generated string using the model.\n",
        "'''\n",
        "def predict_next_100_chars(pattern,x):\n",
        "\tprint(\"Given Sequence: \\n\", pattern)\n",
        "\tsequence = np.array(char_tokenizer.texts_to_sequences(pattern)[:100]).reshape(1,100)\n",
        "\tfor i in range(x):\n",
        "\t\tprediction = model.predict(sequence, verbose=0)\n",
        "\t\tsequence = np.append(sequence,prediction.argmax())\n",
        "\t\tsequence = sequence[1:]\n",
        "\t\tsequence.resize(1,100) \n",
        "\t\tfinal_string = ' '.join(pattern.split()[:100]) +  ''.join(char_tokenizer.sequences_to_texts(sequence))\n",
        "\treturn final_string"
      ],
      "execution_count": null,
      "outputs": []
    },
    {
      "cell_type": "code",
      "metadata": {
        "id": "vHH_I5QiUxnY",
        "colab": {
          "base_uri": "https://localhost:8080/"
        },
        "outputId": "28702a89-8ea9-4c50-f78e-ae9b83a07fca"
      },
      "source": [
        "# pick a random seed\n",
        "start_index = numpy.random.randint(0, len(dataX)-1)\n",
        "pattern = dataX[start_index]\n",
        "input_str = ''.join([int_to_char[value] for value in pattern])\n",
        "\n",
        "answer1 = predict_next_100_chars(input_str,200)\n",
        "print(\"Predict Sequence: \\n\",answer1)"
      ],
      "execution_count": null,
      "outputs": [
        {
          "output_type": "stream",
          "text": [
            "Given Sequence: \n",
            " ing anything more till the pigeon had finished.\n",
            "“as if it wasn’t trouble enough hatching the eggs,” \n",
            "Predict Sequence: \n",
            " ing anything more till the pigeon had finished. “as if it wasn’t trouble enough hatching the eggs,”  j u s t   a s   w e l l   s a y   i n   a   d e a r   o f   t h i n g   i   h a v e   n o   n o t i c e   t o   b e   a   p r o c e s s i o n , ”   t h o u g h t   a l i c e ,   “ i   d o n ’ t   k\n"
          ],
          "name": "stdout"
        }
      ]
    },
    {
      "cell_type": "code",
      "metadata": {
        "id": "iutpuJAgrgU8",
        "colab": {
          "base_uri": "https://localhost:8080/"
        },
        "outputId": "bd03fba7-e8ef-4085-d978-442e6a1a27d8"
      },
      "source": [
        "input_str = \"The boy laughed at the fright he had caused. This time, the villagers left angrily. The third day, as the boy went up\\\n",
        " the small hill, he suddenly saw a wolf attacking his sheep. He cried as hard as he could, “Wolf! Wolf! Wolf!”, but not \\\n",
        " a single villager came to help him. The villagers thought that he was trying to fool them again and did not come to rescue \\\n",
        " him or his sheep.\"\n",
        "\n",
        " # Use first 100 characeters from given input_str as input and generate next 200 characters.\n",
        "\n",
        " \n",
        "str2 = predict_next_100_chars(input_str,200)\n",
        "print(\"Predict Sequence: \\n\",str2)"
      ],
      "execution_count": null,
      "outputs": [
        {
          "output_type": "stream",
          "text": [
            "Given Sequence: \n",
            " The boy laughed at the fright he had caused. This time, the villagers left angrily. The third day, as the boy went up the small hill, he suddenly saw a wolf attacking his sheep. He cried as hard as he could, “Wolf! Wolf! Wolf!”, but not  a single villager came to help him. The villagers thought that he was trying to fool them again and did not come to rescue  him or his sheep.\n",
            "Predict Sequence: \n",
            " The boy laughed at the fright he had caused. This time, the villagers left angrily. The third day, as the boy went up the small hill, he suddenly saw a wolf attacking his sheep. He cried as hard as he could, “Wolf! Wolf! Wolf!”, but not a single villager came to help him. The villagers thought that he was trying to fool them again and did not come to rescue him or his sheep.u c h e s s ,   “ a n d   t h e   m o r a l   o f   t h a t   i s — ‘ t h e   m o r e   t h a n   t h e   r e a s o n   i s   t h e   m o u s e   d i d   y o u   t o   d o   t o   d o   t h a t   i  \n"
          ],
          "name": "stdout"
        }
      ]
    },
    {
      "cell_type": "markdown",
      "metadata": {
        "id": "n8shbcukr0tJ"
      },
      "source": [
        "## Character based LSTM Model 2\n"
      ]
    },
    {
      "cell_type": "code",
      "metadata": {
        "id": "BWBPCrTdr46U"
      },
      "source": [
        "model1 = Sequential()\n",
        "model1.add(Embedding(n_vocab, embedding_dim, input_length=max_length))\n",
        "model1.add(LSTM(256, input_shape=(X.shape[1], embedding_dim),return_sequences=True))\n",
        "model1.add(Dropout(0.2))\n",
        "model1.add(LSTM(256))\n",
        "model1.add(Dropout(0.2))\n",
        "model1.add(Dense(y.shape[1], activation='softmax'))\n",
        "model1.compile(loss='categorical_crossentropy', optimizer='adam')"
      ],
      "execution_count": null,
      "outputs": []
    },
    {
      "cell_type": "code",
      "metadata": {
        "id": "7ZxrtjFIr63L",
        "colab": {
          "base_uri": "https://localhost:8080/"
        },
        "outputId": "ba14e9c2-2906-4bc7-b985-0df93bc1a324"
      },
      "source": [
        "model1.fit(X, y, epochs=20, batch_size=64)"
      ],
      "execution_count": null,
      "outputs": [
        {
          "output_type": "stream",
          "text": [
            "Epoch 1/20\n",
            "2225/2225 [==============================] - 50s 22ms/step - loss: 2.1236\n",
            "Epoch 2/20\n",
            "2225/2225 [==============================] - 49s 22ms/step - loss: 1.5672\n",
            "Epoch 3/20\n",
            "2225/2225 [==============================] - 50s 22ms/step - loss: 1.3843\n",
            "Epoch 4/20\n",
            "2225/2225 [==============================] - 50s 23ms/step - loss: 1.2818\n",
            "Epoch 5/20\n",
            "2225/2225 [==============================] - 50s 22ms/step - loss: 1.2139\n",
            "Epoch 6/20\n",
            "2225/2225 [==============================] - 50s 22ms/step - loss: 1.1612\n",
            "Epoch 7/20\n",
            "2225/2225 [==============================] - 50s 22ms/step - loss: 1.1142\n",
            "Epoch 8/20\n",
            "2225/2225 [==============================] - 49s 22ms/step - loss: 1.0775\n",
            "Epoch 9/20\n",
            "2225/2225 [==============================] - 49s 22ms/step - loss: 1.0430\n",
            "Epoch 10/20\n",
            "2225/2225 [==============================] - 50s 22ms/step - loss: 1.0152\n",
            "Epoch 11/20\n",
            "2225/2225 [==============================] - 49s 22ms/step - loss: 0.9869\n",
            "Epoch 12/20\n",
            "2225/2225 [==============================] - 49s 22ms/step - loss: 0.9666\n",
            "Epoch 13/20\n",
            "2225/2225 [==============================] - 49s 22ms/step - loss: 0.9459\n",
            "Epoch 14/20\n",
            "2225/2225 [==============================] - 49s 22ms/step - loss: 0.9281\n",
            "Epoch 15/20\n",
            "2225/2225 [==============================] - 49s 22ms/step - loss: 0.9130\n",
            "Epoch 16/20\n",
            "2225/2225 [==============================] - 49s 22ms/step - loss: 0.9008\n",
            "Epoch 17/20\n",
            "2225/2225 [==============================] - 49s 22ms/step - loss: 0.8858\n",
            "Epoch 18/20\n",
            "2225/2225 [==============================] - 49s 22ms/step - loss: 0.8751\n",
            "Epoch 19/20\n",
            "2225/2225 [==============================] - 49s 22ms/step - loss: 0.8634\n",
            "Epoch 20/20\n",
            "2225/2225 [==============================] - 49s 22ms/step - loss: 0.8577\n"
          ],
          "name": "stdout"
        },
        {
          "output_type": "execute_result",
          "data": {
            "text/plain": [
              "<tensorflow.python.keras.callbacks.History at 0x7ff745834828>"
            ]
          },
          "metadata": {
            "tags": []
          },
          "execution_count": 181
        }
      ]
    },
    {
      "cell_type": "code",
      "metadata": {
        "id": "L6RTfHN6r8wh"
      },
      "source": [
        "# Generate the sequence similar to above methods\n",
        "\n",
        "'''\n",
        "Complete code below to get the generated string using the model.\n",
        "'''\n",
        "def predict_next_100_chars(pattern,x):\n",
        "\tprint(\"Given Sequence: \\n\", pattern)\n",
        "\tsequence = np.array(char_tokenizer.texts_to_sequences(pattern)[:100]).reshape(1,100)\n",
        "\tfor i in range(x):\n",
        "\t\tprediction = model1.predict(sequence, verbose=0)\n",
        "\t\tsequence = np.append(sequence,prediction.argmax())\n",
        "\t\tsequence = sequence[1:]\n",
        "\t\tsequence.resize(1,100)\n",
        "\t\tfinal_string = ' '.join(pattern.split()[:100]) +  ''.join(char_tokenizer.sequences_to_texts(sequence))\n",
        "\treturn final_string"
      ],
      "execution_count": null,
      "outputs": []
    },
    {
      "cell_type": "code",
      "metadata": {
        "id": "5CKJXZ4tYmL0",
        "colab": {
          "base_uri": "https://localhost:8080/"
        },
        "outputId": "9d9f3098-554a-4988-8486-fa1a032b009e"
      },
      "source": [
        "# pick a random seed\n",
        "start_index = numpy.random.randint(0, len(dataX)-1)\n",
        "pattern = dataX[start_index]\n",
        "input_str = ''.join([int_to_char[value] for value in pattern])\n",
        "\n",
        "answer2 = predict_next_100_chars(input_str,200)\n",
        "print(\"Predict Sequence: \\n\",answer2)"
      ],
      "execution_count": null,
      "outputs": [
        {
          "output_type": "stream",
          "text": [
            "Given Sequence: \n",
            " rply; “i advise you to leave off this minute.” she generally gave herself very good advice, (though \n",
            "Predict Sequence: \n",
            " rply; “i advise you to leave off this minute.” she generally gave herself very good advice, (thoughg   t o   b e   s u r p r i s e d   t o   s e e   t h a t   s h e   w a s   n o w   a b o u t   i t ,   a n d   t h e   w h o l e   p a r t y   w a s   t h e   w h i t e   r a b b i t   w a s   s i t\n"
          ],
          "name": "stdout"
        }
      ]
    },
    {
      "cell_type": "code",
      "metadata": {
        "id": "YyRCfLe5YmL7",
        "colab": {
          "base_uri": "https://localhost:8080/"
        },
        "outputId": "5ffa6155-c907-42e8-c0a6-516e9c74d95b"
      },
      "source": [
        "input_str = \"The boy laughed at the fright he had caused. This time, the villagers left angrily. The third day, as the boy went up\\\n",
        " the small hill, he suddenly saw a wolf attacking his sheep. He cried as hard as he could, “Wolf! Wolf! Wolf!”, but not \\\n",
        " a single villager came to help him. The villagers thought that he was trying to fool them again and did not come to rescue \\\n",
        " him or his sheep.\"\n",
        "\n",
        " # Use first 100 characeters from given input_str as input and generate next 200 characters.\n",
        "\n",
        "str1 = predict_next_100_chars(input_str,200)\n",
        "print(\"Predict Sequence: \\n\",str1)"
      ],
      "execution_count": null,
      "outputs": [
        {
          "output_type": "stream",
          "text": [
            "Given Sequence: \n",
            " The boy laughed at the fright he had caused. This time, the villagers left angrily. The third day, as the boy went up the small hill, he suddenly saw a wolf attacking his sheep. He cried as hard as he could, “Wolf! Wolf! Wolf!”, but not  a single villager came to help him. The villagers thought that he was trying to fool them again and did not come to rescue  him or his sheep.\n",
            "Predict Sequence: \n",
            " The boy laughed at the fright he had caused. This time, the villagers left angrily. The third day, as the boy went up the small hill, he suddenly saw a wolf attacking his sheep. He cried as hard as he could, “Wolf! Wolf! Wolf!”, but not a single villager came to help him. The villagers thought that he was trying to fool them again and did not come to rescue him or his sheep.e   t h a t   s h e   w a s   n o w   a b o u t   i t ,   a n d   t h e   w h o l e   p a r t y   w a s   t h e   w h i t e   r a b b i t   w a s   s i t t i n g   o n   t h e   d o o r ,   s h e   w\n"
          ],
          "name": "stdout"
        }
      ]
    },
    {
      "cell_type": "markdown",
      "metadata": {
        "id": "XPrjxjoNsaQC"
      },
      "source": [
        "# Questions"
      ]
    },
    {
      "cell_type": "markdown",
      "metadata": {
        "id": "kW5_IlBeZAPq"
      },
      "source": [
        "**Question:** What are your observations based on the model(all) outputs on train data(in domain) vs unseen data(out of domain) ?"
      ]
    },
    {
      "cell_type": "markdown",
      "metadata": {
        "id": "YryzP1upZv5h"
      },
      "source": [
        "\n",
        "\n",
        "```\n",
        "# This is formatted as code\n",
        "```\n",
        "\n",
        "**Answer:** Word based LSTM model performs better on seen data as we can see in epoch 20 accuracy score is better then val_accuracy but also it is performing well in unseen data as well. And also models can approximate to the past data pretty well. But for the new data it is not perfect as on train data."
      ]
    },
    {
      "cell_type": "markdown",
      "metadata": {
        "id": "aBzCD0I0Z3uP"
      },
      "source": [
        "**Question:** What did you observe in the outputs of char LSTM model1 vs char LSTM model2 ?"
      ]
    },
    {
      "cell_type": "markdown",
      "metadata": {
        "id": "PUHxHmXZaNdn"
      },
      "source": [
        "**Answer:**  The Observation of output:\n",
        "LSTM model2 is performing way better than model1. As in the model 1 same words are repeating and model2 sentence makes more sense as model2 is more complex and adds one extra unit than model1"
      ]
    },
    {
      "cell_type": "markdown",
      "metadata": {
        "id": "j2N-l6VSshhC"
      },
      "source": [
        "## Transformer based language model (Bert)\n",
        "You can run the below cells to predict the next word using pretrained BERT model. "
      ]
    },
    {
      "cell_type": "code",
      "metadata": {
        "id": "67c13Yx9sgiW",
        "colab": {
          "base_uri": "https://localhost:8080/"
        },
        "outputId": "92a12eed-bfed-449a-cea5-84e5de346932"
      },
      "source": [
        "!pip install transformers"
      ],
      "execution_count": null,
      "outputs": [
        {
          "output_type": "stream",
          "text": [
            "Collecting transformers\n",
            "\u001b[?25l  Downloading https://files.pythonhosted.org/packages/3a/83/e74092e7f24a08d751aa59b37a9fc572b2e4af3918cb66f7766c3affb1b4/transformers-3.5.1-py3-none-any.whl (1.3MB)\n",
            "\u001b[K     |████████████████████████████████| 1.3MB 9.0MB/s \n",
            "\u001b[?25hRequirement already satisfied: packaging in /usr/local/lib/python3.6/dist-packages (from transformers) (20.4)\n",
            "Requirement already satisfied: requests in /usr/local/lib/python3.6/dist-packages (from transformers) (2.23.0)\n",
            "Requirement already satisfied: tqdm>=4.27 in /usr/local/lib/python3.6/dist-packages (from transformers) (4.41.1)\n",
            "Collecting sacremoses\n",
            "\u001b[?25l  Downloading https://files.pythonhosted.org/packages/7d/34/09d19aff26edcc8eb2a01bed8e98f13a1537005d31e95233fd48216eed10/sacremoses-0.0.43.tar.gz (883kB)\n",
            "\u001b[K     |████████████████████████████████| 890kB 24.7MB/s \n",
            "\u001b[?25hRequirement already satisfied: regex!=2019.12.17 in /usr/local/lib/python3.6/dist-packages (from transformers) (2019.12.20)\n",
            "Requirement already satisfied: filelock in /usr/local/lib/python3.6/dist-packages (from transformers) (3.0.12)\n",
            "Requirement already satisfied: dataclasses; python_version < \"3.7\" in /usr/local/lib/python3.6/dist-packages (from transformers) (0.7)\n",
            "Collecting tokenizers==0.9.3\n",
            "\u001b[?25l  Downloading https://files.pythonhosted.org/packages/4c/34/b39eb9994bc3c999270b69c9eea40ecc6f0e97991dba28282b9fd32d44ee/tokenizers-0.9.3-cp36-cp36m-manylinux1_x86_64.whl (2.9MB)\n",
            "\u001b[K     |████████████████████████████████| 2.9MB 41.9MB/s \n",
            "\u001b[?25hRequirement already satisfied: numpy in /usr/local/lib/python3.6/dist-packages (from transformers) (1.18.5)\n",
            "Collecting sentencepiece==0.1.91\n",
            "\u001b[?25l  Downloading https://files.pythonhosted.org/packages/d4/a4/d0a884c4300004a78cca907a6ff9a5e9fe4f090f5d95ab341c53d28cbc58/sentencepiece-0.1.91-cp36-cp36m-manylinux1_x86_64.whl (1.1MB)\n",
            "\u001b[K     |████████████████████████████████| 1.1MB 47.6MB/s \n",
            "\u001b[?25hRequirement already satisfied: protobuf in /usr/local/lib/python3.6/dist-packages (from transformers) (3.12.4)\n",
            "Requirement already satisfied: pyparsing>=2.0.2 in /usr/local/lib/python3.6/dist-packages (from packaging->transformers) (2.4.7)\n",
            "Requirement already satisfied: six in /usr/local/lib/python3.6/dist-packages (from packaging->transformers) (1.15.0)\n",
            "Requirement already satisfied: chardet<4,>=3.0.2 in /usr/local/lib/python3.6/dist-packages (from requests->transformers) (3.0.4)\n",
            "Requirement already satisfied: urllib3!=1.25.0,!=1.25.1,<1.26,>=1.21.1 in /usr/local/lib/python3.6/dist-packages (from requests->transformers) (1.24.3)\n",
            "Requirement already satisfied: idna<3,>=2.5 in /usr/local/lib/python3.6/dist-packages (from requests->transformers) (2.10)\n",
            "Requirement already satisfied: certifi>=2017.4.17 in /usr/local/lib/python3.6/dist-packages (from requests->transformers) (2020.6.20)\n",
            "Requirement already satisfied: click in /usr/local/lib/python3.6/dist-packages (from sacremoses->transformers) (7.1.2)\n",
            "Requirement already satisfied: joblib in /usr/local/lib/python3.6/dist-packages (from sacremoses->transformers) (0.17.0)\n",
            "Requirement already satisfied: setuptools in /usr/local/lib/python3.6/dist-packages (from protobuf->transformers) (50.3.2)\n",
            "Building wheels for collected packages: sacremoses\n",
            "  Building wheel for sacremoses (setup.py) ... \u001b[?25l\u001b[?25hdone\n",
            "  Created wheel for sacremoses: filename=sacremoses-0.0.43-cp36-none-any.whl size=893257 sha256=5939d6a428a50ea6320ce8d1ecb47986e7745d3fd27a13f2551968541d68473b\n",
            "  Stored in directory: /root/.cache/pip/wheels/29/3c/fd/7ce5c3f0666dab31a50123635e6fb5e19ceb42ce38d4e58f45\n",
            "Successfully built sacremoses\n",
            "Installing collected packages: sacremoses, tokenizers, sentencepiece, transformers\n",
            "Successfully installed sacremoses-0.0.43 sentencepiece-0.1.91 tokenizers-0.9.3 transformers-3.5.1\n"
          ],
          "name": "stdout"
        }
      ]
    },
    {
      "cell_type": "code",
      "metadata": {
        "id": "5gF2nncdsqcx"
      },
      "source": [
        "import os\n",
        "import torch\n",
        "import string\n",
        "from transformers import BertTokenizer, BertForMaskedLM"
      ],
      "execution_count": null,
      "outputs": []
    },
    {
      "cell_type": "code",
      "metadata": {
        "id": "_tppcQN298Qs"
      },
      "source": [
        "def load_model(model_name):\n",
        "  try:\n",
        "    if model_name.lower() == \"bert\":\n",
        "      bert_tokenizer = BertTokenizer.from_pretrained('bert-base-uncased')\n",
        "      bert_model = BertForMaskedLM.from_pretrained('bert-base-uncased').eval()\n",
        "      return bert_tokenizer,bert_model\n",
        "  except Exception as e:\n",
        "    pass"
      ],
      "execution_count": null,
      "outputs": []
    },
    {
      "cell_type": "code",
      "metadata": {
        "id": "pOcQKOGG-H8F"
      },
      "source": [
        "def decode(tokenizer, pred_idx, top_clean):\n",
        "  ignore_tokens = string.punctuation + '[PAD]'\n",
        "  tokens = []\n",
        "  for w in pred_idx:\n",
        "    token = ''.join(tokenizer.decode(w).split())\n",
        "    if token not in ignore_tokens:\n",
        "      tokens.append(token.replace('##', ''))\n",
        "  return '\\n'.join(tokens[:top_clean])"
      ],
      "execution_count": null,
      "outputs": []
    },
    {
      "cell_type": "code",
      "metadata": {
        "id": "CQkjSmGv-TxO"
      },
      "source": [
        "def encode(tokenizer, text_sentence, add_special_tokens=True):\n",
        "  text_sentence = text_sentence.replace('<mask>', tokenizer.mask_token)\n",
        "  # if <mask> is the last token, append a \".\" so that models dont predict punctuation.\n",
        "  if tokenizer.mask_token == text_sentence.split()[-1]:\n",
        "    text_sentence += ' .'\n",
        "  input_ids = torch.tensor([tokenizer.encode(text_sentence, add_special_tokens=add_special_tokens)])\n",
        "  mask_idx = torch.where(input_ids == tokenizer.mask_token_id)[1].tolist()[0]\n",
        "  return input_ids, mask_idx"
      ],
      "execution_count": null,
      "outputs": []
    },
    {
      "cell_type": "code",
      "metadata": {
        "id": "fFWOHB5n-ZQh"
      },
      "source": [
        "def get_all_predictions(text_sentence, top_clean=5):\n",
        "  input_ids, mask_idx = encode(bert_tokenizer, text_sentence)\n",
        "  with torch.no_grad():\n",
        "    predict = bert_model(input_ids)[0]\n",
        "    print(predict.shape)\n",
        "    \n",
        "    bert = decode(bert_tokenizer, predict[0, mask_idx, :].topk(top_k).indices.tolist(), top_clean)\n",
        "  return {'bert': bert}"
      ],
      "execution_count": null,
      "outputs": []
    },
    {
      "cell_type": "code",
      "metadata": {
        "id": "4lQHVc0l-igk"
      },
      "source": [
        "def get_prediction_eos(input_text):\n",
        "  try:\n",
        "    input_text += ' <mask>'\n",
        "    res = get_all_predictions(input_text, top_clean=int(top_k))\n",
        "    return res\n",
        "  except Exception as error:\n",
        "    pass"
      ],
      "execution_count": null,
      "outputs": []
    },
    {
      "cell_type": "code",
      "metadata": {
        "id": "XQZ-swMD9lyU",
        "colab": {
          "base_uri": "https://localhost:8080/",
          "height": 301,
          "referenced_widgets": [
            "7209512830344caa8693b0b159d97846",
            "c970aefd1526484dabcc6367f0cd3cd3",
            "b12dec54cdf34bb78e269672b828fadf",
            "9ce8e3eff7d94b24b0288aed28dc907b",
            "20dbfc11cb4e48ad896de5fe7ca643cf",
            "5335d2bf0dde490db381224c25287de4",
            "d19cd20bfea94e43974f3ef7d8392a82",
            "5c331a2c1fd14425bcdd48a489ae34b2",
            "6cded29e809448f7893af0a2aee78665",
            "5a063fb01ff348a392a4cdb791169c9f",
            "355a59f0b8e5453eb4364ae5d9c51f83",
            "11703df4615d4b6f956b8be834ae741e",
            "609b8db0f1fe4db4972f81bfe01d70d7",
            "c90d072e643042c2b8f3241489544df3",
            "6af74c00f98f4db4a93d8722022fcaa4",
            "4e7e2edc5f5c48b48eb06a804b98639a",
            "7c24b4bf912142318803f0e7536ce906",
            "997effac66b34e11ad0d610330c9cb26",
            "ff68bd70e747482b84b628d71ae435b6",
            "7f90f6b191f64507be282cbb108aba50",
            "a061c6d8a1b24df3879574cac22e033b",
            "484df65963f7409fb1abd03d4641ac77",
            "fc9d698571dd4fcba8295187fdbed2bc",
            "b9e107b7c8e1438b8aea556fceb8d039"
          ]
        },
        "outputId": "7f1d99ec-a1b7-48a5-9356-5cbe9bf585d0"
      },
      "source": [
        "# Below code predicts the next top_k words. You can modify this to get next n words using top_k=1 and greedy decoding it. \n",
        "top_k= 3\n",
        "print('Predict next ', top_k, ' words')\n",
        "model_name = 'BERT'\n",
        "bert_tokenizer, bert_model  = load_model(model_name) \n",
        "input_text = \"\" ### GIVE YOUR INPUT STRING HERE\n",
        "res = get_prediction_eos(input_text)\n",
        "answer = []\n",
        "print(res['bert'].split(\"\\n\"))\n",
        "for i in res['bert'].split(\"\\n\"):\n",
        "  answer.append(i)\n",
        "  answer_as_string = \"    \".join(answer)\n",
        "\n",
        "print(answer_as_string)"
      ],
      "execution_count": null,
      "outputs": [
        {
          "output_type": "stream",
          "text": [
            "Predict next  3  words\n"
          ],
          "name": "stdout"
        },
        {
          "output_type": "display_data",
          "data": {
            "application/vnd.jupyter.widget-view+json": {
              "model_id": "7209512830344caa8693b0b159d97846",
              "version_minor": 0,
              "version_major": 2
            },
            "text/plain": [
              "HBox(children=(FloatProgress(value=0.0, description='Downloading', max=231508.0, style=ProgressStyle(descripti…"
            ]
          },
          "metadata": {
            "tags": []
          }
        },
        {
          "output_type": "stream",
          "text": [
            "\n"
          ],
          "name": "stdout"
        },
        {
          "output_type": "display_data",
          "data": {
            "application/vnd.jupyter.widget-view+json": {
              "model_id": "6cded29e809448f7893af0a2aee78665",
              "version_minor": 0,
              "version_major": 2
            },
            "text/plain": [
              "HBox(children=(FloatProgress(value=0.0, description='Downloading', max=433.0, style=ProgressStyle(description_…"
            ]
          },
          "metadata": {
            "tags": []
          }
        },
        {
          "output_type": "stream",
          "text": [
            "\n"
          ],
          "name": "stdout"
        },
        {
          "output_type": "display_data",
          "data": {
            "application/vnd.jupyter.widget-view+json": {
              "model_id": "7c24b4bf912142318803f0e7536ce906",
              "version_minor": 0,
              "version_major": 2
            },
            "text/plain": [
              "HBox(children=(FloatProgress(value=0.0, description='Downloading', max=440473133.0, style=ProgressStyle(descri…"
            ]
          },
          "metadata": {
            "tags": []
          }
        },
        {
          "output_type": "stream",
          "text": [
            "\n"
          ],
          "name": "stdout"
        },
        {
          "output_type": "stream",
          "text": [
            "Some weights of the model checkpoint at bert-base-uncased were not used when initializing BertForMaskedLM: ['cls.seq_relationship.weight', 'cls.seq_relationship.bias']\n",
            "- This IS expected if you are initializing BertForMaskedLM from the checkpoint of a model trained on another task or with another architecture (e.g. initializing a BertForSequenceClassification model from a BertForPreTraining model).\n",
            "- This IS NOT expected if you are initializing BertForMaskedLM from the checkpoint of a model that you expect to be exactly identical (initializing a BertForSequenceClassification model from a BertForSequenceClassification model).\n"
          ],
          "name": "stderr"
        },
        {
          "output_type": "stream",
          "text": [
            "torch.Size([1, 4, 30522])\n",
            "['p', 'vol', 'math']\n",
            "p    vol    math\n"
          ],
          "name": "stdout"
        }
      ]
    }
  ]
}